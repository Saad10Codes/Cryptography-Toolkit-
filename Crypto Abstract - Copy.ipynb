{
 "cells": [
  {
   "cell_type": "code",
   "execution_count": 3,
   "id": "9cf5e51f",
   "metadata": {},
   "outputs": [],
   "source": [
    "def euclid_gcd(number_1, number_2):\n",
    "  if number_1 < number_2:\n",
    "    temp = number_1\n",
    "    number_1 = number_2\n",
    "    number_2 = temp\n",
    "\n",
    "  if number_2 == 0:\n",
    "    return number_1\n",
    "  else:\n",
    "    return euclid_gcd(number_2, number_1 % number_2)"
   ]
  },
  {
   "cell_type": "code",
   "execution_count": 4,
   "id": "b42ea14f",
   "metadata": {},
   "outputs": [],
   "source": [
    "def euler_totient(N):\n",
    "  relatively_prime_numbers = []\n",
    "  for i in range(1, N):\n",
    "    # if these are relatively prime\n",
    "    if euclid_gcd(N, i) == 1:\n",
    "      relatively_prime_numbers.append(i)\n",
    "\n",
    "  # print(relatively_prime_numbers)\n",
    "  return len(relatively_prime_numbers)"
   ]
  },
  {
   "cell_type": "code",
   "execution_count": 5,
   "id": "e8be0138",
   "metadata": {},
   "outputs": [],
   "source": [
    "def inverse_of_mod(number, mod):\n",
    "  if euclid_gcd(number, mod) != 1:\n",
    "    raise Exception(\"They must be relatively prime\")\n",
    "\n",
    "  i = 1\n",
    "  while True:\n",
    "    if number * i % mod == 1:\n",
    "      return i\n",
    "    i = i + 1"
   ]
  },
  {
   "cell_type": "code",
   "execution_count": 6,
   "id": "8d063983",
   "metadata": {},
   "outputs": [],
   "source": [
    "def chinese_remainder_theorem(numbers, mods):\n",
    "  M = 1\n",
    "  total = 0\n",
    "\n",
    "  # Find M\n",
    "  for mod in mods:\n",
    "    M = M * mod\n",
    "\n",
    "  # Find M1, M2, M3\n",
    "  for i in range(len(mods)):\n",
    "    m = M / mods[i]\n",
    "    reverse_m = inverse_of_mod(m, mods[i])\n",
    "    total = total + (numbers[i] * m * reverse_m)\n",
    "\n",
    "  return total % M"
   ]
  },
  {
   "cell_type": "code",
   "execution_count": 7,
   "id": "b1ded874",
   "metadata": {},
   "outputs": [
    {
     "name": "stdout",
     "output_type": "stream",
     "text": [
      "23.0\n"
     ]
    }
   ],
   "source": [
    "print(chinese_remainder_theorem([2,3,2],[3,5,7]))"
   ]
  },
  {
   "cell_type": "code",
   "execution_count": 8,
   "id": "9ecc424c",
   "metadata": {},
   "outputs": [],
   "source": [
    "def extended_euclid(number_1, number_2,t1,t2):\n",
    "    if number_1 < number_2:\n",
    "        temp = number_1\n",
    "        number_1 = number_2\n",
    "        number_2 = temp\n",
    "    if(number_2!=0):\n",
    "        q=int(number_1/number_2)\n",
    "        t=t1-t2*q\n",
    "        print(q)\n",
    "    if number_2 == 0:\n",
    "        return t1\n",
    "    else:\n",
    "        return extended_euclid(number_2, number_1 % number_2,t2,t)"
   ]
  },
  {
   "cell_type": "code",
   "execution_count": 9,
   "id": "345ba266",
   "metadata": {},
   "outputs": [
    {
     "name": "stdout",
     "output_type": "stream",
     "text": [
      "1\n",
      "1\n",
      "4\n",
      "2\n",
      "-9\n"
     ]
    }
   ],
   "source": [
    "print(extended_euclid(11,20,0,1))"
   ]
  },
  {
   "cell_type": "code",
   "execution_count": 10,
   "id": "99741180",
   "metadata": {},
   "outputs": [
    {
     "name": "stdout",
     "output_type": "stream",
     "text": [
      "7 is a quadratic residue modulo 9..: True\n"
     ]
    }
   ],
   "source": [
    "def is_quadratic_residue(a, m):\n",
    "  a %= m\n",
    "\n",
    "  for x in range(1, m):\n",
    "    if (x * x) % m == a:\n",
    "      return True\n",
    "  return False\n",
    "\n",
    "\n",
    "print(f\"7 is a quadratic residue modulo 9..: {is_quadratic_residue(7,9)}\")"
   ]
  },
  {
   "cell_type": "code",
   "execution_count": null,
   "id": "978acff8",
   "metadata": {},
   "outputs": [],
   "source": []
  }
 ],
 "metadata": {
  "kernelspec": {
   "display_name": "Python 3 (ipykernel)",
   "language": "python",
   "name": "python3"
  },
  "language_info": {
   "codemirror_mode": {
    "name": "ipython",
    "version": 3
   },
   "file_extension": ".py",
   "mimetype": "text/x-python",
   "name": "python",
   "nbconvert_exporter": "python",
   "pygments_lexer": "ipython3",
   "version": "3.11.5"
  }
 },
 "nbformat": 4,
 "nbformat_minor": 5
}
