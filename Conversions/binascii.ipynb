{
 "cells": [
  {
   "cell_type": "code",
   "execution_count": 1,
   "id": "58a5e882-46c6-4f4c-83c8-550a623479af",
   "metadata": {},
   "outputs": [
    {
     "name": "stdout",
     "output_type": "stream",
     "text": [
      "Hex Encoded: b'48656c6c6f2c20576f726c6421'\n",
      "Decoded Bytes: b'Hello, World!'\n"
     ]
    }
   ],
   "source": [
    "import binascii\n",
    "\n",
    "# Example byte data\n",
    "data = b\"Hello, World!\"\n",
    "\n",
    "# Convert bytes to hex\n",
    "hex_data = binascii.hexlify(data)\n",
    "print(f\"Hex Encoded: {hex_data}\")\n",
    "\n",
    "# Convert hex to bytes\n",
    "bytes_data = binascii.unhexlify(hex_data)\n",
    "print(f\"Decoded Bytes: {bytes_data}\")\n"
   ]
  },
  {
   "cell_type": "code",
   "execution_count": 2,
   "id": "3f96ce61-8e96-4e4c-9dc6-1bae81abc703",
   "metadata": {},
   "outputs": [
    {
     "name": "stdout",
     "output_type": "stream",
     "text": [
      "Hex Encoded: b'48656c6c6f2c20576f726c6421'\n",
      "Decoded Bytes: b'Hello, World!'\n",
      "Decoded UTF-8 String: Hello, World!\n"
     ]
    }
   ],
   "source": [
    "import binascii\n",
    "\n",
    "# Example UTF-8 string\n",
    "utf8_string = \"Hello, World!\"\n",
    "\n",
    "# Convert UTF-8 string to bytes\n",
    "byte_data = utf8_string.encode('utf-8')\n",
    "\n",
    "# Convert bytes to hex\n",
    "hex_data = binascii.hexlify(byte_data)\n",
    "print(f\"Hex Encoded: {hex_data}\")\n",
    "\n",
    "# Convert hex back to bytes\n",
    "decoded_bytes = binascii.unhexlify(hex_data)\n",
    "print(f\"Decoded Bytes: {decoded_bytes}\")\n",
    "\n",
    "# Convert bytes back to UTF-8 string\n",
    "decoded_string = decoded_bytes.decode('utf-8')\n",
    "print(f\"Decoded UTF-8 String: {decoded_string}\")\n"
   ]
  },
  {
   "cell_type": "code",
   "execution_count": 3,
   "id": "6eeb6884-31b5-4d9d-bdac-a4f1dd8ddefe",
   "metadata": {},
   "outputs": [
    {
     "name": "stdout",
     "output_type": "stream",
     "text": [
      "Binary String: 01001000011001010110110001101100011011110010110000100000010101110110111101110010011011000110010000100001\n",
      "Bytes from Binary String: b'Hello, World!'\n",
      "Decoded UTF-8 String from Binary: Hello, World!\n"
     ]
    }
   ],
   "source": [
    "# Example UTF-8 string\n",
    "utf8_string = \"Hello, World!\"\n",
    "\n",
    "# Convert UTF-8 string to bytes\n",
    "byte_data = utf8_string.encode('utf-8')\n",
    "\n",
    "# Convert bytes to binary string\n",
    "binary_string = ''.join(format(byte, '08b') for byte in byte_data)\n",
    "print(f\"Binary String: {binary_string}\")\n",
    "\n",
    "# Convert binary string back to bytes\n",
    "byte_data_from_bin = bytes(int(binary_string[i:i+8], 2) for i in range(0, len(binary_string), 8))\n",
    "print(f\"Bytes from Binary String: {byte_data_from_bin}\")\n",
    "\n",
    "# Convert bytes back to UTF-8 string\n",
    "decoded_string_from_bin = byte_data_from_bin.decode('utf-8')\n",
    "print(f\"Decoded UTF-8 String from Binary: {decoded_string_from_bin}\")\n"
   ]
  },
  {
   "cell_type": "code",
   "execution_count": null,
   "id": "2282bafb-fbb8-4670-a925-1d8b76e28005",
   "metadata": {},
   "outputs": [],
   "source": []
  }
 ],
 "metadata": {
  "kernelspec": {
   "display_name": "Python 3 (ipykernel)",
   "language": "python",
   "name": "python3"
  },
  "language_info": {
   "codemirror_mode": {
    "name": "ipython",
    "version": 3
   },
   "file_extension": ".py",
   "mimetype": "text/x-python",
   "name": "python",
   "nbconvert_exporter": "python",
   "pygments_lexer": "ipython3",
   "version": "3.11.5"
  }
 },
 "nbformat": 4,
 "nbformat_minor": 5
}
