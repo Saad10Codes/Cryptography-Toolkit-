{
 "cells": [
  {
   "cell_type": "code",
   "execution_count": 1,
   "id": "b4d8886e-be89-4c8d-a8c4-8d6490997461",
   "metadata": {},
   "outputs": [
    {
     "name": "stdout",
     "output_type": "stream",
     "text": [
      "Base64 Encoded: b'SGVsbG8sIFdvcmxkIQ=='\n",
      "Decoded Bytes: b'Hello, World!'\n"
     ]
    }
   ],
   "source": [
    "import base64\n",
    "\n",
    "# Example byte data\n",
    "data = b\"Hello, World!\"\n",
    "\n",
    "# Encode to base64\n",
    "encoded_data = base64.b64encode(data)\n",
    "print(f\"Base64 Encoded: {encoded_data}\")\n",
    "\n",
    "# Decode from base64\n",
    "decoded_data = base64.b64decode(encoded_data)\n",
    "print(f\"Decoded Bytes: {decoded_data}\")\n"
   ]
  },
  {
   "cell_type": "code",
   "execution_count": null,
   "id": "fa68052b-eb6e-496d-a68d-b88242afe221",
   "metadata": {},
   "outputs": [],
   "source": []
  }
 ],
 "metadata": {
  "kernelspec": {
   "display_name": "Python 3 (ipykernel)",
   "language": "python",
   "name": "python3"
  },
  "language_info": {
   "codemirror_mode": {
    "name": "ipython",
    "version": 3
   },
   "file_extension": ".py",
   "mimetype": "text/x-python",
   "name": "python",
   "nbconvert_exporter": "python",
   "pygments_lexer": "ipython3",
   "version": "3.11.5"
  }
 },
 "nbformat": 4,
 "nbformat_minor": 5
}
