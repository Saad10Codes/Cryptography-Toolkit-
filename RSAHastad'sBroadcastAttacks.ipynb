{
 "cells": [
  {
   "cell_type": "code",
   "execution_count": 31,
   "id": "c8ee6e81-fbf6-4804-835f-ea36bc61829e",
   "metadata": {},
   "outputs": [
    {
     "name": "stdout",
     "output_type": "stream",
     "text": [
      "4949494949496565656565657070 4949494949496565656565657070\n",
      "Recovered key: 11:11:11:AA:AA:AA:FF:\n"
     ]
    }
   ],
   "source": [
    "from sympy import mod_inverse, integer_nthroot\n",
    "from sympy.ntheory.modular import crt\n",
    "import binascii\n",
    "\n",
    "# Given data\n",
    "n1 = 4459740564724538700519142326997\n",
    "c1 = 191699250018696932235548276819\n",
    "\n",
    "n2 = 2281806784635143785292256501293\n",
    "c2 = 2262766903820045933008151262425\n",
    "\n",
    "n3 = 2467881921864340392351277277159\n",
    "c3 = 1643829619688527494120778009131\n",
    "\n",
    "# List of moduli and corresponding ciphertexts\n",
    "moduli = [n1, n2, n3]\n",
    "ciphertexts = [c1, c2, c3]\n",
    "\n",
    "# Combine the ciphertexts using the Chinese Remainder Theorem (CRT)\n",
    "C, N = crt(moduli, ciphertexts)\n",
    "\n",
    "# e is given as 3\n",
    "e = 3\n",
    "\n",
    "# Find the integer e-th root of the combined ciphertext\n",
    "m, exact = integer_nthroot(C, e)\n",
    "m_str=str(m)\n",
    "print(m, m_str)\n",
    "\n",
    "formatted_key=''\n",
    "for i in range (0,len(m_str)-1,4):\n",
    "    formatted_key+=chr(int(m_str[i:i+2]))+chr(int(m_str[i+2:i+4]))+':'\n",
    "\n",
    "# Display the result\n",
    "print(f\"Recovered key: {formatted_key}\")\n"
   ]
  },
  {
   "cell_type": "code",
   "execution_count": null,
   "id": "5b38fff9-402d-44f5-9c98-e679a6b19d8b",
   "metadata": {},
   "outputs": [],
   "source": []
  }
 ],
 "metadata": {
  "kernelspec": {
   "display_name": "Python 3 (ipykernel)",
   "language": "python",
   "name": "python3"
  },
  "language_info": {
   "codemirror_mode": {
    "name": "ipython",
    "version": 3
   },
   "file_extension": ".py",
   "mimetype": "text/x-python",
   "name": "python",
   "nbconvert_exporter": "python",
   "pygments_lexer": "ipython3",
   "version": "3.11.5"
  }
 },
 "nbformat": 4,
 "nbformat_minor": 5
}
