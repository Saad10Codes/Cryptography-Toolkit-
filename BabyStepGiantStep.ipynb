{
 "cells": [
  {
   "cell_type": "code",
   "execution_count": 1,
   "id": "2f112683-cf73-41a2-9119-517a5f2163fe",
   "metadata": {},
   "outputs": [
    {
     "name": "stdout",
     "output_type": "stream",
     "text": [
      "The discrete logarithm x is: 117\n"
     ]
    }
   ],
   "source": [
    "def discrete_log_bsgs(y, g, p):\n",
    "    m = int(p ** 0.5) + 1\n",
    "    \n",
    "    # Precompute values of g^(m * j) for j = 0, 1, ..., m-1\n",
    "    precomputed_values = {pow(g, j, p): j for j in range(m)}\n",
    "    \n",
    "    # Calculate g^(-m) mod p\n",
    "    g_inv_m = pow(g, -m, p)\n",
    "    \n",
    "    # Search for a match (g^x, x) in the precomputed values\n",
    "    for i in range(m):\n",
    "        y_times_g_inv_m = (y * pow(g_inv_m, i, p)) % p\n",
    "        if y_times_g_inv_m in precomputed_values:\n",
    "            x = i * m + precomputed_values[y_times_g_inv_m]\n",
    "            return x\n",
    "\n",
    "# Given parameters\n",
    "y = 31\n",
    "g = 23\n",
    "p = 137\n",
    "\n",
    "# Find the discrete logarithm x\n",
    "x = discrete_log_bsgs(y, g, p)\n",
    "\n",
    "print(\"The discrete logarithm x is:\", x)\n"
   ]
  },
  {
   "cell_type": "code",
   "execution_count": null,
   "id": "c41f890e-2354-4cd1-8737-8229def8d581",
   "metadata": {},
   "outputs": [],
   "source": [
    "import gmpy2\n",
    "\n",
    "def discrete_log_bsgs(y, g, p):\n",
    "    y = gmpy2.mpz(y)\n",
    "    g = gmpy2.mpz(g)\n",
    "    p = gmpy2.mpz(p)\n",
    "    \n",
    "    m = int(gmpy2.isqrt(p)) + 1\n",
    "    \n",
    "    # Precompute values of g^(m * j) for j = 0, 1, ..., m-1\n",
    "    precomputed_values = {gmpy2.powmod(g, j, p): j for j in range(m)}\n",
    "    \n",
    "    # Calculate g^(-m) mod p\n",
    "    g_inv_m = gmpy2.powmod(g, -m, p)\n",
    "    \n",
    "    # Search for a match (g^x, x) in the precomputed values\n",
    "    for i in range(m):\n",
    "        y_times_g_inv_m = (y * gmpy2.powmod(g_inv_m, i, p)) % p\n",
    "        if y_times_g_inv_m in precomputed_values:\n",
    "            x = i * m + precomputed_values[y_times_g_inv_m]\n",
    "            return x\n",
    "\n",
    "# Given parameters\n",
    "y = 662665769968749167308847812463775948723123172057852384872494424776261606541089360550944167\n",
    "g = 1097857824711878104338896316622972219971143817996161931995735484700426189236736377445763810\n",
    "p = 1167290455031706531387695250349521076958635505626068245729867131656444919329406116418184053\n",
    "\n",
    "# Find the discrete logarithm x\n",
    "x = discrete_log_bsgs(y, g, p)\n",
    "\n",
    "print(\"The discrete logarithm x is:\", x)\n"
   ]
  },
  {
   "cell_type": "code",
   "execution_count": null,
   "id": "bd07ace9-4ace-4ff1-baff-e1f7f21c1fc1",
   "metadata": {},
   "outputs": [],
   "source": []
  }
 ],
 "metadata": {
  "kernelspec": {
   "display_name": "Python 3 (ipykernel)",
   "language": "python",
   "name": "python3"
  },
  "language_info": {
   "codemirror_mode": {
    "name": "ipython",
    "version": 3
   },
   "file_extension": ".py",
   "mimetype": "text/x-python",
   "name": "python",
   "nbconvert_exporter": "python",
   "pygments_lexer": "ipython3",
   "version": "3.11.5"
  }
 },
 "nbformat": 4,
 "nbformat_minor": 5
}
