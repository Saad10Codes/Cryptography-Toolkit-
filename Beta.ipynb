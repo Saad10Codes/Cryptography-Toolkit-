{
 "cells": [
  {
   "cell_type": "code",
   "execution_count": 1,
   "id": "9eb740a5",
   "metadata": {},
   "outputs": [
    {
     "name": "stdout",
     "output_type": "stream",
     "text": [
      "(()))\n",
      "1\n"
     ]
    }
   ],
   "source": [
    "inp=input()\n",
    "c1=0\n",
    "c2=0\n",
    "for i in inp:\n",
    "    if i=='(':\n",
    "        c1+=1\n",
    "    elif i==')':\n",
    "        c2+=1\n",
    "if c1==c2:\n",
    "    print(0)\n",
    "else:\n",
    "    print(1)"
   ]
  },
  {
   "cell_type": "code",
   "execution_count": 1,
   "id": "b3c24c97",
   "metadata": {},
   "outputs": [
    {
     "name": "stdout",
     "output_type": "stream",
     "text": [
      "1 2 3\n",
      "1 2 3\n",
      "23\n"
     ]
    },
    {
     "ename": "IndexError",
     "evalue": "list index out of range",
     "output_type": "error",
     "traceback": [
      "\u001b[1;31m---------------------------------------------------------------------------\u001b[0m",
      "\u001b[1;31mIndexError\u001b[0m                                Traceback (most recent call last)",
      "\u001b[1;32m<ipython-input-1-6751be4a1f07>\u001b[0m in \u001b[0;36m<module>\u001b[1;34m\u001b[0m\n\u001b[0;32m      5\u001b[0m     \u001b[0mli\u001b[0m\u001b[1;33m[\u001b[0m\u001b[0mi\u001b[0m\u001b[1;33m]\u001b[0m\u001b[1;33m=\u001b[0m\u001b[0mlist\u001b[0m\u001b[1;33m(\u001b[0m\u001b[0mmap\u001b[0m\u001b[1;33m(\u001b[0m\u001b[0mint\u001b[0m\u001b[1;33m,\u001b[0m\u001b[0minp\u001b[0m\u001b[1;33m)\u001b[0m\u001b[1;33m)\u001b[0m\u001b[1;33m\u001b[0m\u001b[1;33m\u001b[0m\u001b[0m\n\u001b[0;32m      6\u001b[0m \u001b[1;32mfor\u001b[0m \u001b[0mj\u001b[0m \u001b[1;32min\u001b[0m \u001b[0mrange\u001b[0m\u001b[1;33m(\u001b[0m\u001b[1;36m3\u001b[0m\u001b[1;33m)\u001b[0m\u001b[1;33m:\u001b[0m\u001b[1;33m\u001b[0m\u001b[1;33m\u001b[0m\u001b[0m\n\u001b[1;32m----> 7\u001b[1;33m     \u001b[0ms\u001b[0m\u001b[1;33m+=\u001b[0m\u001b[0mli\u001b[0m\u001b[1;33m[\u001b[0m\u001b[0mj\u001b[0m\u001b[1;33m]\u001b[0m\u001b[1;33m[\u001b[0m\u001b[0mj\u001b[0m\u001b[1;33m]\u001b[0m\u001b[1;33m\u001b[0m\u001b[1;33m\u001b[0m\u001b[0m\n\u001b[0m\u001b[0;32m      8\u001b[0m \u001b[0mprint\u001b[0m\u001b[1;33m(\u001b[0m\u001b[0ms\u001b[0m\u001b[1;33m)\u001b[0m\u001b[1;33m\u001b[0m\u001b[1;33m\u001b[0m\u001b[0m\n",
      "\u001b[1;31mIndexError\u001b[0m: list index out of range"
     ]
    }
   ],
   "source": [
    "li=[[0]*10]*10\n",
    "s=0\n",
    "for i in range(3):\n",
    "    inp=input().split()\n",
    "    li[i]=list(map(int,inp))\n",
    "for j in range(3):\n",
    "    s+=li[j][j]\n",
    "print(s)"
   ]
  },
  {
   "cell_type": "code",
   "execution_count": 1,
   "id": "4556875c",
   "metadata": {},
   "outputs": [],
   "source": [
    "def func():\n",
    "    t=int(input())\n",
    "    string1=input().split()\n",
    "    list1=list(map(int,string1))\n",
    "    for i in list1:\n",
    "        m=2**i\n",
    "        while True:\n",
    "            string=str(m).split()\n",
    "            li=list(map(int,string))\n",
    "            s=sum(li)\n",
    "            if s<=9:\n",
    "                break\n",
    "            else:\n",
    "                m=s\n",
    "        print(s)"
   ]
  },
  {
   "cell_type": "code",
   "execution_count": null,
   "id": "ca9724c9",
   "metadata": {},
   "outputs": [
    {
     "name": "stdout",
     "output_type": "stream",
     "text": [
      "1\n",
      "34\n"
     ]
    }
   ],
   "source": [
    "func()"
   ]
  },
  {
   "cell_type": "code",
   "execution_count": 1,
   "id": "b43d5691",
   "metadata": {},
   "outputs": [
    {
     "name": "stdout",
     "output_type": "stream",
     "text": [
      "['3454']\n"
     ]
    }
   ],
   "source": [
    "m=3454\n",
    "string=str(m).split()\n"
   ]
  },
  {
   "cell_type": "code",
   "execution_count": 5,
   "id": "2b568ef5",
   "metadata": {},
   "outputs": [],
   "source": [
    "string1='djbvlsjgbkdfbvLSKDJVN'\n",
    "string2=str(sorted(string1))"
   ]
  },
  {
   "cell_type": "code",
   "execution_count": 7,
   "id": "b32865cb",
   "metadata": {},
   "outputs": [
    {
     "name": "stdout",
     "output_type": "stream",
     "text": [
      "['D', 'J', 'K', 'L', 'N', 'S', 'V', 'b', 'b', 'b', 'd', 'd', 'f', 'g', 'j', 'j', 'k', 'l', 's', 'v', 'v']\n"
     ]
    }
   ],
   "source": [
    "print(string2)"
   ]
  },
  {
   "cell_type": "code",
   "execution_count": null,
   "id": "413802e7",
   "metadata": {},
   "outputs": [],
   "source": [
    "n=int(input())\n",
    "list1=[]\n",
    "for i in range(n):\n",
    "    string1=input()\n",
    "    list1.append(string1)\n",
    "list1.sort()\n",
    "q=int(input())\n",
    "for i in range(q):\n",
    "    string=input().split()\n",
    "    li1=list(map(int,string))\n",
    "    new_string=''\n",
    "    for i in range(li[0],li[1]):\n",
    "        new_string+=list1[i]\n",
    "    ch=new_string[li[2]]\n",
    "    print(ch)"
   ]
  },
  {
   "cell_type": "code",
   "execution_count": 11,
   "id": "b8efc623",
   "metadata": {},
   "outputs": [
    {
     "name": "stdout",
     "output_type": "stream",
     "text": [
      "True\n"
     ]
    }
   ],
   "source": [
    "n=454\n",
    "sn=str(n)\n",
    "b=sn==sn[::-1]\n",
    "print(b)"
   ]
  },
  {
   "cell_type": "code",
   "execution_count": 9,
   "id": "2bc64036",
   "metadata": {},
   "outputs": [
    {
     "name": "stdout",
     "output_type": "stream",
     "text": [
      "daaqs\n"
     ]
    }
   ],
   "source": [
    "print(sn1)"
   ]
  },
  {
   "cell_type": "code",
   "execution_count": 1,
   "id": "c82b9ce2",
   "metadata": {},
   "outputs": [],
   "source": [
    "def isPower(arr):\n",
    "    li=[]\n",
    "    for i in arr:\n",
    "        \n",
    "    print(li)"
   ]
  },
  {
   "cell_type": "code",
   "execution_count": 2,
   "id": "a01e5675",
   "metadata": {},
   "outputs": [
    {
     "name": "stdout",
     "output_type": "stream",
     "text": [
      "[1, 1, 0, 0, 0]\n"
     ]
    }
   ],
   "source": [
    "isPower([2,4,6,9,10])"
   ]
  },
  {
   "cell_type": "code",
   "execution_count": 5,
   "id": "5e594a76",
   "metadata": {},
   "outputs": [],
   "source": [
    "def maxXor(lo,hi,k):\n",
    "    li=[]\n",
    "    c=0\n",
    "    for i in range(lo,hi+1):\n",
    "        li.append(i)\n",
    "    for i in range(len(li)-1):\n",
    "        if (li[i]^li[i+1]<=k):\n",
    "            c+=1\n",
    "    print(c)\n",
    "    "
   ]
  },
  {
   "cell_type": "code",
   "execution_count": 6,
   "id": "fe3bb217",
   "metadata": {},
   "outputs": [
    {
     "name": "stdout",
     "output_type": "stream",
     "text": [
      "2\n"
     ]
    }
   ],
   "source": [
    "maxXor(1,4,3)"
   ]
  },
  {
   "cell_type": "code",
   "execution_count": null,
   "id": "0c43fb42",
   "metadata": {},
   "outputs": [],
   "source": [
    "def SSE(a):\n",
    "    b=a\n",
    "    b.sort()\n",
    "    c=0\n",
    "    for i in range(len(a)):\n",
    "        ifa[i]==b[i]:\n",
    "            c+=1\n",
    "    return c\n",
    "    \n",
    "        "
   ]
  },
  {
   "cell_type": "code",
   "execution_count": 3,
   "id": "b7cd2545",
   "metadata": {},
   "outputs": [
    {
     "name": "stdout",
     "output_type": "stream",
     "text": [
      "1233345\n",
      "9\n"
     ]
    }
   ],
   "source": [
    "bill_amount=input()\n",
    "digits=list(map(int,bill_amount))\n",
    "sum_o=0\n",
    "sum_e=0\n",
    "for i in digits:\n",
    "    if i%2==0:\n",
    "        sum_e+=i\n",
    "    else :\n",
    "        sum_o+=i\n",
    "voucher=sum_e-sum_o if sum_e>=sum_o else sum_o-sum_e\n",
    "print(voucher)"
   ]
  },
  {
   "cell_type": "code",
   "execution_count": 1,
   "id": "25bdb417",
   "metadata": {},
   "outputs": [
    {
     "name": "stdout",
     "output_type": "stream",
     "text": [
      "5\n",
      "12 43 345 543 3423\n",
      "3 7 12 12 12 \n"
     ]
    }
   ],
   "source": [
    "n_events=int(input())\n",
    "ids=input()\n",
    "ids1=ids.split()\n",
    "event_list=list(map(int,ids1))\n",
    "participants=''\n",
    "for i in event_list:\n",
    "    sume=0\n",
    "    while i>0:\n",
    "        sume+=i%10\n",
    "        i=i//10\n",
    "    participants+=str(sume)+' '\n",
    "print(participants)"
   ]
  },
  {
   "cell_type": "code",
   "execution_count": 5,
   "id": "7995588f",
   "metadata": {},
   "outputs": [
    {
     "name": "stdout",
     "output_type": "stream",
     "text": [
      "1\n",
      "2\n",
      "3\n",
      "4\n",
      "5\n",
      "1\n",
      "3\n",
      "6\n",
      "10\n",
      "15\n"
     ]
    }
   ],
   "source": [
    "li=[]\n",
    "for i in range(5):\n",
    "    inp=int(input())\n",
    "    li.append(inp)\n",
    "li2=[]\n",
    "sum1=0\n",
    "for i in li:\n",
    "    sum1=sum1+i\n",
    "    li2.append(sum1)\n",
    "    \n",
    "for i in li2:\n",
    "    print(str(i))\n",
    "    "
   ]
  },
  {
   "cell_type": "markdown",
   "id": "5f088635",
   "metadata": {},
   "source": [
    "##### "
   ]
  }
 ],
 "metadata": {
  "kernelspec": {
   "display_name": "tensorflow1",
   "language": "python",
   "name": "tensorflow1"
  },
  "language_info": {
   "codemirror_mode": {
    "name": "ipython",
    "version": 3
   },
   "file_extension": ".py",
   "mimetype": "text/x-python",
   "name": "python",
   "nbconvert_exporter": "python",
   "pygments_lexer": "ipython3",
   "version": "3.8.8"
  }
 },
 "nbformat": 4,
 "nbformat_minor": 5
}
