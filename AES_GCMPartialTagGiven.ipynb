{
 "cells": [
  {
   "cell_type": "code",
   "execution_count": 6,
   "id": "ef960e61-08f3-4be5-b513-383e5a687f38",
   "metadata": {},
   "outputs": [
    {
     "name": "stdout",
     "output_type": "stream",
     "text": [
      "b'q\\xdeT\\x0c4\\x95\\xa3\\xc6\\xc1AH\\xc58\\xcb\\xfe\\xa5D\\x087h\\xcd,\\xed`H\\xfb\\x8c7).\\xddp' \n",
      " b'\\xc2\\xff[=\\x19P\\x86nB\\xe6\\xe0\\x87\\xa4x;\\x1e\\xbb\\x93\\xa4\\x97\\xdb' \n",
      " b'\\xeb\\x957\\x8ce\\xf3\\xc6o8\\x99\\\\\\xed'\n"
     ]
    }
   ],
   "source": [
    "import binascii\n",
    "import base64\n",
    "\n",
    "encrypted_text = base64.b64decode('wv9bPRlQhm5C5uCHpHg7HruTpJfb')\n",
    "nonce_init=base64.b64decode('65U3jGXzxm84mVzt')\n",
    "key= binascii.unhexlify('71DE540C3495A3C6C14148C538CBFEA544083768CD2CED6048FB8C37292EDD70')\n",
    "print(key,'\\n',encrypted_text,'\\n',nonce_init)\n",
    "GCM_TAG_LENGTH=128\n"
   ]
  },
  {
   "cell_type": "code",
   "execution_count": 25,
   "id": "64974973-e1b3-4b33-af3d-8126d2ccb277",
   "metadata": {},
   "outputs": [
    {
     "name": "stdout",
     "output_type": "stream",
     "text": [
      "b'ab'\n"
     ]
    }
   ],
   "source": [
    "from Crypto.Cipher import AES\n",
    "from Crypto.Util.Padding import pad,unpad\n",
    "\n",
    "def get_plain_text(encrypted_text,nonce_init,key):\n",
    "\n",
    "    cipher=AES.new(key,AES.MODE_GCM,nonce=nonce_init)\n",
    "    header=bytes('a')+bytes('b')\n",
    "    print(header)\n",
    "header=('ab'.encode('utf-8').hex())\n",
    "header=bytes.fromhex(str(header))\n",
    "print(header)"
   ]
  },
  {
   "cell_type": "code",
   "execution_count": null,
   "id": "1c52e546-6448-4172-82b6-e08c9058e1aa",
   "metadata": {},
   "outputs": [],
   "source": []
  }
 ],
 "metadata": {
  "kernelspec": {
   "display_name": "Python 3 (ipykernel)",
   "language": "python",
   "name": "python3"
  },
  "language_info": {
   "codemirror_mode": {
    "name": "ipython",
    "version": 3
   },
   "file_extension": ".py",
   "mimetype": "text/x-python",
   "name": "python",
   "nbconvert_exporter": "python",
   "pygments_lexer": "ipython3",
   "version": "3.11.5"
  }
 },
 "nbformat": 4,
 "nbformat_minor": 5
}
