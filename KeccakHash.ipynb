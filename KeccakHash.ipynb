{
 "cells": [
  {
   "cell_type": "code",
   "execution_count": 38,
   "id": "3f8e1809-5b79-41c6-becf-c1fda968ce0a",
   "metadata": {},
   "outputs": [
    {
     "name": "stdout",
     "output_type": "stream",
     "text": [
      "b\"\\xe8\\xff\\\\\\xf0`\\xcf\\xdfX\\xed'\\xb7@[q6a\\x12\\x9a\\xfa{V\\xdd\\x84\\x1d\\xf9\\xd2\\xf9\\xe5\\xb3\\x8c\\xbb\\x84\\x1a\\xf0\\xb8@\\xd0ax,\\xc6j\\xb75\\x90\\x95 \\xf1\\xaa\\xb9\\xf5\\x81\\xa7#\\x0byHR\\xea\\xcaQ\\xe5\\xa6\\xf3\"\n",
      "b\"\\xe8\\xff\\\\\\xf0`\\xcf\\xdfX\\xed'\\xb7@[q6a\\x12\\x9a\\xfa{V\\xdd\\x84\\x1d\\xf9\\xd2\\xf9\\xe5\\xb3\\x8c\\xbb\\x84\\x1a\\xf0\\xb8@\\xd0ax,\\xc6j\\xb75\\x90\\x95 \\xf1\\xaa\\xb9\\xf5\\x81\\xa7#\\x0byeR\\xea\\xcaQ\\xe5\\xa6\\xf3\"\n"
     ]
    }
   ],
   "source": [
    "from Crypto.Hash import SHA3_512\n",
    "import base64\n",
    "\n",
    "hash = SHA3_512.new()\n",
    "hash.update(b'This is the message to Keccak-512 MAC!()!')\n",
    "print (hash.digest())\n",
    "print(base64.b64decode('6P9c8GDP31jtJ7dAW3E2YRKa+ntW3YQd+dL55bOMu4Qa8LhA0GF4LMZqtzWQlSDxqrn1gacjC3llUurKUeWm8w=='))"
   ]
  },
  {
   "cell_type": "code",
   "execution_count": 42,
   "id": "7961f71d-1b3e-458d-a7f7-87224e1f3d1c",
   "metadata": {},
   "outputs": [
    {
     "name": "stdout",
     "output_type": "stream",
     "text": [
      "b\"\\xe8\\xff\\\\\\xf0`\\xcf\\xdfX\\xed'\\xb7@[q6a\\x12\\x9a\\xfa{V\\xdd\\x84\\x1d\\xf9\\xd2\\xf9\\xe5\\xb3\\x8c\\xbb\\x84\\x1a\\xf0\\xb8@\\xd0ax,\\xc6j\\xb75\\x90\\x95 \\xf1\\xaa\\xb9\\xf5\\x81\\xa7#\\x0byHR\\xea\\xcaQ\\xe5\\xa6\\xf3\" \n",
      " b\"\\xe8\\xff\\\\\\xf0`\\xcf\\xdfX\\xed'\\xb7@[q6a\\x12\\x9a\\xfa{V\\xdd\\x84\\x1d\\xf9\\xd2\\xf9\\xe5\\xb3\\x8c\\xbb\\x84\\x1a\\xf0\\xb8@\\xd0ax,\\xc6j\\xb75\\x90\\x95 \\xf1\\xaa\\xb9\\xf5\\x81\\xa7#\\x0byHR\\xea\\xcaQ\\xe5\\xa6\\xf3\"\n",
      "The pin is 40 41 33\n"
     ]
    }
   ],
   "source": [
    "hash_val=base64.b64decode('6P9c8GDP31jtJ7dAW3E2YRKa+ntW3YQd+dL55bOMu4Qa8LhA0GF4LMZqtzWQlSDxqrn1gacjC3lIUurKUeWm8w==')\n",
    "partial_message='This is the message to Keccak-512 MAC'\n",
    "partial_bytes=partial_message.encode('utf-8')\n",
    "pin='!'\n",
    "\n",
    "for i in range(32,51):\n",
    "    for j in range(32,51):\n",
    "        for k in range(32,51):\n",
    "            finalpin=pin+chr(i)+chr(j)+chr(k)\n",
    "                \n",
    "            pin_bytes=finalpin.encode('utf-8')\n",
    "            finalbytes=partial_bytes+pin_bytes\n",
    "            hash = SHA3_512.new()\n",
    "            hash.update(finalbytes)\n",
    "            if finalpin=='!()!':\n",
    "                print(hash.digest(),'\\n',hash_val)\n",
    "            if hash.digest()==hash_val:\n",
    "                print(\"The pin is\",i,j,k)\n",
    "             "
   ]
  },
  {
   "cell_type": "code",
   "execution_count": 9,
   "id": "58b1fb4a-1417-4e4d-8e13-e7e7c875b56c",
   "metadata": {},
   "outputs": [
    {
     "name": "stdout",
     "output_type": "stream",
     "text": [
      "-\n"
     ]
    }
   ],
   "source": [
    "print(chr(45))"
   ]
  },
  {
   "cell_type": "code",
   "execution_count": null,
   "id": "97156a26-1325-416a-aa8e-60a7c9c883b2",
   "metadata": {},
   "outputs": [],
   "source": []
  }
 ],
 "metadata": {
  "kernelspec": {
   "display_name": "Python 3 (ipykernel)",
   "language": "python",
   "name": "python3"
  },
  "language_info": {
   "codemirror_mode": {
    "name": "ipython",
    "version": 3
   },
   "file_extension": ".py",
   "mimetype": "text/x-python",
   "name": "python",
   "nbconvert_exporter": "python",
   "pygments_lexer": "ipython3",
   "version": "3.11.5"
  }
 },
 "nbformat": 4,
 "nbformat_minor": 5
}
