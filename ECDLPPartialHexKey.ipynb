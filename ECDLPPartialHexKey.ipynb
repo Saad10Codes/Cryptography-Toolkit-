{
 "cells": [
  {
   "cell_type": "code",
   "execution_count": 1,
   "id": "ca0f2698-7dbf-4f7a-b33a-2bdc4883de34",
   "metadata": {},
   "outputs": [
    {
     "ename": "AssertionError",
     "evalue": "",
     "output_type": "error",
     "traceback": [
      "\u001b[1;31m---------------------------------------------------------------------------\u001b[0m",
      "\u001b[1;31mAssertionError\u001b[0m                            Traceback (most recent call last)",
      "Cell \u001b[1;32mIn[1], line 18\u001b[0m\n\u001b[0;32m     15\u001b[0m Qx \u001b[38;5;241m=\u001b[39m \u001b[38;5;241m19367419\u001b[39m\n\u001b[0;32m     16\u001b[0m Qy \u001b[38;5;241m=\u001b[39m \u001b[38;5;241m29346569\u001b[39m\n\u001b[1;32m---> 18\u001b[0m P \u001b[38;5;241m=\u001b[39m \u001b[43mPoint\u001b[49m\u001b[43m(\u001b[49m\u001b[43mcurve\u001b[49m\u001b[43m,\u001b[49m\u001b[43m \u001b[49m\u001b[43mPx\u001b[49m\u001b[43m,\u001b[49m\u001b[43m \u001b[49m\u001b[43mPy\u001b[49m\u001b[43m)\u001b[49m\n\u001b[0;32m     19\u001b[0m Q \u001b[38;5;241m=\u001b[39m Point(curve, Qx, Qy)\n\u001b[0;32m     21\u001b[0m \u001b[38;5;66;03m# Private key\u001b[39;00m\n",
      "File \u001b[1;32m~\\AppData\\Roaming\\Python\\Python311\\site-packages\\ecdsa\\ellipticcurve.py:1102\u001b[0m, in \u001b[0;36mPoint.__init__\u001b[1;34m(self, curve, x, y, order)\u001b[0m\n\u001b[0;32m   1100\u001b[0m \u001b[38;5;66;03m# self.curve is allowed to be None only for INFINITY:\u001b[39;00m\n\u001b[0;32m   1101\u001b[0m \u001b[38;5;28;01mif\u001b[39;00m \u001b[38;5;28mself\u001b[39m\u001b[38;5;241m.\u001b[39m__curve:\n\u001b[1;32m-> 1102\u001b[0m     \u001b[38;5;28;01massert\u001b[39;00m \u001b[38;5;28mself\u001b[39m\u001b[38;5;241m.\u001b[39m__curve\u001b[38;5;241m.\u001b[39mcontains_point(x, y)\n\u001b[0;32m   1103\u001b[0m \u001b[38;5;66;03m# for curves with cofactor 1, all points that are on the curve are\u001b[39;00m\n\u001b[0;32m   1104\u001b[0m \u001b[38;5;66;03m# scalar multiples of the base point, so performing multiplication is\u001b[39;00m\n\u001b[0;32m   1105\u001b[0m \u001b[38;5;66;03m# not necessary to verify that. See Section 3.2.2.1 of SEC 1 v2\u001b[39;00m\n\u001b[0;32m   1106\u001b[0m \u001b[38;5;28;01mif\u001b[39;00m curve \u001b[38;5;129;01mand\u001b[39;00m curve\u001b[38;5;241m.\u001b[39mcofactor() \u001b[38;5;241m!=\u001b[39m \u001b[38;5;241m1\u001b[39m \u001b[38;5;129;01mand\u001b[39;00m order:\n",
      "\u001b[1;31mAssertionError\u001b[0m: "
     ]
    }
   ],
   "source": [
    "from ecdsa.ellipticcurve import CurveFp, Point\n",
    "from ecdsa.ecdsa import Public_key, Private_key\n",
    "from hashlib import sha3_256\n",
    "\n",
    "# Elliptic curve parameters\n",
    "p = 29615609\n",
    "a = 29863727\n",
    "b = -10774524\n",
    "\n",
    "curve = CurveFp(p, a, b)\n",
    "\n",
    "# Points on the curve\n",
    "Px = 10634642\n",
    "Py = 343238\n",
    "Qx = 19367419\n",
    "Qy = 29346569\n",
    "\n",
    "P = Point(curve, Px, Py)\n",
    "Q = Point(curve, Qx, Qy)\n",
    "\n",
    "# Private key\n",
    "s = 9336636\n",
    "\n",
    "# Compute the shared secret: s * Q\n",
    "shared_secret = s * Q\n",
    "shared_secret_x = shared_secret.x()\n",
    "\n",
    "# Ciphertext (x, y)\n",
    "ciphertext_x = 115954843\n",
    "ciphertext_y = 23126261\n",
    "\n",
    "# Recover the partial hex key by XORing the ciphertext x-coordinate with the shared secret x-coordinate\n",
    "partial_hex_key = ciphertext_x ^ shared_secret_x\n",
    "\n",
    "# Convert to hex and format the result\n",
    "partial_hex_key_hex = format(partial_hex_key, 'X').zfill(6)\n",
    "formatted_key = ':'.join(partial_hex_key_hex[i:i+2] for i in range(0, len(partial_hex_key_hex), 2))\n",
    "\n",
    "print(f\"Recovered partial hex key: {formatted_key}\")\n"
   ]
  },
  {
   "cell_type": "code",
   "execution_count": null,
   "id": "37b5ea32-c9ae-42d6-9efd-9f8238e39057",
   "metadata": {},
   "outputs": [],
   "source": []
  }
 ],
 "metadata": {
  "kernelspec": {
   "display_name": "Python 3 (ipykernel)",
   "language": "python",
   "name": "python3"
  },
  "language_info": {
   "codemirror_mode": {
    "name": "ipython",
    "version": 3
   },
   "file_extension": ".py",
   "mimetype": "text/x-python",
   "name": "python",
   "nbconvert_exporter": "python",
   "pygments_lexer": "ipython3",
   "version": "3.11.5"
  }
 },
 "nbformat": 4,
 "nbformat_minor": 5
}
