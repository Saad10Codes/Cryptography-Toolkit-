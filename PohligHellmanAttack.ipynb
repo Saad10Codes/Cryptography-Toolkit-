{
 "cells": [
  {
   "cell_type": "code",
   "execution_count": 4,
   "id": "ef96880a-c0e2-4299-80b9-d57cfe1fd76a",
   "metadata": {},
   "outputs": [
    {
     "name": "stdout",
     "output_type": "stream",
     "text": [
      "The discrete logarithm of 75 base 2 mod 101 is 17\n"
     ]
    }
   ],
   "source": [
    "from sympy import mod_inverse, isprime, factorint, discrete_log\n",
    "from sympy.ntheory.modular import crt\n",
    "\n",
    "def pohlig_hellman(g, h, p):\n",
    "    # Factorize the order of the group\n",
    "    n = p - 1\n",
    "    factors = factorint(n)\n",
    "    \n",
    "    # Store results for each factor\n",
    "    logs = []\n",
    "    moduli = []\n",
    "    \n",
    "    for q, e in factors.items():\n",
    "        qe = q ** e\n",
    "        \n",
    "        # Compute g^(n/qe) and h^(n/qe)\n",
    "        g_qe = pow(g, n // qe, p)\n",
    "        h_qe = pow(h, n // qe, p)\n",
    "        \n",
    "        try:\n",
    "            # Solve the discrete log in the smaller subgroup\n",
    "            dlog = discrete_log(p, h_qe, g_qe)\n",
    "        except ValueError:\n",
    "            print(f\"No discrete log found for subgroup of order {qe}\")\n",
    "            return None\n",
    "        \n",
    "        logs.append(dlog)\n",
    "        moduli.append(qe)\n",
    "    \n",
    "    # Combine results using the Chinese Remainder Theorem\n",
    "    x, _ = crt(moduli, logs)\n",
    "    \n",
    "    return x\n",
    "\n",
    "# Example usage\n",
    "g = 2\n",
    "h = 75\n",
    "p = 101\n",
    "\n",
    "log = pohlig_hellman(g, h, p)\n",
    "if log is not None:\n",
    "    print(f\"The discrete logarithm of {h} base {g} mod {p} is {log}\")\n",
    "else:\n",
    "    print(\"No discrete logarithm found for the given parameters.\")\n"
   ]
  },
  {
   "cell_type": "code",
   "execution_count": null,
   "id": "5a830165-dd64-4540-824d-cca6265df1d4",
   "metadata": {},
   "outputs": [],
   "source": []
  }
 ],
 "metadata": {
  "kernelspec": {
   "display_name": "Python 3 (ipykernel)",
   "language": "python",
   "name": "python3"
  },
  "language_info": {
   "codemirror_mode": {
    "name": "ipython",
    "version": 3
   },
   "file_extension": ".py",
   "mimetype": "text/x-python",
   "name": "python",
   "nbconvert_exporter": "python",
   "pygments_lexer": "ipython3",
   "version": "3.11.5"
  }
 },
 "nbformat": 4,
 "nbformat_minor": 5
}
