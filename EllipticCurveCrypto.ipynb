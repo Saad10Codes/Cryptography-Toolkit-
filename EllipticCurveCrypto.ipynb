{
 "cells": [
  {
   "cell_type": "code",
   "execution_count": 1,
   "id": "25761c0a-d155-4a95-bca0-3984c5b48d2a",
   "metadata": {},
   "outputs": [],
   "source": [
    "from sympy import mod_inverse"
   ]
  },
  {
   "cell_type": "code",
   "execution_count": 2,
   "id": "11d3bebd-e15d-41a7-860f-602782f7e58d",
   "metadata": {},
   "outputs": [],
   "source": [
    "def double_point(x,y,a,p):\n",
    "    m = (3 * x**2 + a) * mod_inverse(2 * y, p) % p\n",
    "    x3 = (m**2 - x - x) % p\n",
    "    y3 = (m * (x - x3) - y) % p\n",
    "    return (x3,y3)"
   ]
  },
  {
   "cell_type": "code",
   "execution_count": 12,
   "id": "b883da06-f9d6-4a1a-a447-8ebb962be989",
   "metadata": {},
   "outputs": [],
   "source": [
    "def add_point(x1,x2,y1,y2,a,p):\n",
    "    m = (y2 - y1) * mod_inverse(x2 - x1, p) % p\n",
    "    x3 = (m**2 - x1 - x2) % p\n",
    "    y3 = (m * (x1 - x3) - y1) % p\n",
    "    return (x3,y3)"
   ]
  },
  {
   "cell_type": "code",
   "execution_count": 13,
   "id": "4d843c24-bc70-4abc-a8f4-f2b422c6908e",
   "metadata": {},
   "outputs": [
    {
     "name": "stdout",
     "output_type": "stream",
     "text": [
      "(431533405883826640720265106051064233758762656048974554568048, 54633359396906083705826900289904079201648170645043617259856)\n"
     ]
    }
   ],
   "source": [
    "x=18446744073709551616\n",
    "y=663271545314189690754141204937684797586435551979845320856062\n",
    "a=2024\n",
    "p=987308279214583009270517326540245456902721241277308160881297\n",
    "n=0\n",
    "# print(add_point(3,6,8,5,1,11))\n",
    "print(double_point(x,y,a,p))"
   ]
  },
  {
   "cell_type": "code",
   "execution_count": 14,
   "id": "55f02197-abd6-4a97-976b-bf4c50b0323e",
   "metadata": {},
   "outputs": [
    {
     "name": "stdout",
     "output_type": "stream",
     "text": [
      "(110380820198006169710562005071197260234008568439753724561357, 598952754833104422504771358959288688709570873572530135426598)\n"
     ]
    }
   ],
   "source": [
    "x1, y1 = 18446744073709551616, 663271545314189690754141204937684797586435551979845320856062\n",
    "x2, y2= 431533405883826640720265106051064233758762656048974554568048,54633359396906083705826900289904079201648170645043617259856\n",
    "a = 2024\n",
    "modulus = 987308279214583009270517326540245456902721241277308160881297\n",
    "print(add_point(x1,x2,y1,y2,a,modulus))"
   ]
  },
  {
   "cell_type": "code",
   "execution_count": 16,
   "id": "bb1600de-e4de-40c4-a09b-9ae6c1efde9a",
   "metadata": {},
   "outputs": [
    {
     "name": "stdout",
     "output_type": "stream",
     "text": [
      "787086 23268\n"
     ]
    }
   ],
   "source": [
    "def point_multiplication(P1, P2,a,modulus):\n",
    "    if P1 is None:\n",
    "        return P2\n",
    "    if P2 is None:\n",
    "        return P1\n",
    "        \n",
    "    x1, y1 = P1\n",
    "    x2, y2 = P2\n",
    "\n",
    "    if (x1, y1) == (x2, -y2 % modulus):\n",
    "        return None  # Point at infinity\n",
    "        \n",
    "    if P1 != P2:\n",
    "        return add_point(x1,x2,y1,y2,a,modulus)\n",
    "    else:\n",
    "        return double_point(x1,y1,a,modulus)\n",
    "    \n",
    "\n",
    "def find_order(x,y,a,modulus):\n",
    "    P = (x, y)\n",
    "    order = 1\n",
    "    Q = P\n",
    "\n",
    "    while Q is not None:\n",
    "        order += 1\n",
    "        Q = point_multiplication(Q, P, a, modulus)\n",
    "    \n",
    "    print(C, order)\n",
    "\n",
    "#Values \n",
    "x, y = 4868, 514546\n",
    "a = 169942\n",
    "modulus = 883433\n",
    "\n",
    "find_order(x,y,a,modulus)"
   ]
  },
  {
   "cell_type": "code",
   "execution_count": 17,
   "id": "e73fdaf0-4122-4382-8057-6e6a1d66647f",
   "metadata": {},
   "outputs": [
    {
     "name": "stdout",
     "output_type": "stream",
     "text": [
      "787086 23268\n"
     ]
    }
   ],
   "source": [
    "x, y = 4868, 514546\n",
    "a = 169942\n",
    "modulus = 883433\n",
    "\n",
    "C = (y**2 - x**3 - a*x) % modulus\n",
    "\n",
    "def elliptic_add(P1, P2, a, modulus):\n",
    "    \"\"\"Add two points P1 and P2 on an elliptic curve over a finite field.\"\"\"\n",
    "    if P1 is None:\n",
    "        return P2\n",
    "    if P2 is None:\n",
    "        return P1\n",
    "\n",
    "    x1, y1 = P1\n",
    "    x2, y2 = P2\n",
    "\n",
    "    if (x1, y1) == (x2, -y2 % modulus):\n",
    "        return None  # Point at infinity\n",
    "\n",
    "    if P1 != P2:\n",
    "        # Slope of the line between P1 and P2\n",
    "        m = (y2 - y1) * mod_inverse(x2 - x1, modulus) % modulus\n",
    "    else:\n",
    "        # Slope of the tangent line at P1\n",
    "        m = (3 * x1**2 + a) * mod_inverse(2 * y1, modulus) % modulus\n",
    "\n",
    "    x3 = (m**2 - x1 - x2) % modulus\n",
    "    y3 = (m * (x1 - x3) - y1) % modulus\n",
    "\n",
    "    return (x3, y3)\n",
    "\n",
    "# Find the order of P\n",
    "P = (x, y)\n",
    "order = 1\n",
    "Q = P\n",
    "\n",
    "while Q is not None:\n",
    "    order += 1\n",
    "    Q = elliptic_add(Q, P, a, modulus)\n",
    "\n",
    "print(C, order)\n"
   ]
  },
  {
   "cell_type": "code",
   "execution_count": 39,
   "id": "bbffcbc5-67b4-4157-bbdd-8151ae423a3a",
   "metadata": {},
   "outputs": [
    {
     "name": "stdout",
     "output_type": "stream",
     "text": [
      "[[(4868, 514546), 1], [(642327, 611915), 2], [(436852, 410338), 4], [(342762, 649309), 8], [(762840, 22384), 16], [(59863, 702460), 32], [(812720, 565849), 64], [(643615, 245173), 128]]\n",
      "128\n",
      "64\n",
      "8\n",
      "4\n",
      "2\n",
      "1\n",
      "548922 768898\n",
      "689921 765112\n",
      "410672 137016\n",
      "797136 36212\n",
      "701748 111798\n"
     ]
    },
    {
     "data": {
      "text/plain": [
       "(701748, 111798)"
      ]
     },
     "execution_count": 39,
     "metadata": {},
     "output_type": "execute_result"
    }
   ],
   "source": [
    "x, y = 4868, 514546\n",
    "a = 169942\n",
    "p = 883433\n",
    "\n",
    "def point_doubling_algo(x,y,a,p,m):\n",
    "    li=[]\n",
    "    i=1\n",
    "    li.append([(x,y),i])\n",
    "    xn,yn=x,y\n",
    "    i=2\n",
    "    while i<m:\n",
    "        xn,yn=double_point(xn,yn,a,p)\n",
    "        li.append([(xn,yn),i])\n",
    "        i*=2\n",
    "        \n",
    "    print(li)\n",
    "    index=len(li)-1\n",
    "    sum_list=[]\n",
    "    while m!=0:\n",
    "        if li[index][1]<=m:\n",
    "            m=m-li[index][1]\n",
    "            sum_list.append(index)\n",
    "        else:\n",
    "            index-=1\n",
    "    for j in sum_list:\n",
    "        print(li[j][1])\n",
    "    j=sum_list[0]\n",
    "    xn,yn=li[j][0] \n",
    "    \n",
    "    for i in range(1,len(sum_list)):\n",
    "        xadd,yadd=li[sum_list[i]][0]\n",
    "        xn,yn=add_point(xn,xadd,yn,yadd,a,p)\n",
    "        print(xn,yn)\n",
    "    return (xn,yn)\n",
    "point_doubling_algo(x,y,a,p,207)\n"
   ]
  },
  {
   "cell_type": "code",
   "execution_count": 36,
   "id": "b8e977fd-c6ec-4625-8d92-34b47997f869",
   "metadata": {},
   "outputs": [
    {
     "name": "stdout",
     "output_type": "stream",
     "text": [
      "4877397\n"
     ]
    }
   ],
   "source": [
    "# Decompressing a point\n",
    "from sympy import nthroot_mod\n",
    "\n",
    "# Constants for the elliptic curve\n",
    "a = 7999764\n",
    "b = 7853170\n",
    "p = 38902957  # The modulus\n",
    "\n",
    "# The x-coordinate and flag from the compressed point\n",
    "x = 5842104\n",
    "flag = 1  # Indicates that y is odd\n",
    "\n",
    "# Compute the right-hand side of the equation\n",
    "rhs = (x**3 + a*x + b) % p\n",
    "\n",
    "# Find the modular square roots\n",
    "y_roots = nthroot_mod(rhs, 2, p, True)\n",
    "\n",
    "# Select the y-coordinate that is odd\n",
    "y = [y for y in y_roots if y % 2 == flag][0]  # Select the odd root\n",
    "\n",
    "print(y)\n"
   ]
  },
  {
   "cell_type": "code",
   "execution_count": 1,
   "id": "24f4cfac-7f47-4036-b515-d3868e9f4def",
   "metadata": {},
   "outputs": [
    {
     "name": "stdout",
     "output_type": "stream",
     "text": [
      "Decompressed Point: (5842104, 4877397)\n",
      "Compressed Point: (5842104, 1)\n"
     ]
    }
   ],
   "source": [
    "from sympy import nthroot_mod\n",
    "\n",
    "def decompress_point(x, flag, a, b, p):\n",
    "    \"\"\"\n",
    "    Decompress an elliptic curve point.\n",
    "    \n",
    "    Parameters:\n",
    "    x (int): x-coordinate of the compressed point\n",
    "    flag (int): Indicates whether the y-coordinate should be odd (1) or even (0)\n",
    "    a (int): Coefficient a of the elliptic curve equation\n",
    "    b (int): Coefficient b of the elliptic curve equation\n",
    "    p (int): Prime modulus of the finite field\n",
    "    \n",
    "    Returns:\n",
    "    (int, int): The decompressed point (x, y)\n",
    "    \"\"\"\n",
    "    # Compute the right-hand side of the elliptic curve equation\n",
    "    rhs = (x**3 + a*x + b) % p\n",
    "    \n",
    "    # Find the modular square roots\n",
    "    y_roots = nthroot_mod(rhs, 2, p, True)\n",
    "    \n",
    "    # Select the y-coordinate that matches the parity indicated by the flag\n",
    "    y = [y for y in y_roots if y % 2 == flag][0]\n",
    "    \n",
    "    return x, y\n",
    "\n",
    "def compress_point(x, y):\n",
    "    \"\"\"\n",
    "    Compress an elliptic curve point.\n",
    "    \n",
    "    Parameters:\n",
    "    x (int): x-coordinate of the point\n",
    "    y (int): y-coordinate of the point\n",
    "    \n",
    "    Returns:\n",
    "    (int, int): The compressed point (x, flag), where flag indicates whether y is odd (1) or even (0)\n",
    "    \"\"\"\n",
    "    # Determine the parity of the y-coordinate\n",
    "    flag = y % 2\n",
    "    \n",
    "    return x, flag\n",
    "\n",
    "# Example usage:\n",
    "a = 7999764\n",
    "b = 7853170\n",
    "p = 38902957\n",
    "\n",
    "# Given compressed point data\n",
    "x_compressed = 5842104\n",
    "flag_compressed = 1  # Indicates that y is odd\n",
    "\n",
    "# Decompress the point\n",
    "x_decompressed, y_decompressed = decompress_point(x_compressed, flag_compressed, a, b, p)\n",
    "print(f\"Decompressed Point: ({x_decompressed}, {y_decompressed})\")\n",
    "\n",
    "# Compress the point\n",
    "x_compressed, flag_compressed = compress_point(x_decompressed, y_decompressed)\n",
    "print(f\"Compressed Point: ({x_compressed}, {flag_compressed})\")\n"
   ]
  },
  {
   "cell_type": "code",
   "execution_count": null,
   "id": "18431aee-087c-4c02-89d2-c320ae6afa26",
   "metadata": {},
   "outputs": [],
   "source": []
  }
 ],
 "metadata": {
  "kernelspec": {
   "display_name": "Python 3 (ipykernel)",
   "language": "python",
   "name": "python3"
  },
  "language_info": {
   "codemirror_mode": {
    "name": "ipython",
    "version": 3
   },
   "file_extension": ".py",
   "mimetype": "text/x-python",
   "name": "python",
   "nbconvert_exporter": "python",
   "pygments_lexer": "ipython3",
   "version": "3.11.5"
  }
 },
 "nbformat": 4,
 "nbformat_minor": 5
}
