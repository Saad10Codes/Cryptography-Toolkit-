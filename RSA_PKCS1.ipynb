{
 "cells": [
  {
   "cell_type": "code",
   "execution_count": 24,
   "id": "4e6a9534-b0eb-4bc5-8199-115f055cd3bc",
   "metadata": {},
   "outputs": [],
   "source": [
    "from Crypto.PublicKey import RSA\n",
    "from sympy import mod_inverse,Mod"
   ]
  },
  {
   "cell_type": "code",
   "execution_count": 28,
   "id": "4ea9aa5b-f5b2-45b8-9150-e3b2f502051d",
   "metadata": {},
   "outputs": [
    {
     "name": "stdout",
     "output_type": "stream",
     "text": [
      "620807998946506614576211313867\n"
     ]
    }
   ],
   "source": [
    "\n",
    "p = 934721999678209\n",
    "q = 897411054846433\n",
    "n=p*q\n",
    "e=227\n",
    "phi_n = (p - 1) * (q - 1)\n",
    "\n",
    "# # Calculate d using the modular inverse of e modulo phi(n)\n",
    "d = mod_inverse(e, phi_n)\n",
    "print(d)\n"
   ]
  },
  {
   "cell_type": "code",
   "execution_count": 29,
   "id": "962a4a63-9715-4111-b3b9-88f5ea45887e",
   "metadata": {},
   "outputs": [
    {
     "name": "stdout",
     "output_type": "stream",
     "text": [
      "Private RSA key at 0x1E7722ACC50\n"
     ]
    }
   ],
   "source": [
    "rsa=RSA.generate(bits=2048,e=227)\n",
    "print(rsa)"
   ]
  },
  {
   "cell_type": "code",
   "execution_count": null,
   "id": "0b49098d-7f78-4cdd-8e8f-2ac545e24558",
   "metadata": {},
   "outputs": [],
   "source": [
    "plaintext=512\n",
    "cipher_totiet=Mod(plaintext*e,n)\n",
    "cipher_pkcs1=\n"
   ]
  }
 ],
 "metadata": {
  "kernelspec": {
   "display_name": "Python 3 (ipykernel)",
   "language": "python",
   "name": "python3"
  },
  "language_info": {
   "codemirror_mode": {
    "name": "ipython",
    "version": 3
   },
   "file_extension": ".py",
   "mimetype": "text/x-python",
   "name": "python",
   "nbconvert_exporter": "python",
   "pygments_lexer": "ipython3",
   "version": "3.11.5"
  }
 },
 "nbformat": 4,
 "nbformat_minor": 5
}
