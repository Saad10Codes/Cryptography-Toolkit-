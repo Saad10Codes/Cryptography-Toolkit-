{
 "cells": [
  {
   "cell_type": "code",
   "execution_count": 14,
   "id": "64e8c7b7-7188-4de2-b433-f08f6c4438d6",
   "metadata": {},
   "outputs": [
    {
     "name": "stdout",
     "output_type": "stream",
     "text": [
      "6\n"
     ]
    }
   ],
   "source": [
    "def fast_modular_exponentiation(base, power, mod):\n",
    "    bin_pow=format(power,'b')\n",
    "    base=base%mod\n",
    "    result=base\n",
    "    for c in bin_pow[1:]:\n",
    "        if(c==1):\n",
    "            result=(result*result)%mod\n",
    "            result=(result*base)%mod\n",
    "        else:\n",
    "            result=(result*result)%mod\n",
    "    print(result)\n",
    "fast_modular_exponentiation(2176782336,2143412,15)"
   ]
  },
  {
   "cell_type": "code",
   "execution_count": 15,
   "id": "b168026b-9b72-464d-a8fa-f5488111d2be",
   "metadata": {},
   "outputs": [
    {
     "name": "stdout",
     "output_type": "stream",
     "text": [
      "6\n"
     ]
    }
   ],
   "source": [
    "print((2176782336**2143412)%15)"
   ]
  },
  {
   "cell_type": "code",
   "execution_count": null,
   "id": "8c347148-e99a-44e4-aa01-f058d1245639",
   "metadata": {},
   "outputs": [],
   "source": []
  }
 ],
 "metadata": {
  "kernelspec": {
   "display_name": "Python 3 (ipykernel)",
   "language": "python",
   "name": "python3"
  },
  "language_info": {
   "codemirror_mode": {
    "name": "ipython",
    "version": 3
   },
   "file_extension": ".py",
   "mimetype": "text/x-python",
   "name": "python",
   "nbconvert_exporter": "python",
   "pygments_lexer": "ipython3",
   "version": "3.11.5"
  }
 },
 "nbformat": 4,
 "nbformat_minor": 5
}
