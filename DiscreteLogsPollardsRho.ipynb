{
 "cells": [
  {
   "cell_type": "code",
   "execution_count": 1,
   "id": "88bdb616-2a7c-4aff-b418-51b60de42497",
   "metadata": {},
   "outputs": [
    {
     "name": "stdout",
     "output_type": "stream",
     "text": [
      "The discrete logarithm x is: 524073120626258686601161451727461525386141363318472526684178718680636399682610416917624957\n"
     ]
    }
   ],
   "source": [
    "def discrete_log_pollards_rho(y, g, p):\n",
    "    # Function to calculate the next value in the sequence\n",
    "    def f(x):\n",
    "        return (x * g) % p\n",
    "    \n",
    "    # Initialize variables\n",
    "    x = 1\n",
    "    y1 = y\n",
    "    y2 = y\n",
    "    d = 1\n",
    "    \n",
    "    # Pollard's rho algorithm\n",
    "    while d == 1:\n",
    "        x = f(x)\n",
    "        y1 = f(y1)\n",
    "        y2 = f(f(y2))\n",
    "        \n",
    "        # Calculate gcd of the differences\n",
    "        d = pow(y2 - y1, 1, p)\n",
    "    \n",
    "    # Solve for x if d is a non-trivial factor of p\n",
    "    if d != p:\n",
    "        # Calculate the discrete logarithm using the extended Euclidean algorithm\n",
    "        x_inv = pow(x, -1, p)\n",
    "        log_x = (x_inv * (y - pow(g, x, p))) % p\n",
    "        return log_x\n",
    "    else:\n",
    "        return None  # No solution found\n",
    "\n",
    "# Given parameters\n",
    "y = 662665769968749167308847812463775948723123172057852384872494424776261606541089360550944167\n",
    "g = 1097857824711878104338896316622972219971143817996161931995735484700426189236736377445763810\n",
    "p = 1167290455031706531387695250349521076958635505626068245729867131656444919329406116418184053\n",
    "\n",
    "# Find the discrete logarithm x\n",
    "x = discrete_log_pollards_rho(y, g, p)\n",
    "\n",
    "print(\"The discrete logarithm x is:\", x)\n"
   ]
  },
  {
   "cell_type": "code",
   "execution_count": null,
   "id": "48481e38-192e-4f71-9a75-764ca1b1e82f",
   "metadata": {},
   "outputs": [],
   "source": []
  }
 ],
 "metadata": {
  "kernelspec": {
   "display_name": "Python 3 (ipykernel)",
   "language": "python",
   "name": "python3"
  },
  "language_info": {
   "codemirror_mode": {
    "name": "ipython",
    "version": 3
   },
   "file_extension": ".py",
   "mimetype": "text/x-python",
   "name": "python",
   "nbconvert_exporter": "python",
   "pygments_lexer": "ipython3",
   "version": "3.11.5"
  }
 },
 "nbformat": 4,
 "nbformat_minor": 5
}
