{
 "cells": [
  {
   "cell_type": "code",
   "execution_count": null,
   "id": "09083a54-5c23-4ac2-bf5d-786ab59b3d09",
   "metadata": {},
   "outputs": [],
   "source": [
    "from Crypto.Cipher import AES\n",
    "from Crypto.Util.Padding import pad,unpad\n",
    "import binascii"
   ]
  },
  {
   "cell_type": "code",
   "execution_count": 1,
   "id": "698522e2-28f3-421a-8901-8248419eb2ec",
   "metadata": {},
   "outputs": [
    {
     "name": "stdout",
     "output_type": "stream",
     "text": [
      "Decrypted plaintext: This is a secret message.\n"
     ]
    }
   ],
   "source": [
    "import binascii\n",
    "from base64 import b64decode\n",
    "from Crypto.Cipher import AES\n",
    "from Crypto.Util.Padding import unpad\n",
    "\n",
    "def plain_text_from_cipher(ciphertext):\n",
    "    key_hex = \"EEEEEEEEEEEEEEEEEEEEEEEEEEEEEEEEAAAAAAAAAAAAAAAAEEEEEEEEEEEEEEEE\"\n",
    "    key_bytes = bytes.fromhex(key_hex)\n",
    "    cipher = AES.new(key_bytes, AES.MODE_ECB)\n",
    "    cipher_bytes = b64decode(ciphertext)\n",
    "    padded_plaintext = cipher.decrypt(cipher_bytes)\n",
    "    try:\n",
    "        plaintext = unpad(padded_plaintext, AES.block_size,style='pkcs7')\n",
    "        return plaintext.decode()\n",
    "    except ValueError as e:\n",
    "        print(\"Error during unpadding:\", e)\n",
    "        return padded_plaintext.decode(errors='ignore')\n",
    "\n",
    "# Example usage\n",
    "ciphertext = \"AEpU9s1oM0suieN4EQV+nPcj1ZQOhlWb8mJqhK2V6qM=+ekxR9DQCIeZS77VJ0\"\n",
    "plaintext = plain_text_from_cipher(ciphertext)\n",
    "print(\"Decrypted plaintext:\", plaintext)\n"
   ]
  },
  {
   "cell_type": "code",
   "execution_count": 15,
   "id": "e6e60c62-d23f-4d8f-95a3-80dec6cea7f6",
   "metadata": {},
   "outputs": [
    {
     "name": "stdout",
     "output_type": "stream",
     "text": [
      "Ciphertext (base64): AEpU9s1oM0suieN4EQV+nPcj1ZQOhlWb8mJqhK2V6qM=\n"
     ]
    }
   ],
   "source": [
    "from base64 import b64encode\n",
    "from Crypto.Cipher import AES\n",
    "from Crypto.Util.Padding import pad\n",
    "\n",
    "def encrypt_message(message, key_hex):\n",
    "    key_bytes = bytes.fromhex(key_hex)\n",
    "    cipher = AES.new(key_bytes, AES.MODE_ECB)\n",
    "    padded_message = pad(message.encode(), AES.block_size,style='pkcs7')\n",
    "    cipher_bytes = cipher.encrypt(padded_message)\n",
    "    ciphertext = b64encode(cipher_bytes).decode()\n",
    "    return ciphertext\n",
    "\n",
    "key_hex = \"EEEEEEEEEEEEEEEEEEEEEEEEEEEEEEEEAAAAAAAAAAAAAAAAEEEEEEEEEEEEEEEE\"\n",
    "message = \"This is a secret message.\"\n",
    "ciphertext = encrypt_message(message, key_hex)\n",
    "print(\"Ciphertext (base64):\", ciphertext)\n"
   ]
  },
  {
   "cell_type": "code",
   "execution_count": null,
   "id": "0e59731d-9377-43ed-a787-bdb136bca100",
   "metadata": {},
   "outputs": [],
   "source": []
  }
 ],
 "metadata": {
  "kernelspec": {
   "display_name": "Python 3 (ipykernel)",
   "language": "python",
   "name": "python3"
  },
  "language_info": {
   "codemirror_mode": {
    "name": "ipython",
    "version": 3
   },
   "file_extension": ".py",
   "mimetype": "text/x-python",
   "name": "python",
   "nbconvert_exporter": "python",
   "pygments_lexer": "ipython3",
   "version": "3.11.5"
  }
 },
 "nbformat": 4,
 "nbformat_minor": 5
}
