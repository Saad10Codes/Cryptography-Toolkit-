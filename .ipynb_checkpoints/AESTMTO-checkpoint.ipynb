{
 "cells": [
  {
   "cell_type": "code",
   "execution_count": 2,
   "id": "962af52a-99f4-43cc-9de6-baa089e15ecb",
   "metadata": {},
   "outputs": [
    {
     "name": "stdout",
     "output_type": "stream",
     "text": [
      "End Point: 24fcc382050c2302bb72903db5044a80\n"
     ]
    }
   ],
   "source": [
    "import hashlib\n",
    "\n",
    "def hash_function(data):\n",
    "    \"\"\"Simple hash function using SHA-256.\"\"\"\n",
    "    return hashlib.sha256(data).digest()\n",
    "\n",
    "def reduction_function(hash_value, index):\n",
    "    \"\"\"Hypothetical reduction function for demonstration.\"\"\"\n",
    "    # Convert hash to integer, XOR with index, and reduce modulo 2^128 to keep it within block size\n",
    "    hash_int = int.from_bytes(hash_value, 'big')\n",
    "    reduced_int = (hash_int ^ index) % (2**128)\n",
    "    return reduced_int.to_bytes(16, 'big')\n",
    "\n",
    "def chain_function(start_point, length):\n",
    "    \"\"\"Generates the end point of a chain starting from start_point with given length.\"\"\"\n",
    "    current_point = bytes.fromhex(start_point)\n",
    "    for i in range(length):\n",
    "        hashed = hash_function(current_point)\n",
    "        current_point = reduction_function(hashed, i)\n",
    "    return current_point.hex()\n",
    "\n",
    "# Given start point and chain length\n",
    "start_point = 'db2a095620ed38d9cb57e654ccb47540'\n",
    "length = 100\n",
    "\n",
    "# Compute the end point\n",
    "end_point = chain_function(start_point, length)\n",
    "print(f\"End Point: {end_point}\")\n"
   ]
  },
  {
   "cell_type": "code",
   "execution_count": 1,
   "id": "66620776-ec53-43d6-aebd-e9661f463e8c",
   "metadata": {},
   "outputs": [
    {
     "name": "stdout",
     "output_type": "stream",
     "text": [
      "Final Chain Value (Hex): 5dbf8bdffe3e6272706211449c78ccb9\n"
     ]
    }
   ],
   "source": [
    "# Correct\n",
    "from Crypto.Cipher import AES\n",
    "from Crypto.Util.Padding import pad\n",
    "import binascii\n",
    "\n",
    "def aes_tmto_encrypt(plaintext, initial_chain_value_hex, chain_length):\n",
    "    # Convert the initial chain value from hex to bytes\n",
    "    initial_chain_value = binascii.unhexlify(initial_chain_value_hex)\n",
    "\n",
    "    # Convert plaintext to bytes and pad it (AES block size is 16 bytes)\n",
    "    plaintext_bytes = pad(plaintext.encode(), AES.block_size)\n",
    "\n",
    "    # Initialize the current key with the initial chain value\n",
    "    current_key = initial_chain_value\n",
    "\n",
    "    # Encrypt the plaintext 120 times, updating the key with the first 32 bytes of the encryption result\n",
    "    for _ in range(chain_length):\n",
    "        cipher = AES.new(current_key, AES.MODE_ECB)\n",
    "        encrypted = cipher.encrypt(plaintext_bytes)\n",
    "        # Use only the first 32 bytes of the encrypted output as the next key\n",
    "        current_key = encrypted[:16]\n",
    "\n",
    "    # Return the final chain value in hex\n",
    "    return binascii.hexlify(current_key).decode()\n",
    "\n",
    "# Input data\n",
    "plaintext = \"0000000000000000\"\n",
    "initial_chain_value_hex = \"804425271d5407c8467364ca2602ddf0\"\n",
    "chain_length = 100\n",
    "\n",
    "# Perform the TMTO encryption\n",
    "final_chain_value_hex = aes_tmto_encrypt(plaintext, initial_chain_value_hex, chain_length)\n",
    "\n",
    "# Output the final chain value\n",
    "print(\"Final Chain Value (Hex):\", final_chain_value_hex)\n"
   ]
  },
  {
   "cell_type": "code",
   "execution_count": null,
   "id": "9e161e4d-45da-4e18-bfa4-f0db7200f87e",
   "metadata": {},
   "outputs": [],
   "source": []
  }
 ],
 "metadata": {
  "kernelspec": {
   "display_name": "Python 3 (ipykernel)",
   "language": "python",
   "name": "python3"
  },
  "language_info": {
   "codemirror_mode": {
    "name": "ipython",
    "version": 3
   },
   "file_extension": ".py",
   "mimetype": "text/x-python",
   "name": "python",
   "nbconvert_exporter": "python",
   "pygments_lexer": "ipython3",
   "version": "3.11.5"
  }
 },
 "nbformat": 4,
 "nbformat_minor": 5
}
