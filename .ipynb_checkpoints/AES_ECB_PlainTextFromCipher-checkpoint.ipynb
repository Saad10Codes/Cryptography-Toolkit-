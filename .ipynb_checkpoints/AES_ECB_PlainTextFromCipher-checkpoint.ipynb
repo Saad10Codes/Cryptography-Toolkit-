{
 "cells": [
  {
   "cell_type": "code",
   "execution_count": 1,
   "id": "09083a54-5c23-4ac2-bf5d-786ab59b3d09",
   "metadata": {},
   "outputs": [],
   "source": [
    "from Crypto.Cipher import AES\n",
    "from Crypto.Util.Padding import pad\n",
    "import binascii"
   ]
  },
  {
   "cell_type": "code",
   "execution_count": null,
   "id": "0aa33c71-9da2-4ea1-894c-f4cb5dbc2873",
   "metadata": {},
   "outputs": [],
   "source": [
    "def plain_text_from_cypher(plaintext,cypher):\n",
    "    key=\n"
   ]
  }
 ],
 "metadata": {
  "kernelspec": {
   "display_name": "Python 3 (ipykernel)",
   "language": "python",
   "name": "python3"
  },
  "language_info": {
   "codemirror_mode": {
    "name": "ipython",
    "version": 3
   },
   "file_extension": ".py",
   "mimetype": "text/x-python",
   "name": "python",
   "nbconvert_exporter": "python",
   "pygments_lexer": "ipython3",
   "version": "3.11.5"
  }
 },
 "nbformat": 4,
 "nbformat_minor": 5
}
