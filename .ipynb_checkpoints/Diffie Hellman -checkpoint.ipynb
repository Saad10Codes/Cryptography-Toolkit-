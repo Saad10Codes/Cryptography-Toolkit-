{
 "cells": [
  {
   "cell_type": "code",
   "execution_count": 4,
   "id": "3bd6e8e0",
   "metadata": {},
   "outputs": [],
   "source": [
    "def diffieHellman(primeNo,gen,ka,kb):\n",
    "    pka=(gen**ka)%primeNo\n",
    "    pkb=(gen**kb)%primeNo\n",
    "    ska=(pkb**ka)%primeNo\n",
    "    skb=(pka**kb)%primeNo\n",
    "    return (ska,skb)"
   ]
  },
  {
   "cell_type": "code",
   "execution_count": 5,
   "id": "c4d7c0e4",
   "metadata": {},
   "outputs": [
    {
     "name": "stdout",
     "output_type": "stream",
     "text": [
      "(5, 5)\n"
     ]
    }
   ],
   "source": [
    "print(diffieHellman(13,2,3,7))"
   ]
  },
  {
   "cell_type": "code",
   "execution_count": null,
   "id": "b007ea12",
   "metadata": {},
   "outputs": [],
   "source": []
  }
 ],
 "metadata": {
  "kernelspec": {
   "display_name": "Python 3 (ipykernel)",
   "language": "python",
   "name": "python3"
  },
  "language_info": {
   "codemirror_mode": {
    "name": "ipython",
    "version": 3
   },
   "file_extension": ".py",
   "mimetype": "text/x-python",
   "name": "python",
   "nbconvert_exporter": "python",
   "pygments_lexer": "ipython3",
   "version": "3.11.5"
  }
 },
 "nbformat": 4,
 "nbformat_minor": 5
}
