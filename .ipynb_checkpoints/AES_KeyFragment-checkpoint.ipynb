{
 "cells": [
  {
   "cell_type": "code",
   "execution_count": 2,
   "id": "fef981bc-6c96-437d-978a-b5e989742bb7",
   "metadata": {},
   "outputs": [],
   "source": [
    "from Crypto.Cipher import AES\n",
    "from Crypto.Util.Padding import pad,unpad\n",
    "import binascii\n",
    "\n",
    "import binascii\n",
    "from base64 import b64decode,b64encode\n",
    "from Crypto.Cipher import AES\n",
    "from Crypto.Util.Padding import unpad\n"
   ]
  },
  {
   "cell_type": "code",
   "execution_count": 4,
   "id": "28a4b1bd-ca1e-4980-8dbd-1ba8a558ac4b",
   "metadata": {},
   "outputs": [
    {
     "name": "stdout",
     "output_type": "stream",
     "text": [
      "b\"\\xc0\\xc1\\xc7\\xca`1{\\xd8'\\xfb\\x1b\\xee\\x010\"\n",
      "('0xa4', '0x47')\n"
     ]
    }
   ],
   "source": [
    "def key_fragment(cipherText='',plainText=''):\n",
    "    fragment='C0C1C7CA60317BD827FB1BEE0130'\n",
    "    key_bytes_fragment = bytes.fromhex(fragment)\n",
    "    \n",
    "    print(key_bytes_fragment)\n",
    "    \n",
    "    for byte1 in range(256):\n",
    "        for byte2 in range(256):\n",
    "            # Create the full key by adding the current combination of bytes to the key fragment\n",
    "            missing_bytes = bytes([byte1, byte2])\n",
    "            full_key = key_bytes_fragment + missing_bytes\n",
    "\n",
    "            # Initialize AES cipher in ECB mode with the full key\n",
    "            cipher = AES.new(full_key, AES.MODE_ECB)\n",
    "            plain_bytes=plainText.encode('utf-8')\n",
    "            padded_plain_bytes=pad(plain_bytes ,AES.block_size)\n",
    "            generated_cipher_bytes=cipher.encrypt(padded_plain_bytes)\n",
    "            generated_cipherText = b64encode(generated_cipher_bytes).decode('utf-8')\n",
    "                \n",
    "            if(generated_cipherText==cipherText):\n",
    "                return (hex(byte1), hex(byte2))\n",
    "            # print(f\"Trying key: {full_key.hex()}\")\n",
    "            # print(f\"Generated Ciphertext: {generated_cipherText}\")\n",
    "            # print(f\"Given Ciphertext: {cipherText}\",'\\n\\n')\n",
    "\n",
    "print(key_fragment('5XWvgqrISJZ+DCXEryChjQ==','codebreaker'))"
   ]
  },
  {
   "cell_type": "code",
   "execution_count": 27,
   "id": "c492c6fe-4829-4cae-92fc-052064850ce8",
   "metadata": {},
   "outputs": [],
   "source": [
    "key_bytes = [\n",
    "    0xC0, 0xC1, 0xC7, 0xCA, 0x60, 0x31, 0x7B, 0xD8,\n",
    "    0x27, 0xFB, 0x1B, 0xEE, 0x01, 0x30\n",
    "]"
   ]
  },
  {
   "cell_type": "code",
   "execution_count": null,
   "id": "956cfdfa-2110-4598-8674-156b41e949d4",
   "metadata": {},
   "outputs": [],
   "source": [
    " # try:\n",
    "            #     # Decrypt the ciphertext\n",
    "            #     cipher_bytes = b64decode(cipherText)\n",
    "            #     padded_plaintext = cipher.decrypt(cipher_bytes)\n",
    "\n",
    "            #     # Remove PKCS#7 padding\n",
    "            #     plaintext = unpad(padded_plaintext, AES.block_size, style='pkcs7')\n",
    "                \n",
    "            #     # If successful, print the found key and plaintext\n",
    "            #     print(f\"Found key: {full_key.hex()}\")\n",
    "            #     print(f\"Decrypted plaintext: {plaintext.decode()}\")\n",
    "            #     return plaintext.decode()\n",
    "            # except (ValueError, UnicodeDecodeError):\n",
    "            #     # Ignore errors and continue with the next combination\n",
    "            #     continue\n",
    "\n",
    "    # cipher = AES.new(key_bytes, AES.MODE_ECB)"
   ]
  }
 ],
 "metadata": {
  "kernelspec": {
   "display_name": "Python 3 (ipykernel)",
   "language": "python",
   "name": "python3"
  },
  "language_info": {
   "codemirror_mode": {
    "name": "ipython",
    "version": 3
   },
   "file_extension": ".py",
   "mimetype": "text/x-python",
   "name": "python",
   "nbconvert_exporter": "python",
   "pygments_lexer": "ipython3",
   "version": "3.11.5"
  }
 },
 "nbformat": 4,
 "nbformat_minor": 5
}
