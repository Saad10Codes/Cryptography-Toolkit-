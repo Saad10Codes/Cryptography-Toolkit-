{
 "cells": [
  {
   "cell_type": "code",
   "execution_count": 1,
   "id": "30f0f4eb",
   "metadata": {},
   "outputs": [
    {
     "name": "stdout",
     "output_type": "stream",
     "text": [
      "{\"iv\": \"EJKml4/M0Fy4ZjR4azi24w==\", \"ciphertext\": \"A4rxIErhDpVJH2mqj/4OLA==\"}\n"
     ]
    },
    {
     "data": {
      "text/plain": [
       "'{\"iv\": \"bWRHdzkzVDFJbWNBY0EwSmQ1UXFuQT09\", \"ciphertext\": \"VDdxQVo3TFFCbXIzcGpYa1lJbFFZQT09\"}'"
      ]
     },
     "execution_count": 1,
     "metadata": {},
     "output_type": "execute_result"
    }
   ],
   "source": [
    "import json\n",
    "from base64 import b64encode\n",
    "from Crypto.Cipher import AES\n",
    "from Crypto.Util.Padding import pad\n",
    "from Crypto.Random import get_random_bytes\n",
    "\n",
    "data = b\"secret\"\n",
    "key = get_random_bytes(16)\n",
    "cipher = AES.new(key, AES.MODE_CBC)\n",
    "ct_bytes = cipher.encrypt(pad(data, AES.block_size))\n",
    "iv = b64encode(cipher.iv).decode('utf-8')\n",
    "ct = b64encode(ct_bytes).decode('utf-8')\n",
    "result = json.dumps({'iv':iv, 'ciphertext':ct})\n",
    "print(result)\n",
    "'{\"iv\": \"bWRHdzkzVDFJbWNBY0EwSmQ1UXFuQT09\", \"ciphertext\": \"VDdxQVo3TFFCbXIzcGpYa1lJbFFZQT09\"}'"
   ]
  },
  {
   "cell_type": "code",
   "execution_count": 2,
   "id": "ef4380e0",
   "metadata": {},
   "outputs": [
    {
     "ename": "NameError",
     "evalue": "name 'json_input' is not defined",
     "output_type": "error",
     "traceback": [
      "\u001b[1;31m---------------------------------------------------------------------------\u001b[0m",
      "\u001b[1;31mNameError\u001b[0m                                 Traceback (most recent call last)",
      "Cell \u001b[1;32mIn[2], line 8\u001b[0m\n\u001b[0;32m      6\u001b[0m \u001b[38;5;66;03m# We assume that the key was securely shared beforehand\u001b[39;00m\n\u001b[0;32m      7\u001b[0m \u001b[38;5;28;01mtry\u001b[39;00m:\n\u001b[1;32m----> 8\u001b[0m     b64 \u001b[38;5;241m=\u001b[39m json\u001b[38;5;241m.\u001b[39mloads(json_input)\n\u001b[0;32m      9\u001b[0m     iv \u001b[38;5;241m=\u001b[39m b64decode(b64[\u001b[38;5;124m'\u001b[39m\u001b[38;5;124miv\u001b[39m\u001b[38;5;124m'\u001b[39m])\n\u001b[0;32m     10\u001b[0m     ct \u001b[38;5;241m=\u001b[39m b64decode(b64[\u001b[38;5;124m'\u001b[39m\u001b[38;5;124mciphertext\u001b[39m\u001b[38;5;124m'\u001b[39m])\n",
      "\u001b[1;31mNameError\u001b[0m: name 'json_input' is not defined"
     ]
    }
   ],
   "source": [
    "import json\n",
    "from base64 import b64decode\n",
    "from Crypto.Cipher import AES\n",
    "from Crypto.Util.Padding import unpad\n",
    "\n",
    "# We assume that the key was securely shared beforehand\n",
    "try:\n",
    "    b64 = json.loads(json_input)\n",
    "    iv = b64decode(b64['iv'])\n",
    "    ct = b64decode(b64['ciphertext'])\n",
    "    cipher = AES.new(key, AES.MODE_CBC, iv)\n",
    "    pt = unpad(cipher.decrypt(ct), AES.block_size)\n",
    "    print(\"The message was: \", pt)\n",
    "except (ValueError, KeyError):\n",
    "    print(\"Incorrect decryption\")"
   ]
  },
  {
   "cell_type": "code",
   "execution_count": 3,
   "id": "fafc4b0d",
   "metadata": {},
   "outputs": [
    {
     "name": "stdout",
     "output_type": "stream",
     "text": [
      "{\"nonce\": \"1Ow0LjMakEU=\", \"ciphertext\": \"mOm7F2+l\"}\n"
     ]
    },
    {
     "data": {
      "text/plain": [
       "{'nonce': 'XqP8WbylRt0=', 'ciphertext': 'Mie5lqje'}"
      ]
     },
     "execution_count": 3,
     "metadata": {},
     "output_type": "execute_result"
    }
   ],
   "source": [
    "import json\n",
    "from base64 import b64encode\n",
    "from Crypto.Cipher import AES\n",
    "from Crypto.Random import get_random_bytes\n",
    "\n",
    "data = b\"secret\"\n",
    "key = get_random_bytes(16)\n",
    "cipher = AES.new(key, AES.MODE_CTR)\n",
    "ct_bytes = cipher.encrypt(data)\n",
    "nonce = b64encode(cipher.nonce).decode('utf-8')\n",
    "ct = b64encode(ct_bytes).decode('utf-8')\n",
    "result = json.dumps({'nonce':nonce, 'ciphertext':ct})\n",
    "print(result)\n",
    "{\"nonce\": \"XqP8WbylRt0=\", \"ciphertext\": \"Mie5lqje\"}"
   ]
  },
  {
   "cell_type": "code",
   "execution_count": null,
   "id": "37d7f5f9",
   "metadata": {},
   "outputs": [],
   "source": []
  }
 ],
 "metadata": {
  "kernelspec": {
   "display_name": "Python 3 (ipykernel)",
   "language": "python",
   "name": "python3"
  },
  "language_info": {
   "codemirror_mode": {
    "name": "ipython",
    "version": 3
   },
   "file_extension": ".py",
   "mimetype": "text/x-python",
   "name": "python",
   "nbconvert_exporter": "python",
   "pygments_lexer": "ipython3",
   "version": "3.11.5"
  }
 },
 "nbformat": 4,
 "nbformat_minor": 5
}
