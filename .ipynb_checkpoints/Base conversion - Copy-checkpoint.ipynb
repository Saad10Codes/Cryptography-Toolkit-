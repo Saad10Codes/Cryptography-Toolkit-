{
 "cells": [
  {
   "cell_type": "code",
   "execution_count": 3,
   "id": "7ac77381",
   "metadata": {},
   "outputs": [
    {
     "name": "stdout",
     "output_type": "stream",
     "text": [
      "7.073988973244845e+76\n"
     ]
    }
   ],
   "source": [
    "\n",
    "import math \n",
    "  \n",
    "hex_str = '9c655bd4f20ad229fae6b893289be32cf85b7c8f9ee547ea1719835a1c5ed5dd'\n",
    "  \n",
    "dec_num = sum(int(x, 16) * math.pow(16, len(hex_str)-i-1) for i, x in enumerate(hex_str)) \n",
    "  \n",
    "print(dec_num) "
   ]
  },
  {
   "cell_type": "code",
   "execution_count": 3,
   "id": "b4474298",
   "metadata": {},
   "outputs": [
    {
     "name": "stdout",
     "output_type": "stream",
     "text": [
      "1000\n",
      "10010\n",
      "11\n"
     ]
    }
   ],
   "source": [
    "def decimalToBinary(n):\n",
    "    return bin(n).replace(\"0b\",\"\")\n",
    " \n",
    "# Driver code\n",
    "if __name__ == '__main__':\n",
    "    print(decimalToBinary(8))\n",
    "    print(decimalToBinary(18))\n",
    "    print(decimalToBinary(3))"
   ]
  },
  {
   "cell_type": "code",
   "execution_count": 4,
   "id": "9a95447d",
   "metadata": {},
   "outputs": [
    {
     "name": "stdout",
     "output_type": "stream",
     "text": [
      "4\n",
      "5\n",
      "9\n"
     ]
    }
   ],
   "source": [
    "def binaryToDecimal(binary):\n",
    " \n",
    "    decimal, i = 0, 0\n",
    "    while(binary != 0):\n",
    "        dec = binary % 10\n",
    "        decimal = decimal + dec * pow(2, i)\n",
    "        binary = binary//10\n",
    "        i += 1\n",
    "    print(decimal)\n",
    " \n",
    " \n",
    "# Driver code\n",
    "if __name__ == '__main__':\n",
    "    binaryToDecimal(100)\n",
    "    binaryToDecimal(101)\n",
    "    binaryToDecimal(1001)"
   ]
  },
  {
   "cell_type": "code",
   "execution_count": 11,
   "id": "003792dc",
   "metadata": {},
   "outputs": [
    {
     "name": "stdout",
     "output_type": "stream",
     "text": [
      "Enter an octal number :24\n",
      "The decimal value is : 20\n"
     ]
    }
   ],
   "source": [
    "num = input(\"Enter an octal number :\")\n",
    "\n",
    "def OctalToDecimal(num):\n",
    "    decimal_value = 0\n",
    "    base = 1\n",
    "    while (num):\n",
    "        last_digit = num % 10\n",
    "        num = int(num / 10)\n",
    "        decimal_value += last_digit * base\n",
    "        base = base * 8\n",
    "    print(\"The decimal value is :\",decimal_value)\n",
    "OctalToDecimal(int(num))\n"
   ]
  },
  {
   "cell_type": "code",
   "execution_count": 14,
   "id": "d8cb150b",
   "metadata": {},
   "outputs": [
    {
     "name": "stdout",
     "output_type": "stream",
     "text": [
      "Enter a decimal number :20\n",
      "The octal equivalent is : 24\n"
     ]
    }
   ],
   "source": [
    "decimal = int(input(\"Enter a decimal number :\"))\n",
    "\n",
    "def decimal_to_octal(decimal):\n",
    "    octal = 0\n",
    "    i = 1\n",
    "    while (decimal != 0):\n",
    "        octal = octal + (decimal % 8) * i\n",
    "        decimal = int(decimal / 8)\n",
    "        i = i * 10\n",
    "    return octal\n",
    "print(\"The octal equivalent is :\",decimal_to_octal(decimal))\n"
   ]
  },
  {
   "cell_type": "code",
   "execution_count": null,
   "id": "2636635f",
   "metadata": {},
   "outputs": [],
   "source": []
  }
 ],
 "metadata": {
  "kernelspec": {
   "display_name": "Python 3 (ipykernel)",
   "language": "python",
   "name": "python3"
  },
  "language_info": {
   "codemirror_mode": {
    "name": "ipython",
    "version": 3
   },
   "file_extension": ".py",
   "mimetype": "text/x-python",
   "name": "python",
   "nbconvert_exporter": "python",
   "pygments_lexer": "ipython3",
   "version": "3.11.5"
  }
 },
 "nbformat": 4,
 "nbformat_minor": 5
}
