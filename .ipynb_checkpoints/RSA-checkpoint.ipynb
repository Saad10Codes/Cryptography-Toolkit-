{
 "cells": [
  {
   "cell_type": "code",
   "execution_count": 1,
   "id": "38ad9c4e",
   "metadata": {},
   "outputs": [
    {
     "name": "stdout",
     "output_type": "stream",
     "text": [
      "Encrypted message is 1394\n",
      "Decrypted message is 89\n",
      "Encrypted message is 3\n",
      "Decrypted message is 12\n"
     ]
    }
   ],
   "source": [
    "from math import gcd\n",
    "\n",
    "# defining a function to perform RSA approch\n",
    "def RSA(p: int, q: int, message: int):\n",
    "    # calculating n\n",
    "    n = p * q\n",
    "\n",
    "    # calculating totient, t\n",
    "    t = (p - 1) * (q - 1)\n",
    "\n",
    "    # selecting public key, e\n",
    "    for i in range(2, t):\n",
    "        if gcd(i, t) == 1:\n",
    "            e = i\n",
    "            break\n",
    "    \n",
    "    # selecting private key, d\n",
    "    j = 0\n",
    "    while True:\n",
    "        if (j * e) % t == 1:\n",
    "            d = j\n",
    "            break\n",
    "        j += 1\n",
    "\n",
    "    # performing encryption\n",
    "    ct = (message ** e) % n\n",
    "    print(f\"Encrypted message is {ct}\")\n",
    "\n",
    "    # performing decryption\n",
    "    mes = (ct ** d) % n\n",
    "    print(f\"Decrypted message is {mes}\")\n",
    "\n",
    "# Testcase - 1\n",
    "RSA(p=53, q=59, message=89)\n",
    "\n",
    "# Testcase - 2\n",
    "RSA(p=3, q=7, message=12)"
   ]
  },
  {
   "cell_type": "code",
   "execution_count": null,
   "id": "77b9cb8c",
   "metadata": {},
   "outputs": [],
   "source": []
  }
 ],
 "metadata": {
  "kernelspec": {
   "display_name": "Python 3 (ipykernel)",
   "language": "python",
   "name": "python3"
  },
  "language_info": {
   "codemirror_mode": {
    "name": "ipython",
    "version": 3
   },
   "file_extension": ".py",
   "mimetype": "text/x-python",
   "name": "python",
   "nbconvert_exporter": "python",
   "pygments_lexer": "ipython3",
   "version": "3.11.5"
  }
 },
 "nbformat": 4,
 "nbformat_minor": 5
}
