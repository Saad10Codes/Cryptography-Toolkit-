{
 "cells": [
  {
   "cell_type": "code",
   "execution_count": 1,
   "id": "81771b86",
   "metadata": {},
   "outputs": [
    {
     "name": "stdout",
     "output_type": "stream",
     "text": [
      "SHA-256 Hash: 18ac3e7343f016890c510e93f935261169d9e3f565436429830faf0934f4f8e4\n"
     ]
    }
   ],
   "source": [
    "import hashlib\n",
    "\n",
    "# Step 1: Compute SHA-256 hash of \"d\"\n",
    "str_value = \"d\"\n",
    "hashed_value = hashlib.sha256(str_value.encode()).hexdigest()\n",
    "print(\"SHA-256 Hash:\", hashed_value)"
   ]
  },
  {
   "cell_type": "code",
   "execution_count": 3,
   "id": "93f26512",
   "metadata": {},
   "outputs": [
    {
     "name": "stdout",
     "output_type": "stream",
     "text": [
      "SHA-512 Hash: 48fb10b15f3d44a09dc82d02b06581e0c0c69478c9fd2cf8f9093659019a1687baecdbb38c9e72b12169dc4148690f87467f9154f5931c5df665c6496cbfd5f5\n"
     ]
    }
   ],
   "source": [
    "import hashlib\n",
    "\n",
    "# Step 1: Compute SHA-256 hash of \"d\"\n",
    "str_value = \"d\"\n",
    "hashed_value = hashlib.sha512(str_value.encode()).hexdigest()\n",
    "print(\"SHA-512 Hash:\", hashed_value)"
   ]
  },
  {
   "cell_type": "code",
   "execution_count": 4,
   "id": "68f57754",
   "metadata": {},
   "outputs": [
    {
     "name": "stdout",
     "output_type": "stream",
     "text": [
      "Merkle Root: 129fd8b8cf99442bc0c8fba1e5d1e15f6b07604cfe9e1182dab08223d328c2e0\n"
     ]
    }
   ],
   "source": [
    "# Step 2: Given Merkle branch\n",
    "merkle_branch = [\n",
    "    \"2e7d2c03a9507ae265ecf5b5356885a53393a2029d241394997265a1a25aefc6\",\n",
    "    \"cf716f1e7934014cc67d3bded144f2b5abac20369b70f1c3a8eb3276d9de209a\",\n",
    "    \"9376e34d9a15765d98c8e5fd68d5e3b18b20116b9d4faa293f326a93731078ef\",\n",
    "    \"2e15ecd6e7d77f95c9275a7cc4cf9338518ef7b9490097510f994d8111ccf1d8\",\n",
    "    \"8a4528a3fe72db85253e6b2d0dce3de5ede91ece01ac45a4b86b29f0681e6fcc\"\n",
    "]\n",
    "\n",
    "# Function to calculate Merkle Root from Merkle Branch\n",
    "def calculate_merkle_root(leaf_hash, merkle_branch, index):\n",
    "    current_hash = leaf_hash\n",
    "    for i, sibling_hash in enumerate(merkle_branch):\n",
    "        if (index >> i) & 1:\n",
    "            current_hash = hashlib.sha256((sibling_hash + current_hash).encode()).hexdigest()\n",
    "        else:\n",
    "            current_hash = hashlib.sha256((current_hash + sibling_hash).encode()).hexdigest()\n",
    "    return current_hash\n",
    "\n",
    "# Calculate Merkle Root\n",
    "merkle_root = calculate_merkle_root(\"18ac3e7343f016890c510e93f935261169d9e3f565436429830faf0934f4f8e4\", merkle_branch, 2)\n",
    "print(\"Merkle Root:\", merkle_root)\n"
   ]
  },
  {
   "cell_type": "code",
   "execution_count": null,
   "id": "7ede926f",
   "metadata": {},
   "outputs": [],
   "source": []
  }
 ],
 "metadata": {
  "kernelspec": {
   "display_name": "Python 3 (ipykernel)",
   "language": "python",
   "name": "python3"
  },
  "language_info": {
   "codemirror_mode": {
    "name": "ipython",
    "version": 3
   },
   "file_extension": ".py",
   "mimetype": "text/x-python",
   "name": "python",
   "nbconvert_exporter": "python",
   "pygments_lexer": "ipython3",
   "version": "3.11.5"
  }
 },
 "nbformat": 4,
 "nbformat_minor": 5
}
