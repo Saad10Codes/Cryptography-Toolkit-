{
 "cells": [
  {
   "cell_type": "code",
   "execution_count": 8,
   "id": "2c4e012f-16a2-408d-96db-b7561a61f9b8",
   "metadata": {},
   "outputs": [
    {
     "data": {
      "text/plain": [
       "([mpz(5183384340447689716272748340332079452288949539614155565019282410685258089479827246017717435120706845893511860163886547450660473118645638512880756729146479255719022512313123408528383318412153892760771094056426687),\n",
       "  mpz(5183384340447689716272748340332079452288949539614155565019282410685258089479827246017717435120706845884117689832791214539102550731488290403378026533513199772889858626184287308069949544557357899221696281928686709)],\n",
       " 2128206)"
      ]
     },
     "execution_count": 8,
     "metadata": {},
     "output_type": "execute_result"
    }
   ],
   "source": [
    "import gmpy2\n",
    "\n",
    "def fermat(n):\n",
    "    tries = 100000000\n",
    "    a = gmpy2.isqrt(n)\n",
    "    c = 0\n",
    "    i=0\n",
    "    \n",
    "    while not gmpy2.is_square(a**2 - n):\n",
    "        a += 1\n",
    "        c += 1\n",
    "        i+=1\n",
    "\n",
    "        if c > tries:\n",
    "            return False\n",
    "\n",
    "    bsq = a**2 - n\n",
    "    b = gmpy2.isqrt(bsq)\n",
    "    p = a + b\n",
    "    q = a - b\n",
    "\n",
    "    return [p, q],i\n",
    "\n",
    "fermat(26867473220798331329214839914132955975380508045895701773576101737313014109009544375162125340148730855159673217506130546557645991237400197294066124015996906715696595569850607769203219432748223367896407971859882909283666424794335511238352151449332453936790443222692482616690779532111250869588402142513446535565572153141413963820526635399154480499791012820202377890087164986485505509531619919720172228001045298643407249803083)"
   ]
  },
  {
   "cell_type": "code",
   "execution_count": 4,
   "id": "1d21da25-c2cc-4a87-ab19-0a2453e8e2b1",
   "metadata": {},
   "outputs": [
    {
     "name": "stdout",
     "output_type": "stream",
     "text": [
      "Original Message is: 127458934542242345565645767\n",
      "the value of z = 9842930167961236668639613297787238402636\n",
      "the value of e = 5\n",
      "the value of d = 7874344134368989334911690638229790722109\n",
      "Encrypted message is : 3726006911624229497544429391387040638804\n",
      "Decrypted message is : 127458934542242345565645767\n"
     ]
    }
   ],
   "source": [
    "import math\n",
    "from sympy import gcd, mod_inverse\n",
    "from Crypto.Util import number\n",
    "\n",
    "# Function to find gcd\n",
    "def find_gcd(a, b):\n",
    "    while b:\n",
    "        a, b = b, a % b\n",
    "    return a\n",
    "\n",
    "# Main function\n",
    "def main():\n",
    "    # The number to be encrypted and decrypted\n",
    "    plaintext = \"127458934542242345565645767\"\n",
    "    print(\"Original Message is: \" + plaintext)\n",
    "    msg = int(plaintext)\n",
    "\n",
    "    # The number after decryption\n",
    "    msgback = 0\n",
    "\n",
    "    # Holds the values to calculate gcd\n",
    "    input1 = \"10092003300140014003\"\n",
    "    input2 = \"975319753197531975319\"\n",
    "\n",
    "    # Step 1 : Select two prime numbers p and q  or generate them using Rabin-Miller algo\n",
    "    # 1st prime number p\n",
    "    p = int(input1)\n",
    "    # 2nd prime number q\n",
    "    q = int(input2)\n",
    "\n",
    "    one = 1\n",
    "\n",
    "    # Step 2: calculate n = p * q\n",
    "    n = p * q\n",
    "\n",
    "    # Step 3: Compute φ(n) = (p – 1) * (q – 1), here z is representing φ(n)\n",
    "    z = (p - 1) * (q - 1)\n",
    "    print(\"the value of z = \" + str(z))  # Printing φ(n) value\n",
    "\n",
    "    # Step 4: Choose e such gcd(e , φ(n) ) = 1, calculating gcd of e and z\n",
    "    # We will start with e=2, and will keep incrementing till e<z,\n",
    "    # we will break if we find any value of e where GCD(E and z) is equal to 1.\n",
    "    e = 2\n",
    "    while e <= z:\n",
    "        if gcd(e, z) == 1:\n",
    "            break\n",
    "        e += 1\n",
    "\n",
    "    # e is for public key exponent\n",
    "    print(\"the value of e = \" + str(e))\n",
    "\n",
    "    # Step 5: Calculate private key d parameter, modular inverse of e\n",
    "    # d * e mod φ(n) = 1 or d * e mod z = 1\n",
    "    d = mod_inverse(e, z)\n",
    "    print(\"the value of d = \" + str(d))\n",
    "\n",
    "    # Cipher text C = P^e mod n where P = plaintext\n",
    "    c = pow(msg, e, n)  # Using Python's built-in power modulo method\n",
    "    print(\"Encrypted message is : \" + str(c))\n",
    "\n",
    "    # Decryption\n",
    "    # For Decryption D = D^d mod n where D will refund the plaintext\n",
    "    msgback = pow(c, d, n)\n",
    "    print(\"Decrypted message is : \" + str(msgback))\n",
    "\n",
    "if __name__ == \"__main__\":\n",
    "    main()\n"
   ]
  },
  {
   "cell_type": "code",
   "execution_count": null,
   "id": "2bf0590a-d38d-483d-89ee-19eb45f49dfd",
   "metadata": {},
   "outputs": [],
   "source": []
  }
 ],
 "metadata": {
  "kernelspec": {
   "display_name": "Python 3 (ipykernel)",
   "language": "python",
   "name": "python3"
  },
  "language_info": {
   "codemirror_mode": {
    "name": "ipython",
    "version": 3
   },
   "file_extension": ".py",
   "mimetype": "text/x-python",
   "name": "python",
   "nbconvert_exporter": "python",
   "pygments_lexer": "ipython3",
   "version": "3.11.5"
  }
 },
 "nbformat": 4,
 "nbformat_minor": 5
}
