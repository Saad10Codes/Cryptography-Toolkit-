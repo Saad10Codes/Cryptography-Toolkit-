{
 "cells": [
  {
   "cell_type": "code",
   "execution_count": 7,
   "id": "3e508753-c231-42bb-a91e-bfbb414cb104",
   "metadata": {},
   "outputs": [
    {
     "name": "stdout",
     "output_type": "stream",
     "text": [
      "The plaintext for C1 is: 6\n",
      "The plaintext for C2 is: 149\n"
     ]
    }
   ],
   "source": [
    "from sympy import mod_inverse\n",
    "\n",
    "def gcd(n1, n2):\n",
    "    while n2:\n",
    "        n1, n2 = n2, n1 % n2\n",
    "    return n1\n",
    "\n",
    "def extended_gcd(a, b):\n",
    "    if a == 0:\n",
    "        return b, 0, 1\n",
    "    g, x1, y1 = extended_gcd(b % a, a)\n",
    "    x = y1 - (b // a) * x1\n",
    "    y = x1\n",
    "    return g, x, y\n",
    "\n",
    "def compute_private_key(e, p, q):\n",
    "    phi_n = (p - 1) * (q - 1)\n",
    "    d = mod_inverse(e, phi_n)\n",
    "    return d\n",
    "\n",
    "def garner_attack(n1, n2, e1, e2, C1, C2):\n",
    "    # Step 1: Find the common prime factor\n",
    "    p = gcd(n1, n2)\n",
    "    q1 = n1 // p\n",
    "    q2 = n2 // p\n",
    "    \n",
    "    # Step 2: Compute private keys\n",
    "    d1 = compute_private_key(e1, p, q1)\n",
    "    d2 = compute_private_key(e2, p, q2)\n",
    "    \n",
    "    # Step 3: Decrypt the ciphertexts\n",
    "    M1 = pow(C1, d1, n1)\n",
    "    M2 = pow(C2, d2, n2)\n",
    "    \n",
    "    return M1, M2\n",
    "\n",
    "# Example usage:\n",
    "n1 = 143  # 11 * 13\n",
    "n2 = 221  # 13 * 17\n",
    "e1 = 7\n",
    "e2 = 11\n",
    "C1 = 85  # Example ciphertext encrypted with (e1, n1)\n",
    "C2 = 89  # Example ciphertext encrypted with (e2, n2)\n",
    "\n",
    "plain_text1, plain_text2 = garner_attack(n1, n2, e1, e2, C1, C2)\n",
    "print(f\"The plaintext for C1 is: {plain_text1}\")\n",
    "print(f\"The plaintext for C2 is: {plain_text2}\")\n"
   ]
  },
  {
   "cell_type": "code",
   "execution_count": 10,
   "id": "395f5766-a910-4b1b-82f3-d06af45f1900",
   "metadata": {},
   "outputs": [
    {
     "name": "stdout",
     "output_type": "stream",
     "text": [
      "The 4th root of 16 modulo 29 is: 2\n"
     ]
    }
   ],
   "source": [
    "from sympy import nthroot_mod\n",
    "\n",
    "# Example values\n",
    "a = 16\n",
    "n = 4\n",
    "m = 29\n",
    "\n",
    "try:\n",
    "    root = nthroot_mod(a, n, m)\n",
    "    print(f\"The {n}th root of {a} modulo {m} is: {root}\")\n",
    "except ValueError as e:\n",
    "    print(f\"No {n}th root of {a} modulo {m} exists. Error: {e}\")\n"
   ]
  },
  {
   "cell_type": "code",
   "execution_count": null,
   "id": "07026cce-6b5d-4008-b02c-499755f0ff21",
   "metadata": {},
   "outputs": [],
   "source": []
  }
 ],
 "metadata": {
  "kernelspec": {
   "display_name": "Python 3 (ipykernel)",
   "language": "python",
   "name": "python3"
  },
  "language_info": {
   "codemirror_mode": {
    "name": "ipython",
    "version": 3
   },
   "file_extension": ".py",
   "mimetype": "text/x-python",
   "name": "python",
   "nbconvert_exporter": "python",
   "pygments_lexer": "ipython3",
   "version": "3.11.5"
  }
 },
 "nbformat": 4,
 "nbformat_minor": 5
}
