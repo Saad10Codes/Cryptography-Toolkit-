{
 "cells": [
  {
   "cell_type": "code",
   "execution_count": 2,
   "id": "6396e8be",
   "metadata": {},
   "outputs": [
    {
     "name": "stdout",
     "output_type": "stream",
     "text": [
      "Recovered Hex Key: ae104bbbbbbbbbbb\n"
     ]
    }
   ],
   "source": [
    "import gmpy2\n",
    "\n",
    "N = 14902153689273420948750156018800547595962757912228480852869515532691427278066612631480872568145590907406643221842248874197021167726220276558641310343247246585833912752669341478149823717893733425544982432917139743005781654709014697487382212716782579323465148856333770569803198939835163459829772280159624444387615695515210520083209547881018776274930182405795320529\n",
    "p = 3860330774593352175517799374199641878898498526797023293185141540549370881554698222726574177727508601528805237406296759578412936096107831064081982637443316389782316750976195065604527\n",
    "C = 0x765a27fcc1123455794fa320fedcba99\n",
    "\n",
    "q = N // p\n",
    "\n",
    "# Calculate r1, r2, r3, r4\n",
    "r1 = gmpy2.powmod(C, (p + 1) // 4, N)\n",
    "r2 = N - r1\n",
    "r3 = gmpy2.powmod(C, (p + 1) // 4, p)\n",
    "r4 = p - r3\n",
    "\n",
    "# Check which root is correct\n",
    "roots = [r1, r2, r3, r4]\n",
    "\n",
    "for root in roots:\n",
    "    if gmpy2.powmod(root, 2, N) == C:\n",
    "        hex_key = hex(root)[2:]\n",
    "        print(\"Recovered Hex Key:\", hex_key)\n",
    "        break"
   ]
  },
  {
   "cell_type": "code",
   "execution_count": 3,
   "id": "0f657d9a",
   "metadata": {},
   "outputs": [
    {
     "data": {
      "text/plain": [
       "([mpz(5183384340447689716272748340332079452288949539614155565019282410685258089479827246017717435120706845893511860163886547450660473118645638512880756729146479255719022512313123408528383318412153892760771094056426687),\n",
       "  mpz(5183384340447689716272748340332079452288949539614155565019282410685258089479827246017717435120706845884117689832791214539102550731488290403378026533513199772889858626184287308069949544557357899221696281928686709)],\n",
       " 2128206)"
      ]
     },
     "execution_count": 3,
     "metadata": {},
     "output_type": "execute_result"
    }
   ],
   "source": [
    "import gmpy2\n",
    "\n",
    "def fermat(n):\n",
    "    tries = 100000000\n",
    "    a = gmpy2.isqrt(n)\n",
    "    c = 0\n",
    "    i=0\n",
    "\n",
    "\n",
    "    while not gmpy2.is_square(a**2 - n):\n",
    "        a += 1\n",
    "        c += 1\n",
    "        i+=1\n",
    "\n",
    "        if c > tries:\n",
    "            return False\n",
    "\n",
    "    bsq = a**2 - n\n",
    "    b = gmpy2.isqrt(bsq)\n",
    "    p = a + b\n",
    "    q = a - b\n",
    "\n",
    "    return [p, q],i\n",
    "\n",
    "fermat(26867473220798331329214839914132955975380508045895701773576101737313014109009544375162125340148730855159673217506130546557645991237400197294066124015996906715696595569850607769203219432748223367896407971859882909283666424794335511238352151449332453936790443222692482616690779532111250869588402142513446535565572153141413963820526635399154480499791012820202377890087164986485505509531619919720172228001045298643407249803083)"
   ]
  },
  {
   "cell_type": "code",
   "execution_count": 4,
   "id": "bb8b0c1d",
   "metadata": {},
   "outputs": [
    {
     "name": "stdout",
     "output_type": "stream",
     "text": [
      "['0x2911ffaaaaaaaaaa', '0x32ddb66273cf03bff7bc7bb9559e13aa52917bd3de34f16d67ecf48dd1ffa5a544a3b4d6c5b90d99e29fdea728122533adab31155c9151041bd24b062c18bfa762a90fcff6c91f54160c0493525a444624362c9e7878c9908283ffedd19ed2e535fcfb4c4b7e31a42976e2eef9e3b7f9672eb74f8ffb6befee77f82e79cfd4786321cfe42a865e2198f88392d20c20421d4d020efdb', '0x1991d5422ca9f6fe2cce0ae667cd4576657213b67072a29a44486a67a7e2d01c5d7232110821d9616c8f799b498ed4737c63c74d782cb60de3f74a67ad694a1d5760caf62e3eddd1ca66bc42cdcd0c8e829bbac4524430cea2ea2e0af5fc824249c498b9375add6cda40b1a8ff4ef2e43948db23dc95173cdcd1c381ee3c7e2cbfa22ad7f1b3e7fda42db91526cb89f5385be470855e', '0x1cbfb0a853e6e73a2c49d2a1fd2726b10a9b2b73ae55f1b11ac739b08502ca76b1bc6d5e747d6a3b0ab97785bc0ff6c6b73e7a5ecdf5cb1e25b46f18102ad617cd8b5bf32dab6fc70bc77c8c02f2b0d2e4df1d8e39cbbd67ab126e09d3166f709d24686dfc12c0871cd81fd7eeed2e63cfbbc698d594cdfbdbb94304d5d97b7445d447d6345c4ddfbdbd414e53ec22e75a8609e6ca8f']\n"
     ]
    }
   ],
   "source": [
    "from sympy.ntheory.modular import solve_congruence\n",
    "\n",
    "def extended_gcd(a, b):\n",
    "    \"\"\" Extended Euclidean Algorithm \"\"\"\n",
    "    if a == 0:\n",
    "        return b, 0, 1\n",
    "    gcd, x1, y1 = extended_gcd(b % a, a)\n",
    "    x = y1 - (b // a) * x1\n",
    "    y = x1\n",
    "    return gcd, x, y\n",
    "\n",
    "def modular_sqrt(a, p):\n",
    "    \"\"\" Find a modular square root of a mod p \"\"\"\n",
    "    # Special case where p is a prime\n",
    "    if p % 4 == 3:\n",
    "        return pow(a, (p + 1) // 4, p)\n",
    "    else:\n",
    "        # Implementing Tonelli-Shanks algorithm or similar would be needed for other cases\n",
    "        raise NotImplementedError(\"The function is not implemented for primes where p % 4 != 3.\")\n",
    "\n",
    "def chinese_remainder_theorem(a1, m1, a2, m2):\n",
    "    \"\"\" Chinese Remainder Theorem \"\"\"\n",
    "    gcd, m1_inv, m2_inv = extended_gcd(m1, m2)\n",
    "    if gcd != 1:\n",
    "        raise ValueError(\"Moduli are not co-prime\")\n",
    "    return (a1 * m2 * m2_inv + a2 * m1 * m1_inv) % (m1 * m2)\n",
    "\n",
    "# Given values\n",
    "N = 14902153689273420948750156018800547595962757912228480852869515532691427278066612631480872568145590907406643221842248874197021167726220276558641310343247246585833912752669341478149823717893733425544982432917139743005781654709014697487382212716782579323465148856333770569803198939835163459829772280159624444387615695515210520083209547881018776274930182405795320529\n",
    "C = 0x765a27fcc1123455794fa320fedcba99\n",
    "p = 1390551877957199575037954793541476822970914083147535493229971480385161424944671571566805901143766166649018002569045512218416037631535638130144734364495362854115480267216524851908391\n",
    "\n",
    "# Calculate q\n",
    "q = N // p\n",
    "\n",
    "# Calculate the modular square roots\n",
    "m_p1 = modular_sqrt(C, p)\n",
    "m_p2 = p - m_p1\n",
    "m_q1 = modular_sqrt(C, q)\n",
    "m_q2 = q - m_q1\n",
    "\n",
    "# Apply the Chinese Remainder Theorem\n",
    "m1 = chinese_remainder_theorem(m_p1, p, m_q1, q)\n",
    "m2 = chinese_remainder_theorem(m_p1, p, m_q2, q)\n",
    "m3 = chinese_remainder_theorem(m_p2, p, m_q1, q)\n",
    "m4 = chinese_remainder_theorem(m_p2, p, m_q2, q)\n",
    "\n",
    "# Convert to hex format\n",
    "m_hex = [hex(m) for m in (m1, m2, m3, m4)]\n",
    "print(m_hex)"
   ]
  },
  {
   "cell_type": "code",
   "execution_count": 7,
   "id": "c6f6cd67",
   "metadata": {},
   "outputs": [
    {
     "name": "stdout",
     "output_type": "stream",
     "text": [
      "SHA-256 Hash: 18ac3e7343f016890c510e93f935261169d9e3f565436429830faf0934f4f8e4\n"
     ]
    }
   ],
   "source": [
    "import hashlib\n",
    "\n",
    "str_value = \"d\"\n",
    "sha256_hash = hashlib.sha256(str_value.encode()).hexdigest()\n",
    "print(\"SHA-256 Hash:\", sha256_hash)"
   ]
  },
  {
   "cell_type": "code",
   "execution_count": 9,
   "id": "194fa266",
   "metadata": {},
   "outputs": [
    {
     "name": "stdout",
     "output_type": "stream",
     "text": [
      "Merkle Root: a9c9f50682ef6a67e9ca7bcce58262479f34754a6a4796ef343e4b2aac368893\n"
     ]
    }
   ],
   "source": [
    "import hashlib\n",
    "\n",
    "merkle_branch = [\n",
    "    \"2e7d2c03a9507ae265ecf5b5356885a53393a2029d241394997265a1a25aefc6\",\n",
    "    \"cf716f1e7934014cc67d3bded144f2b5abac20369b70f1c3a8eb3276d9de209a\",\n",
    "    \"9376e34d9a15765d98c8e5fd68d5e3b18b20116b9d4faa293f326a93731078ef\",\n",
    "    \"2e15ecd6e7d77f95c9275a7cc4cf9338518ef7b9490097510f994d8111ccf1d8\",\n",
    "    \"8a4528a3fe72db85253e6b2d0dce3de5ede91ece01ac45a4b86b29f0681e6fcc\"\n",
    "]\n",
    "\n",
    "def merkle_root(leaf, branch, index):\n",
    "    current_hash = leaf\n",
    "    for i, sibling in enumerate(branch):\n",
    "        if (index >> i) & 1:\n",
    "            current_hash = hashlib.sha256(bytes.fromhex(sibling + current_hash)).hexdigest()\n",
    "        else:\n",
    "            current_hash = hashlib.sha256(bytes.fromhex(current_hash + sibling)).hexdigest()\n",
    "    return current_hash\n",
    "\n",
    "leaf_index = 2\n",
    "merkle_root_hash = merkle_root(sha256_hash, merkle_branch, leaf_index)\n",
    "print(\"Merkle Root:\", merkle_root_hash)"
   ]
  },
  {
   "cell_type": "code",
   "execution_count": null,
   "id": "88bacd52",
   "metadata": {},
   "outputs": [],
   "source": [
    "\"043a718774c572bd8a25adbeb1bfcd5c0256ae11cecf9f9c3f925d0e52beaf89\",\n",
    "\"aaf76092023d7001b92495856e34fbec93e104bc8c456736a0e6f8ff0375337d\",\n",
    "\"0cb25d78563115d5fc407990f4a8895455d5434a29d9168cd8f7e4252250eb10\",\n",
    "\"2e8fdf97274538987064d6d82fa0b3b7127c3ba1f62735a6f86f74bb5fe09349\",\n",
    "\"3b018a82ce19acbbf43debd6bc15d296e311e1856df9a286165342a179d56e1b\""
   ]
  }
 ],
 "metadata": {
  "kernelspec": {
   "display_name": "Python 3 (ipykernel)",
   "language": "python",
   "name": "python3"
  },
  "language_info": {
   "codemirror_mode": {
    "name": "ipython",
    "version": 3
   },
   "file_extension": ".py",
   "mimetype": "text/x-python",
   "name": "python",
   "nbconvert_exporter": "python",
   "pygments_lexer": "ipython3",
   "version": "3.11.5"
  }
 },
 "nbformat": 4,
 "nbformat_minor": 5
}
