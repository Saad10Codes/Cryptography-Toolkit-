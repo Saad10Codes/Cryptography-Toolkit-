{
 "cells": [
  {
   "cell_type": "code",
   "execution_count": 3,
   "id": "28b9ddf0",
   "metadata": {},
   "outputs": [],
   "source": [
    "from Crypto import Random\n",
    "from Crypto.Cipher import AES\n"
   ]
  },
  {
   "cell_type": "code",
   "execution_count": 4,
   "id": "df702673",
   "metadata": {},
   "outputs": [],
   "source": [
    "import hashlib\n",
    "from Crypto import Random\n",
    "from Crypto.Cipher import AES\n",
    "from base64 import b64encode, b64decode\n",
    "\n",
    "class AESCipher(object):\n",
    "    def __init__(self, key):\n",
    "        self.block_size = AES.block_size\n",
    "        self.key = hashlib.sha256(key.encode()).digest()\n",
    "\n",
    "    def encrypt(self, plain_text):\n",
    "        plain_text = self.__pad(plain_text)\n",
    "        iv = Random.new().read(self.block_size)\n",
    "        cipher = AES.new(self.key, AES.MODE_CBC, iv)\n",
    "        encrypted_text = cipher.encrypt(plain_text.encode())\n",
    "        return b64encode(iv + encrypted_text).decode(\"utf-8\")\n",
    "\n",
    "    def decrypt(self, encrypted_text):\n",
    "        encrypted_text = b64decode(encrypted_text)\n",
    "        iv = encrypted_text[:self.block_size]\n",
    "        cipher = AES.new(self.key, AES.MODE_CBC, iv)\n",
    "        plain_text = cipher.decrypt(encrypted_text[self.block_size:]).decode(\"utf-8\")\n",
    "        return self.__unpad(plain_text)\n",
    "\n",
    "    def __pad(self, plain_text):\n",
    "        number_of_bytes_to_pad = self.block_size - len(plain_text) % self.block_size\n",
    "        ascii_string = chr(number_of_bytes_to_pad)\n",
    "        padding_str = number_of_bytes_to_pad * ascii_string\n",
    "        padded_plain_text = plain_text + padding_str\n",
    "        return padded_plain_text\n",
    "\n",
    "    @staticmethod\n",
    "    def __unpad(plain_text):\n",
    "        last_character = plain_text[len(plain_text) - 1:]\n",
    "        return plain_text[:-ord(last_character)]"
   ]
  },
  {
   "cell_type": "code",
   "execution_count": 11,
   "id": "eb4d8bb1",
   "metadata": {},
   "outputs": [],
   "source": [
    "aes=AESCipher(\"a3434ea\")"
   ]
  },
  {
   "cell_type": "code",
   "execution_count": 12,
   "id": "34c56c5a",
   "metadata": {},
   "outputs": [
    {
     "data": {
      "text/plain": [
       "'dBwsS4LSKvvHGbzhG0Nk/tirkKREtoXj2H4gKeqkOmc='"
      ]
     },
     "execution_count": 12,
     "metadata": {},
     "output_type": "execute_result"
    }
   ],
   "source": [
    "aes.encrypt(\"Saad\")"
   ]
  },
  {
   "cell_type": "code",
   "execution_count": 7,
   "id": "7c91a68c",
   "metadata": {},
   "outputs": [
    {
     "name": "stdout",
     "output_type": "stream",
     "text": [
      "Final Chain Value: 687922f2918dbce91650b44dc5b67c45d5b8b1e4a28ee0e44223e6a4c011d613c03f27b8f2a030d05c8df755cd4fba5c09043eb02a1c1e31c71293fed04fd338480e73fb2b26d1f0c9a7e9a60ce08d4bf60fa29ed5345de3bd3fe55776cd0294339d2c17d73867b71343e212fa7372f08624ff2c5fbdaf4169b6bb823cb43c73c22893ac25a45fb35d6baeeeb369d4a14850480026686c7966c52587562d77beef8cf036c03e2cc2061a25051d5993a2b313fb93f135caf968f7ed6adbe2248f51bd8208ecf8acee9bf5b3bbcce19d5198d0e0c3d6745f1defb3b2cba8784c08e61a2e1771e77707945026b4e27013d77c076f75efb3727c54fb4b3318744f77b1d03ce1d4a2162f453f66a8e5af57321d9f410b7aec271b6eb7c66f570af0a904a3e9306a78813dd825e0d09b8364b7cf5a771c7230d6661b62b2b751e419bf708d24a195affd87b1b48fa562fc64e0fca09421684eb36d9f6d39ae57e37f461303ae547c3e6d51af5f024ce72934eefc648814cebc2182b896ac5266a85438d832d5e03b535051cd792051053e54980916baa0224386de4c745d5d727ad9551b3266e56ba8d38202c3d1eb0b84f9ba8200669336d2820c8197ad6577e8ea01fada107e5e9ee3d9511ad61fe808d682a0765059c2ec498a6b691a7c4b9add2a2938a78ee4ea4787aaef3cbf4cc2dd21c1f8959dc36d9a47e2d7e4460acf9f87c5ea78d2a626dbe957e9eedf214cc542a457ec3656187bf972d183f57f64e89eaa57ebc013045bda3451dc628ab0854c68719b970d895e41a00c21d724405dfea1ef9bdc3929796b509a46d18371959d676408af32a582edab68a35335ba8688732f3d2435dc3216c6d6684c014c9b97279fdd516d290f5de6be80dcfbc065d0b13142fb2a8f906b577e0f076f7e3d5162b3687e6bb064458ae5973d65d1271c7c610b1f22709cd1b3230b63cbdf8fc54c3a4444a3c8002b9b6fc7a19423505375446082b4e970a29791443d00673e3f7d064733d01156607b1813ba49194c021f3eb8cb1bbd3bc41703a6f5da9f50070f274280f799f764bb8b332bfce146d6458152b7d83749e6cbc2c8bb0e2e335b8d1d307a51377b180d1e5ea2a28d76aa5ff57a4bb83cc2882269bf4a12d0d24ad9bcc7dc12ef5caf4f068b13d087f0c1b478f46ed7816c3d37b25c649f219a016ac03ee72c6aa02b08c97f36c6bf65caab77221bff2fa643c33e82e1d24a74e334408084b17011548239bb43e91d97120efbee62cc14f3da1307e147934fd6b095943431f18679796d24a5c20161ffaf189aaf1f56ca9e017e67b63c79deba46419122bee4938b201b457b2b3810d5484b4589801983a49837bdc122b91577274240c9c5d23751ae5b4da26fae2ce9f3c6939c734ba0f3777ddba36e900d86c39639b7fed4bacee57cc829f1e12fa56991d121ed1bc4d340faf82d61391c704f0e7590b8e39d27b370df95389a971f00fcf789b865651c1cf0a3da3696465a6e3916c78ce59acc90778b5ec7f6cdad7c16526a1c6ca23f314da9e8182cdb9483b6c4a84c8d8d27df550febf278566a6914f36e16ec3ab548337e55bf16946832bc012abadd1db2b62b1ec6746e6cff502e2f4427866c54e104a6539ba0da83bc6a286cc5c888bf9afe13e5cd486beca0a0883172bd2cf304b38dd1e353795696c42fa32029dc9814a06d28c04bd9c098820a6b573b1a3486230ee74f5820ff75a0d93b4cee943ec396491d6a2338229ef08dac70195da6e26fc1ddf6d8fccaceb82c71b60f7018fe25d6be4da6d86b089406e0ade6d9dd349c302d6c4759287e7b5fa45689fc68b89dd06db4f95d6aa08ce28263e1c2dc7028df601c73d5972e30c430e0d2e60c00276cb3b47849c6d4d39ea7c0b1c83d0aad991c40bc2e97dc0ad931493f03d11d262630198921d2dc3263ef7768119541350541667ff693cf7aa152973c9333902aba33f738e461666b4e724e2dcce9b7268ecd4a8b9e47bcc5af33b5fabdea59e4f8e77518d8ba5a45cfa73ca03ad271c3973578dfafba3cd4fe8d09d5993e636abcb8c291a8884288e85b72f23e56fd1c132beeae023e7a7d220cd98e1f6bc798bda3bcefa3a87a0ba7589fa201f2f6873b5de1fdbf88ef7b2bd1f7c1947c7c350b63c48933f00373957b989d0b893e7be428961509c5856d8008ccff171502cee116db27c01d37d4ba6cdf426502932aa4d94f4b8ff911dc83594c940ff5f5b971a22d880d19b09c5c8d67918dbc342fa90ef6e696e981ed059f5be8eb51925e4109403dcfbb884d8ee9cdd83d8a95ec65dff6ffcaf8d02ba87a395b29405f837ce0c6922627e12bd8dcfd763079a0125fd24007455bd346ca03333d784c08021c97271c8ba7711dec88d943b8debb520394fcc0afb0c5921bfadbbfbe51978c86fef1bf9729e056ece73b3d878733693cc4d86e10de151508fece07ec8bdb89f1517c6073d1b6bf26b419c6fb65d28d26342a73276505b3909e1e2d181a3ae304cadf2aa60b7f76fddb6f992a700c94647c5db3c60e2702700da2edcb6d413b51d15c635f872573975f31953752a3da020efaf124bcc39328d26b2b5418124034f6612a8abf28114326b6815bd4220c9a2a266f34efddf261a53d0dcfdf5f3df3781a5e3d47a08855ea8ea249cbaf17940bf2b6042c1467299e33ed336a895fd3164f495c8718615355df32ea26e612269f8b1bb354f2242aea375afffe1afeee410d8154fa32\n"
     ]
    }
   ],
   "source": [
    "from Crypto.Cipher import AES\n",
    "from Crypto.Util.Padding import pad, unpad\n",
    "from binascii import hexlify, unhexlify\n",
    "\n",
    "def aes_encrypt(key, plaintext):\n",
    "    cipher = AES.new(key, AES.MODE_ECB)\n",
    "    ciphertext = cipher.encrypt(pad(plaintext, AES.block_size))\n",
    "    return ciphertext\n",
    "\n",
    "def hex_to_bytes(hex_string):\n",
    "    return unhexlify(hex_string)\n",
    "\n",
    "def bytes_to_hex(byte_string):\n",
    "    return hexlify(byte_string).decode('utf-8')\n",
    "\n",
    "# Given data\n",
    "plaintext = \"11111111111111111111111111111111\"\n",
    "initial_chain_value_hex = \"deba3c6b7faf973831d481c47760ff3dc1d95e745ff373cb239e1abb38b35db9\"\n",
    "chain_length = 120\n",
    "\n",
    "# Convert the hex strings to bytes\n",
    "initial_chain_value = hex_to_bytes(initial_chain_value_hex)\n",
    "\n",
    "# Use a specific key (32 bytes for AES-256)\n",
    "aes_key_hex = \"00112233445566778899aabbccddeeff00112233445566778899aabbccddeeff\"\n",
    "aes_key = hex_to_bytes(aes_key_hex)\n",
    "\n",
    "# Iteratively apply AES encryption\n",
    "current_chain_value = initial_chain_value\n",
    "for i in range(chain_length):\n",
    "    current_chain_value = aes_encrypt(aes_key, current_chain_value)\n",
    "\n",
    "# Convert the final chain value to hex for display\n",
    "final_chain_value_hex = bytes_to_hex(current_chain_value)\n",
    "print(\"Final Chain Value:\", final_chain_value_hex)\n"
   ]
  },
  {
   "cell_type": "code",
   "execution_count": null,
   "id": "267411da",
   "metadata": {},
   "outputs": [],
   "source": []
  },
  {
   "cell_type": "code",
   "execution_count": null,
   "id": "ee2ab329",
   "metadata": {},
   "outputs": [],
   "source": []
  }
 ],
 "metadata": {
  "kernelspec": {
   "display_name": "Python 3 (ipykernel)",
   "language": "python",
   "name": "python3"
  },
  "language_info": {
   "codemirror_mode": {
    "name": "ipython",
    "version": 3
   },
   "file_extension": ".py",
   "mimetype": "text/x-python",
   "name": "python",
   "nbconvert_exporter": "python",
   "pygments_lexer": "ipython3",
   "version": "3.11.5"
  }
 },
 "nbformat": 4,
 "nbformat_minor": 5
}
