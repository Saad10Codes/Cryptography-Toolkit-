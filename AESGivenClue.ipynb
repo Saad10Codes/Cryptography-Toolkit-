{
 "cells": [
  {
   "cell_type": "code",
   "execution_count": 1,
   "id": "c46fd9bd-4919-4004-88d2-ed726e2581c8",
   "metadata": {},
   "outputs": [
    {
     "ename": "UnpicklingError",
     "evalue": "invalid load key, '\\xac'.",
     "output_type": "error",
     "traceback": [
      "\u001b[1;31m---------------------------------------------------------------------------\u001b[0m",
      "\u001b[1;31mUnpicklingError\u001b[0m                           Traceback (most recent call last)",
      "Cell \u001b[1;32mIn[1], line 45\u001b[0m\n\u001b[0;32m     42\u001b[0m     \u001b[38;5;28mprint\u001b[39m(\u001b[38;5;124m\"\u001b[39m\u001b[38;5;124mShared Key: \u001b[39m\u001b[38;5;124m\"\u001b[39m \u001b[38;5;241m+\u001b[39m byte_array_to_hex(shared_key))\n\u001b[0;32m     44\u001b[0m \u001b[38;5;28;01mif\u001b[39;00m \u001b[38;5;18m__name__\u001b[39m \u001b[38;5;241m==\u001b[39m \u001b[38;5;124m\"\u001b[39m\u001b[38;5;124m__main__\u001b[39m\u001b[38;5;124m\"\u001b[39m:\n\u001b[1;32m---> 45\u001b[0m     \u001b[43mmain\u001b[49m\u001b[43m(\u001b[49m\u001b[43m)\u001b[49m\n",
      "Cell \u001b[1;32mIn[1], line 33\u001b[0m, in \u001b[0;36mmain\u001b[1;34m()\u001b[0m\n\u001b[0;32m     31\u001b[0m \u001b[38;5;66;03m# Reading the serialized RSA key pair from the specified file\u001b[39;00m\n\u001b[0;32m     32\u001b[0m \u001b[38;5;28;01mwith\u001b[39;00m \u001b[38;5;28mopen\u001b[39m(\u001b[38;5;124m\"\u001b[39m\u001b[38;5;124mDefaultRSA_key.ser\u001b[39m\u001b[38;5;124m\"\u001b[39m, \u001b[38;5;124m\"\u001b[39m\u001b[38;5;124mrb\u001b[39m\u001b[38;5;124m\"\u001b[39m) \u001b[38;5;28;01mas\u001b[39;00m file:\n\u001b[1;32m---> 33\u001b[0m     secret_key_obj \u001b[38;5;241m=\u001b[39m \u001b[43mpickle\u001b[49m\u001b[38;5;241;43m.\u001b[39;49m\u001b[43mload\u001b[49m\u001b[43m(\u001b[49m\u001b[43mfile\u001b[49m\u001b[43m)\u001b[49m\n\u001b[0;32m     35\u001b[0m \u001b[38;5;66;03m# Initializing the Cipher for RSA decryption\u001b[39;00m\n\u001b[0;32m     36\u001b[0m rsa_cipher \u001b[38;5;241m=\u001b[39m PKCS1_OAEP\u001b[38;5;241m.\u001b[39mnew(secret_key_obj)\n",
      "\u001b[1;31mUnpicklingError\u001b[0m: invalid load key, '\\xac'."
     ]
    }
   ],
   "source": [
    "import base64\n",
    "import pickle\n",
    "from Crypto.Cipher import PKCS1_OAEP\n",
    "from Crypto.PublicKey import RSA\n",
    "\n",
    "# Utility function to convert a byte array to a hexadecimal string\n",
    "def byte_array_to_hex(byte_array):\n",
    "    return ''.join(format(byte, '02x') for byte in byte_array)\n",
    "\n",
    "def main():\n",
    "    # The cipher text byte array to be decrypted\n",
    "    cipher_text_arr = bytes([\n",
    "        0x7b, 0xb1, 0xe0, 0x8f, 0x7e, 0xc0, 0x12, 0x7b, 0xc0, 0x7d, 0x8c, 0x55, 0xed, 0x96, 0x40, 0x0f,\n",
    "        0x92, 0x8a, 0x5a, 0xe4, 0xf1, 0x1d, 0x51, 0xe2, 0x40, 0x74, 0x84, 0x67, 0x52, 0xbd, 0x7d, 0xe8,\n",
    "        0x02, 0x9b, 0x8e, 0xf4, 0xac, 0x5a, 0xe1, 0xbc, 0xd9, 0x62, 0x63, 0xb9, 0x3b, 0xc5, 0x72, 0x86,\n",
    "        0x4c, 0x57, 0xa0, 0xf1, 0x50, 0x7b, 0x64, 0x76, 0xf4, 0xcf, 0xa2, 0xc6, 0x1d, 0x38, 0x11, 0x98,\n",
    "        0xcd, 0xe2, 0xa2, 0x8e, 0xd3, 0xc3, 0x63, 0x2a, 0xa7, 0x28, 0xe9, 0xe1, 0xf4, 0xc0, 0x30, 0x0e,\n",
    "        0xf3, 0xab, 0xf6, 0xb6, 0x12, 0x6a, 0xeb, 0x46, 0x85, 0x6a, 0x73, 0x0e, 0x79, 0x22, 0x5d, 0x26,\n",
    "        0x5a, 0x64, 0x51, 0xd1, 0x1e, 0x46, 0xce, 0xbf, 0x3a, 0x5e, 0xab, 0x9a, 0x42, 0x38, 0x49, 0x14,\n",
    "        0xed, 0xec, 0x10, 0x17, 0xc1, 0xa6, 0x04, 0x71, 0xb3, 0x15, 0xd9, 0xa1, 0x77, 0x2a, 0x7d, 0x5a,\n",
    "        0xd5, 0x65, 0x1e, 0xd6, 0xdc, 0x0b, 0x52, 0xed, 0x8d, 0xb3, 0x16, 0xaa, 0xe9, 0xbb, 0xbe, 0x15,\n",
    "        0x05, 0x50, 0x30, 0xe3, 0x8f, 0x96, 0xa5, 0x42, 0x45, 0xdf, 0x32, 0x12, 0x7e, 0x78, 0x50, 0xa4,\n",
    "        0x42, 0xb5, 0x8c, 0x8f, 0xab, 0x15, 0x4d, 0x51, 0x32, 0x5b, 0xe3, 0x17, 0x3b, 0x84, 0x6b, 0x0d,\n",
    "        0x16, 0xf0, 0xe1, 0x19, 0x1e, 0xf9, 0x46, 0xb5, 0x55, 0x72, 0x70, 0xe9, 0x6e, 0x4a, 0x6c, 0x63,\n",
    "        0x4b, 0x62, 0xb5, 0xc5, 0x33, 0xf7, 0xef, 0x84, 0xa2, 0xb1, 0x70, 0xcb, 0xb5, 0xbd, 0x1e, 0x05,\n",
    "        0x9c, 0xa4, 0x9a, 0x41, 0xbb, 0x45, 0xdf, 0x8a, 0x5b, 0xdd, 0x37, 0x92, 0xaf, 0xc8, 0xfe, 0xe7,\n",
    "        0xe2, 0x4d, 0xe5, 0xef, 0x12, 0xca, 0x64, 0xf2, 0x77, 0xff, 0xf2, 0x5f, 0x9e, 0xf1, 0x9f, 0x5b,\n",
    "        0x4e, 0x37, 0xee, 0x7e, 0xa1, 0xbd, 0x9d, 0x9e, 0x12, 0xb6, 0x92, 0xbc, 0xa1, 0x00, 0x04, 0x08\n",
    "    ])\n",
    "\n",
    "    # Reading the serialized RSA key pair from the specified file\n",
    "    with open(\"DefaultRSA_key.ser\", \"rb\") as file:\n",
    "        secret_key_obj = pickle.load(file)\n",
    "\n",
    "    # Initializing the Cipher for RSA decryption\n",
    "    rsa_cipher = PKCS1_OAEP.new(secret_key_obj)\n",
    "\n",
    "    # Decrypting the cipher text to retrieve the shared AES key\n",
    "    shared_key = rsa_cipher.decrypt(cipher_text_arr)\n",
    "\n",
    "    # Printing the decrypted shared key in hexadecimal format\n",
    "    print(\"Shared Key: \" + byte_array_to_hex(shared_key))\n",
    "\n",
    "if __name__ == \"__main__\":\n",
    "    main()\n"
   ]
  },
  {
   "cell_type": "code",
   "execution_count": null,
   "id": "46466728-62aa-4df9-b1b0-9b77bb360f5b",
   "metadata": {},
   "outputs": [],
   "source": []
  }
 ],
 "metadata": {
  "kernelspec": {
   "display_name": "Python 3 (ipykernel)",
   "language": "python",
   "name": "python3"
  },
  "language_info": {
   "codemirror_mode": {
    "name": "ipython",
    "version": 3
   },
   "file_extension": ".py",
   "mimetype": "text/x-python",
   "name": "python",
   "nbconvert_exporter": "python",
   "pygments_lexer": "ipython3",
   "version": "3.11.5"
  }
 },
 "nbformat": 4,
 "nbformat_minor": 5
}
