{
 "cells": [
  {
   "cell_type": "code",
   "execution_count": 4,
   "id": "25923014-cde4-4fc1-92c5-16ca155a3dd4",
   "metadata": {},
   "outputs": [
    {
     "name": "stdout",
     "output_type": "stream",
     "text": [
      "Ava's Public Key Point: (mpz(32768375), mpz(1793089))\n",
      "Saoirse's Public Key Point: (mpz(54979418), mpz(13976040))\n",
      "Shared Point by Ava: (mpz(52941695), mpz(18083111))\n",
      "Shared Point by Saoirse: (mpz(52941695), mpz(18083111))\n",
      "Shared point successfully verified.\n"
     ]
    }
   ],
   "source": [
    "from ecdsa import ellipticcurve \n",
    "from ecdsa.ellipticcurve import Point\n",
    "\n",
    "# Given parameters\n",
    "p = 56214887\n",
    "a = 24163456\n",
    "b = 45001710\n",
    "Gx = 19632307\n",
    "Gy = 48100200\n",
    "n = 56216311\n",
    "\n",
    "# Define the elliptic curve\n",
    "curve = ellipticcurve.CurveFp(p, a, b)\n",
    "\n",
    "# Define the base point P\n",
    "G = Point(curve, Gx, Gy, n)\n",
    "\n",
    "# Ava's and Saoirse's secrets\n",
    "ava_secret = 10007\n",
    "saoirse_secret = 797161\n",
    "\n",
    "# Calculate Ava's public key\n",
    "ava_public_key = ava_secret * G\n",
    "\n",
    "# Calculate Saoirse's public key\n",
    "saoirse_public_key = saoirse_secret * G\n",
    "\n",
    "# Calculate the shared secret by both users\n",
    "# Ava calculates the shared point using Saoirse's public key and her own private key\n",
    "shared_point_by_ava = ava_secret * saoirse_public_key\n",
    "\n",
    "# Saoirse calculates the shared point using Ava's public key and her own private key\n",
    "shared_point_by_saoirse = saoirse_secret * ava_public_key\n",
    "\n",
    "# Print the results\n",
    "print(\"Ava's Public Key Point:\", (ava_public_key.x(), ava_public_key.y()))\n",
    "print(\"Saoirse's Public Key Point:\", (saoirse_public_key.x(), saoirse_public_key.y()))\n",
    "print(\"Shared Point by Ava:\", (shared_point_by_ava.x(), shared_point_by_ava.y()))\n",
    "print(\"Shared Point by Saoirse:\", (shared_point_by_saoirse.x(), shared_point_by_saoirse.y()))\n",
    "\n",
    "# Verify that both shared points are the same\n",
    "assert shared_point_by_ava == shared_point_by_saoirse, \"Shared points do not match!\"\n",
    "\n",
    "print(\"Shared point successfully verified.\")\n"
   ]
  },
  {
   "cell_type": "code",
   "execution_count": null,
   "id": "7f8f1bf1-3f71-4636-b49a-d75a2179657e",
   "metadata": {},
   "outputs": [],
   "source": []
  }
 ],
 "metadata": {
  "kernelspec": {
   "display_name": "Python 3 (ipykernel)",
   "language": "python",
   "name": "python3"
  },
  "language_info": {
   "codemirror_mode": {
    "name": "ipython",
    "version": 3
   },
   "file_extension": ".py",
   "mimetype": "text/x-python",
   "name": "python",
   "nbconvert_exporter": "python",
   "pygments_lexer": "ipython3",
   "version": "3.11.5"
  }
 },
 "nbformat": 4,
 "nbformat_minor": 5
}
