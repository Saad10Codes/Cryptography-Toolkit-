{
 "cells": [
  {
   "cell_type": "code",
   "execution_count": 3,
   "id": "91a8c38c",
   "metadata": {},
   "outputs": [
    {
     "data": {
      "text/plain": [
       "([mpz(5183384340447689716272748340332079452288949539614155565019282410685258089479827246017717435120706845893511860163886547450660473118645638512880756729146479255719022512313123408528383318412153892760771094056426687),\n",
       "  mpz(5183384340447689716272748340332079452288949539614155565019282410685258089479827246017717435120706845884117689832791214539102550731488290403378026533513199772889858626184287308069949544557357899221696281928686709)],\n",
       " 2128206)"
      ]
     },
     "execution_count": 3,
     "metadata": {},
     "output_type": "execute_result"
    }
   ],
   "source": [
    "import gmpy2\n",
    "\n",
    "def fermat(n):\n",
    "    tries = 100000000\n",
    "    a = gmpy2.isqrt(n)\n",
    "    c = 0\n",
    "    i=0\n",
    "\n",
    "\n",
    "    while not gmpy2.is_square(a**2 - n):\n",
    "        a += 1\n",
    "        c += 1\n",
    "        i+=1\n",
    "\n",
    "        if c > tries:\n",
    "            return False\n",
    "\n",
    "    bsq = a**2 - n\n",
    "    b = gmpy2.isqrt(bsq)\n",
    "    p = a + b\n",
    "    q = a - b\n",
    "\n",
    "    return [p, q],i\n",
    "\n",
    "fermat(26867473220798331329214839914132955975380508045895701773576101737313014109009544375162125340148730855159673217506130546557645991237400197294066124015996906715696595569850607769203219432748223367896407971859882909283666424794335511238352151449332453936790443222692482616690779532111250869588402142513446535565572153141413963820526635399154480499791012820202377890087164986485505509531619919720172228001045298643407249803083)"
   ]
  },
  {
   "cell_type": "code",
   "execution_count": 2,
   "id": "2e15afd5",
   "metadata": {},
   "outputs": [
    {
     "ename": "KeyboardInterrupt",
     "evalue": "",
     "output_type": "error",
     "traceback": [
      "\u001b[1;31m---------------------------------------------------------------------------\u001b[0m",
      "\u001b[1;31mKeyboardInterrupt\u001b[0m                         Traceback (most recent call last)",
      "Cell \u001b[1;32mIn[2], line 23\u001b[0m\n\u001b[0;32m     20\u001b[0m p \u001b[38;5;241m=\u001b[39m \u001b[38;5;241m1167290455031706531387695250349521076958635505626068245729867131656444919329406116418184053\u001b[39m\n\u001b[0;32m     22\u001b[0m \u001b[38;5;66;03m# Find the discrete logarithm x\u001b[39;00m\n\u001b[1;32m---> 23\u001b[0m x \u001b[38;5;241m=\u001b[39m \u001b[43mdiscrete_log_bsgs\u001b[49m\u001b[43m(\u001b[49m\u001b[43my\u001b[49m\u001b[43m,\u001b[49m\u001b[43m \u001b[49m\u001b[43mg\u001b[49m\u001b[43m,\u001b[49m\u001b[43m \u001b[49m\u001b[43mp\u001b[49m\u001b[43m)\u001b[49m\n\u001b[0;32m     25\u001b[0m \u001b[38;5;28mprint\u001b[39m(\u001b[38;5;124m\"\u001b[39m\u001b[38;5;124mThe discrete logarithm x is:\u001b[39m\u001b[38;5;124m\"\u001b[39m, x)\n",
      "Cell \u001b[1;32mIn[2], line 5\u001b[0m, in \u001b[0;36mdiscrete_log_bsgs\u001b[1;34m(y, g, p)\u001b[0m\n\u001b[0;32m      2\u001b[0m m \u001b[38;5;241m=\u001b[39m \u001b[38;5;28mint\u001b[39m(p \u001b[38;5;241m*\u001b[39m\u001b[38;5;241m*\u001b[39m \u001b[38;5;241m0.5\u001b[39m) \u001b[38;5;241m+\u001b[39m \u001b[38;5;241m1\u001b[39m\n\u001b[0;32m      4\u001b[0m \u001b[38;5;66;03m# Precompute values of g^(m * j) for j = 0, 1, ..., m-1\u001b[39;00m\n\u001b[1;32m----> 5\u001b[0m precomputed_values \u001b[38;5;241m=\u001b[39m \u001b[43m{\u001b[49m\u001b[38;5;28;43mpow\u001b[39;49m\u001b[43m(\u001b[49m\u001b[43mg\u001b[49m\u001b[43m,\u001b[49m\u001b[43m \u001b[49m\u001b[43mj\u001b[49m\u001b[43m,\u001b[49m\u001b[43m \u001b[49m\u001b[43mp\u001b[49m\u001b[43m)\u001b[49m\u001b[43m:\u001b[49m\u001b[43m \u001b[49m\u001b[43mj\u001b[49m\u001b[43m \u001b[49m\u001b[38;5;28;43;01mfor\u001b[39;49;00m\u001b[43m \u001b[49m\u001b[43mj\u001b[49m\u001b[43m \u001b[49m\u001b[38;5;129;43;01min\u001b[39;49;00m\u001b[43m \u001b[49m\u001b[38;5;28;43mrange\u001b[39;49m\u001b[43m(\u001b[49m\u001b[43mm\u001b[49m\u001b[43m)\u001b[49m\u001b[43m}\u001b[49m\n\u001b[0;32m      7\u001b[0m \u001b[38;5;66;03m# Calculate g^(-m) mod p\u001b[39;00m\n\u001b[0;32m      8\u001b[0m g_inv_m \u001b[38;5;241m=\u001b[39m \u001b[38;5;28mpow\u001b[39m(g, \u001b[38;5;241m-\u001b[39mm, p)\n",
      "Cell \u001b[1;32mIn[2], line 5\u001b[0m, in \u001b[0;36m<dictcomp>\u001b[1;34m(.0)\u001b[0m\n\u001b[0;32m      2\u001b[0m m \u001b[38;5;241m=\u001b[39m \u001b[38;5;28mint\u001b[39m(p \u001b[38;5;241m*\u001b[39m\u001b[38;5;241m*\u001b[39m \u001b[38;5;241m0.5\u001b[39m) \u001b[38;5;241m+\u001b[39m \u001b[38;5;241m1\u001b[39m\n\u001b[0;32m      4\u001b[0m \u001b[38;5;66;03m# Precompute values of g^(m * j) for j = 0, 1, ..., m-1\u001b[39;00m\n\u001b[1;32m----> 5\u001b[0m precomputed_values \u001b[38;5;241m=\u001b[39m {\u001b[38;5;28mpow\u001b[39m(g, j, p): j \u001b[38;5;28;01mfor\u001b[39;00m j \u001b[38;5;129;01min\u001b[39;00m \u001b[38;5;28mrange\u001b[39m(m)}\n\u001b[0;32m      7\u001b[0m \u001b[38;5;66;03m# Calculate g^(-m) mod p\u001b[39;00m\n\u001b[0;32m      8\u001b[0m g_inv_m \u001b[38;5;241m=\u001b[39m \u001b[38;5;28mpow\u001b[39m(g, \u001b[38;5;241m-\u001b[39mm, p)\n",
      "\u001b[1;31mKeyboardInterrupt\u001b[0m: "
     ]
    }
   ],
   "source": [
    "def discrete_log_bsgs(y, g, p):\n",
    "    m = int(p ** 0.5) + 1\n",
    "    \n",
    "    # Precompute values of g^(m * j) for j = 0, 1, ..., m-1\n",
    "    precomputed_values = {pow(g, j, p): j for j in range(m)}\n",
    "    \n",
    "    # Calculate g^(-m) mod p\n",
    "    g_inv_m = pow(g, -m, p)\n",
    "    \n",
    "    # Search for a match (g^x, x) in the precomputed values\n",
    "    for i in range(m):\n",
    "        y_times_g_inv_m = (y * pow(g_inv_m, i, p)) % p\n",
    "        if y_times_g_inv_m in precomputed_values:\n",
    "            x = i * m + precomputed_values[y_times_g_inv_m]\n",
    "            return x\n",
    "\n",
    "# Given parameters\n",
    "y = 662665769968749167308847812463775948723123172057852384872494424776261606541089360550944167\n",
    "g = 1097857824711878104338896316622972219971143817996161931995735484700426189236736377445763810\n",
    "p = 1167290455031706531387695250349521076958635505626068245729867131656444919329406116418184053\n",
    "\n",
    "# Find the discrete logarithm x\n",
    "x = discrete_log_bsgs(y, g, p)\n",
    "\n",
    "print(\"The discrete logarithm x is:\", x)\n"
   ]
  },
  {
   "cell_type": "code",
   "execution_count": 1,
   "id": "a9f72450",
   "metadata": {},
   "outputs": [
    {
     "name": "stdout",
     "output_type": "stream",
     "text": [
      "The discrete logarithm x is: 524073120626258686601161451727461525386141363318472526684178718680636399682610416917624957\n"
     ]
    }
   ],
   "source": [
    "def discrete_log_pollards_rho(y, g, p):\n",
    "    # Function to calculate the next value in the sequence\n",
    "    def f(x):\n",
    "        return (x * g) % p\n",
    "    \n",
    "    # Initialize variables\n",
    "    x = 1\n",
    "    y1 = y\n",
    "    y2 = y\n",
    "    d = 1\n",
    "    \n",
    "    # Pollard's rho algorithm\n",
    "    while d == 1:\n",
    "        x = f(x)\n",
    "        y1 = f(y1)\n",
    "        y2 = f(f(y2))\n",
    "        \n",
    "        # Calculate gcd of the differences\n",
    "        d = pow(y2 - y1, 1, p)\n",
    "    \n",
    "    # Solve for x if d is a non-trivial factor of p\n",
    "    if d != p:\n",
    "        # Calculate the discrete logarithm using the extended Euclidean algorithm\n",
    "        x_inv = pow(x, -1, p)\n",
    "        log_x = (x_inv * (y - pow(g, x, p))) % p\n",
    "        return log_x\n",
    "    else:\n",
    "        return None  # No solution found\n",
    "\n",
    "# Given parameters\n",
    "y = 662665769968749167308847812463775948723123172057852384872494424776261606541089360550944167\n",
    "g = 1097857824711878104338896316622972219971143817996161931995735484700426189236736377445763810\n",
    "p = 1167290455031706531387695250349521076958635505626068245729867131656444919329406116418184053\n",
    "\n",
    "# Find the discrete logarithm x\n",
    "x = discrete_log_pollards_rho(y, g, p)\n",
    "\n",
    "print(\"The discrete logarithm x is:\", x)\n"
   ]
  },
  {
   "cell_type": "code",
   "execution_count": 4,
   "id": "88de2e51",
   "metadata": {},
   "outputs": [
    {
     "data": {
      "text/plain": [
       "([mpz(964199), mpz(959911)], 3)"
      ]
     },
     "execution_count": 4,
     "metadata": {},
     "output_type": "execute_result"
    }
   ],
   "source": [
    "fermat(925545226289)"
   ]
  },
  {
   "cell_type": "code",
   "execution_count": null,
   "id": "e087c473-ef8f-40b2-a1cc-94f7d6946f9f",
   "metadata": {},
   "outputs": [],
   "source": []
  }
 ],
 "metadata": {
  "kernelspec": {
   "display_name": "Python 3 (ipykernel)",
   "language": "python",
   "name": "python3"
  },
  "language_info": {
   "codemirror_mode": {
    "name": "ipython",
    "version": 3
   },
   "file_extension": ".py",
   "mimetype": "text/x-python",
   "name": "python",
   "nbconvert_exporter": "python",
   "pygments_lexer": "ipython3",
   "version": "3.11.5"
  }
 },
 "nbformat": 4,
 "nbformat_minor": 5
}
