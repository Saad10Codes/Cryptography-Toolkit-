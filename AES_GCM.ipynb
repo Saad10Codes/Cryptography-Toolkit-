{
 "cells": [
  {
   "cell_type": "code",
   "execution_count": 3,
   "id": "cba69559-ea65-4c31-be71-3f5d5cf17699",
   "metadata": {},
   "outputs": [],
   "source": [
    "from Crypto.Cipher import AES\n",
    "from Crypto.Util.Padding import pad,unpad\n",
    "import binascii\n",
    "\n",
    "import binascii\n",
    "from base64 import b64decode\n",
    "from Crypto.Cipher import AES\n",
    "from Crypto.Util.Padding import unpad\n"
   ]
  },
  {
   "cell_type": "code",
   "execution_count": 12,
   "id": "7c0706c7-b158-4734-ade1-216f35129627",
   "metadata": {},
   "outputs": [
    {
     "name": "stdout",
     "output_type": "stream",
     "text": [
      "b'jan11'\n"
     ]
    }
   ],
   "source": [
    "def plain_text_from_cipher(cipher_text):\n",
    "    key=aes_byte_array = bytes([\n",
    "    0x71, 0xde, 0x54, 0x0c, 0x34, 0x95, 0xa3, 0xc6,\n",
    "    0xc1, 0x41, 0x48, 0xc5, 0x38, 0xcb, 0xfe, 0xa5,\n",
    "    0x44, 0x08, 0x37, 0x68, 0xcd, 0x2c, 0xed, 0x60,\n",
    "    0x48, 0xfb, 0x8c, 0x37, 0x29, 0x2e, 0xdd, 0x70\n",
    "    ])\n",
    "\n",
    "    # Decode the base64 encoded iv\n",
    "    iv_str=b64decode('65U3jGXzxm84mVzT')\n",
    "\n",
    "    # Generate the cipher from the key and iv\n",
    "    cipher=AES.new(key,AES.MODE_GCM,nonce=iv_str)\n",
    "\n",
    "    # Decode the base64 encoded ciphertext\n",
    "    cipher_bytes=b64decode(cipher_text)\n",
    "\n",
    "    # seperate the tag and cipher text \n",
    "    tag = cipher_bytes[-16:]\n",
    "    cipher_text = cipher_bytes[:-16]\n",
    "    \n",
    "    plain_text=cipher.decrypt(cipher_text)\n",
    "    print(plain_text)\n",
    "\n",
    "plain_text_from_cipher('wv9bPRIQhm5C5uCHpHg7HruTpJfb')"
   ]
  },
  {
   "cell_type": "code",
   "execution_count": 21,
   "id": "a057b232-3350-4bf0-9b6e-ddb8a89b0267",
   "metadata": {},
   "outputs": [
    {
     "name": "stdout",
     "output_type": "stream",
     "text": [
      "Decryption succeeded with AAD byte 110: jan11\n"
     ]
    }
   ],
   "source": [
    "from base64 import b64decode\n",
    "from Crypto.Cipher import AES\n",
    "\n",
    "def plain_text_from_cipher(cipher_text):\n",
    "    key = bytes([\n",
    "        0x71, 0xde, 0x54, 0x0c, 0x34, 0x95, 0xa3, 0xc6,\n",
    "        0xc1, 0x41, 0x48, 0xc5, 0x38, 0xcb, 0xfe, 0xa5,\n",
    "        0x44, 0x08, 0x37, 0x68, 0xcd, 0x2c, 0xed, 0x60,\n",
    "        0x48, 0xfb, 0x8c, 0x37, 0x29, 0x2e, 0xdd, 0x70\n",
    "    ])\n",
    "\n",
    "    iv_str = '65U3jGXzxm84mVzT'\n",
    "    iv = b64decode(iv_str)\n",
    "    \n",
    "    # Decode the base64 encoded ciphertext\n",
    "    cipher_bytes = b64decode(cipher_text)\n",
    "    \n",
    "    # Separate the tag from the ciphertext\n",
    "    tag = cipher_bytes[-16:]\n",
    "    ciphertext = cipher_bytes[:-16]\n",
    "    \n",
    "    aad_prefix = aadArr = bytearray([\n",
    "    0x61,  # 'a' in ASCII is 97, in Hex it is 0x61\n",
    "    0x62,  # 'b' in ASCII is 98, in Hex it is 0x62\n",
    "])\n",
    "\n",
    "    \n",
    "    for i in range(256):\n",
    "        aad = aad_prefix + bytes([i])\n",
    "        cipher = AES.new(key, AES.MODE_GCM, nonce=iv)\n",
    "        cipher.update(aad)\n",
    "        try:\n",
    "            plain_text = cipher.decrypt_and_verify(ciphertext, tag)\n",
    "            print(f\"Decryption succeeded with AAD byte { i}: {plain_text.decode('utf-8')}\")\n",
    "            return\n",
    "        except ValueError:\n",
    "            continue  # Ignore and try the next value\n",
    "\n",
    "    print(\"Decryption failed for all AAD byte values\")\n",
    "\n",
    "plain_text_from_cipher('wv9bPRIQhm5C5uCHpHg7HruTpJfb')\n"
   ]
  },
  {
   "cell_type": "code",
   "execution_count": null,
   "id": "385335cf-27cf-4138-9357-9d79a036807b",
   "metadata": {},
   "outputs": [],
   "source": []
  }
 ],
 "metadata": {
  "kernelspec": {
   "display_name": "Python 3 (ipykernel)",
   "language": "python",
   "name": "python3"
  },
  "language_info": {
   "codemirror_mode": {
    "name": "ipython",
    "version": 3
   },
   "file_extension": ".py",
   "mimetype": "text/x-python",
   "name": "python",
   "nbconvert_exporter": "python",
   "pygments_lexer": "ipython3",
   "version": "3.11.5"
  }
 },
 "nbformat": 4,
 "nbformat_minor": 5
}
