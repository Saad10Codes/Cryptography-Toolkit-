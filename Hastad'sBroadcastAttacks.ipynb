{
 "cells": [
  {
   "cell_type": "code",
   "execution_count": 5,
   "id": "6a04d26c-67db-4754-b740-6aa9ed30e206",
   "metadata": {},
   "outputs": [
    {
     "name": "stdout",
     "output_type": "stream",
     "text": [
      "b'\\x05O\\xb8)\\x1a\\xf8\\x88\\x0b\\x15h\\xc8g\\xd7'\n",
      "Recovered DES Key (Numeric): 420812764812566759841844455383\n",
      "Recovered DES Key (Hex): 054fb8291af8880b1568c867d7\n",
      "Recovered DES Key (ASCII): \u0005O)\u001a\u000b",
      "\u0015hg\n"
     ]
    }
   ],
   "source": [
    "from sympy import mod_inverse, integer_nthroot\n",
    "\n",
    "# Given values\n",
    "n1 = 2267493974874992855694451011493\n",
    "c1 = 886534656665328399297603173406\n",
    "n2 = 33520973039336037193800460127\n",
    "c2 = 2212035097862473138152491479452\n",
    "n3 = 3223732200443613340467041133433\n",
    "c3 = 2081115204144205981960655525917\n",
    "\n",
    "def chinese_remainder_theorem(items):\n",
    "    N = 1\n",
    "    for n, _ in items:\n",
    "        N *= n\n",
    "    \n",
    "    result = 0\n",
    "    for n, a in items:\n",
    "        m = N // n\n",
    "        result += a * m * mod_inverse(m, n)\n",
    "    return result % N\n",
    "\n",
    "# Apply Chinese Remainder Theorem to combine the ciphertexts\n",
    "crt_result = chinese_remainder_theorem([(n1, c1), (n2, c2), (n3, c3)])\n",
    "\n",
    "# Find the cube root of the result\n",
    "key, exact = integer_nthroot(crt_result, 3)\n",
    "if not exact:\n",
    "    # If the cube root is not exact, increment key to get closer to the actual root\n",
    "    key += 1\n",
    "\n",
    "# Convert the numeric key to bytes\n",
    "key_bytes = key.to_bytes((key.bit_length() + 7) // 8, 'big')\n",
    "\n",
    "# Convert the bytes to ASCII representation\n",
    "des_key_ascii = key_bytes.decode('ascii', errors='ignore')\n",
    "\n",
    "# Print the results\n",
    "print(key_bytes)\n",
    "print(f\"Recovered DES Key (Numeric): {key}\")\n",
    "print(f\"Recovered DES Key (Hex): {key_bytes.hex()}\")\n",
    "print(f\"Recovered DES Key (ASCII): {des_key_ascii}\")\n"
   ]
  },
  {
   "cell_type": "code",
   "execution_count": null,
   "id": "c8ee6e81-fbf6-4804-835f-ea36bc61829e",
   "metadata": {},
   "outputs": [],
   "source": []
  }
 ],
 "metadata": {
  "kernelspec": {
   "display_name": "Python 3 (ipykernel)",
   "language": "python",
   "name": "python3"
  },
  "language_info": {
   "codemirror_mode": {
    "name": "ipython",
    "version": 3
   },
   "file_extension": ".py",
   "mimetype": "text/x-python",
   "name": "python",
   "nbconvert_exporter": "python",
   "pygments_lexer": "ipython3",
   "version": "3.11.5"
  }
 },
 "nbformat": 4,
 "nbformat_minor": 5
}
