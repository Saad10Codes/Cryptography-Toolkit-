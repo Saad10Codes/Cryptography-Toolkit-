{
 "cells": [
  {
   "cell_type": "code",
   "execution_count": 2,
   "id": "c4b89638",
   "metadata": {},
   "outputs": [
    {
     "name": "stdout",
     "output_type": "stream",
     "text": [
      "Recovered Hex Key: ae104bbbbbbbbbbb\n"
     ]
    }
   ],
   "source": [
    "import gmpy2\n",
    "\n",
    "N = 14902153689273420948750156018800547595962757912228480852869515532691427278066612631480872568145590907406643221842248874197021167726220276558641310343247246585833912752669341478149823717893733425544982432917139743005781654709014697487382212716782579323465148856333770569803198939835163459829772280159624444387615695515210520083209547881018776274930182405795320529\n",
    "p = 3860330774593352175517799374199641878898498526797023293185141540549370881554698222726574177727508601528805237406296759578412936096107831064081982637443316389782316750976195065604527\n",
    "C = 0x765a27fcc1123455794fa320fedcba99\n",
    "\n",
    "q = N // p\n",
    "\n",
    "# Calculate r1, r2, r3, r4\n",
    "r1 = gmpy2.powmod(C, (q + 1) // 4, q)\n",
    "r2 = q - r1\n",
    "r3 = gmpy2.powmod(C, (p + 1) // 4, p)\n",
    "r4 = p - r3\n",
    "\n",
    "# Check which root is correct\n",
    "roots = [r1, r2, r3, r4]\n",
    "\n",
    "for root in roots:\n",
    "    if gmpy2.powmod(root, 2, N) == C:\n",
    "        hex_key = hex(root)[2:]\n",
    "        print(\"Recovered Hex Key:\", hex_key)\n",
    "        break"
   ]
  },
  {
   "cell_type": "code",
   "execution_count": 1,
   "id": "5bc43e75",
   "metadata": {},
   "outputs": [
    {
     "name": "stdout",
     "output_type": "stream",
     "text": [
      "Recovered Hex Key: ae104bbbbbbbbbbb\n"
     ]
    }
   ],
   "source": [
    "import gmpy2\n",
    "\n",
    "def mod_sqrt(a, p):\n",
    "    return gmpy2.powmod(a, (p + 1) // 4, p)\n",
    "\n",
    "def chinese_remainder_theorem(a1, p1, a2, p2):\n",
    "    m1_inv_m2 = gmpy2.invert(p1, p2)\n",
    "    return (a1 + p1 * ((a2 - a1) * m1_inv_m2 % p2)) % (p1 * p2)\n",
    "\n",
    "N = 14902153689273420948750156018800547595962757912228480852869515532691427278066612631480872568145590907406643221842248874197021167726220276558641310343247246585833912752669341478149823717893733425544982432917139743005781654709014697487382212716782579323465148856333770569803198939835163459829772280159624444387615695515210520083209547881018776274930182405795320529\n",
    "p = 3860330774593352175517799374199641878898498526797023293185141540549370881554698222726574177727508601528805237406296759578412936096107831064081982637443316389782316750976195065604527\n",
    "C = 0x765a27fcc1123455794fa320fedcba99\n",
    "\n",
    "q = N // p\n",
    "\n",
    "# Calculate roots mod p and q\n",
    "r1_p = mod_sqrt(C, p)\n",
    "r2_p = p - r1_p\n",
    "r1_q = mod_sqrt(C, q)\n",
    "r2_q = q - r1_q\n",
    "\n",
    "# Use CRT to find roots mod N\n",
    "roots = [\n",
    "    chinese_remainder_theorem(r1_p, p, r1_q, q),\n",
    "    chinese_remainder_theorem(r1_p, p, r2_q, q),\n",
    "    chinese_remainder_theorem(r2_p, p, r1_q, q),\n",
    "    chinese_remainder_theorem(r2_p, p, r2_q, q)\n",
    "]\n",
    "\n",
    "# Check which root is correct\n",
    "for root in roots:\n",
    "    if gmpy2.powmod(root, 2, N) == C:\n",
    "        hex_key = hex(root)[2:]\n",
    "        print(\"Recovered Hex Key:\", hex_key)\n",
    "        break\n"
   ]
  },
  {
   "cell_type": "code",
   "execution_count": 1,
   "id": "c7c05c12-d90c-43a6-bebc-7861ad9bf842",
   "metadata": {},
   "outputs": [
    {
     "name": "stdout",
     "output_type": "stream",
     "text": [
      "Recovered Hex Key: ae104bbbbbbbbbbb\n"
     ]
    }
   ],
   "source": [
    "import gmpy2\n",
    "\n",
    "N = 14902153689273420948750156018800547595962757912228480852869515532691427278066612631480872568145590907406643221842248874197021167726220276558641310343247246585833912752669341478149823717893733425544982432917139743005781654709014697487382212716782579323465148856333770569803198939835163459829772280159624444387615695515210520083209547881018776274930182405795320529\n",
    "p = 3860330774593352175517799374199641878898498526797023293185141540549370881554698222726574177727508601528805237406296759578412936096107831064081982637443316389782316750976195065604527\n",
    "C = 0x765a27fcc1123455794fa320fedcba99\n",
    "\n",
    "q = N // p\n",
    "\n",
    "# Calculate the square roots modulo p\n",
    "r1 = gmpy2.powmod(C, (p + 1) // 4, p)\n",
    "r2 = p - r1\n",
    "\n",
    "# Calculate the square roots modulo q\n",
    "r3 = gmpy2.powmod(C, (q + 1) // 4, q)\n",
    "r4 = q - r3\n",
    "\n",
    "# Use the Chinese Remainder Theorem to find the four possible values\n",
    "def crt(a1, a2, m1, m2):\n",
    "    g, inv_m1, _ = gmpy2.gcdext(m1, m2)\n",
    "    assert g == 1  # m1 and m2 should be coprime\n",
    "    x = (a1 + m1 * ((a2 - a1) * inv_m1 % m2)) % (m1 * m2)\n",
    "    return x\n",
    "\n",
    "# Combine the roots\n",
    "roots = [\n",
    "    crt(r1, r3, p, q),\n",
    "    crt(r1, r4, p, q),\n",
    "    crt(r2, r3, p, q),\n",
    "    crt(r2, r4, p, q)\n",
    "]\n",
    "\n",
    "# Check which root is correct\n",
    "for root in roots:\n",
    "    if gmpy2.powmod(root, 2, N) == C:\n",
    "        hex_key = hex(root)[2:]\n",
    "        print(\"Recovered Hex Key:\", hex_key)\n",
    "        break\n"
   ]
  },
  {
   "cell_type": "code",
   "execution_count": null,
   "id": "eeeb594c-9dfe-4020-aaf4-d99fb4fdd644",
   "metadata": {},
   "outputs": [],
   "source": []
  }
 ],
 "metadata": {
  "kernelspec": {
   "display_name": "Python 3 (ipykernel)",
   "language": "python",
   "name": "python3"
  },
  "language_info": {
   "codemirror_mode": {
    "name": "ipython",
    "version": 3
   },
   "file_extension": ".py",
   "mimetype": "text/x-python",
   "name": "python",
   "nbconvert_exporter": "python",
   "pygments_lexer": "ipython3",
   "version": "3.11.5"
  }
 },
 "nbformat": 4,
 "nbformat_minor": 5
}
