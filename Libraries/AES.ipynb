{
 "cells": [
  {
   "cell_type": "code",
   "execution_count": 2,
   "id": "788f1730-788b-4917-9e5a-5aad56945f10",
   "metadata": {},
   "outputs": [],
   "source": [
    "from Crypto.Cipher import AES\n"
   ]
  },
  {
   "cell_type": "code",
   "execution_count": 7,
   "id": "983e07c6-61b4-4d73-bab7-282c0531ba50",
   "metadata": {},
   "outputs": [],
   "source": [
    "# Key is in bytes. First argment is always key\n",
    "key=(b'1234567854323112')\n",
    "cipher=AES.new(key,AES.MODE_ECB) "
   ]
  },
  {
   "cell_type": "code",
   "execution_count": 9,
   "id": "e688afdc-e349-4fe8-b401-0857dccdff60",
   "metadata": {},
   "outputs": [],
   "source": [
    "# CBC also takes an initialization vector as input to XOR the first block with it\n",
    "cipher=AES.new(key,AES.MODE_CBC,iv=b'1234567890123456')"
   ]
  },
  {
   "cell_type": "code",
   "execution_count": 26,
   "id": "d883cbd5-a087-48d9-8eac-db682ae68747",
   "metadata": {},
   "outputs": [],
   "source": [
    "from Crypto.Random import get_random_bytes\n",
    "header=b'Hi there'\n",
    "nonce_i=get_random_bytes(12)\n",
    "plain_text=b'This is a message'\n",
    "cipher=AES.new(key,AES.MODE_GCM,nonce=nonce_i)\n",
    "cipher.update(header)\n",
    "ciphertext, tag = cipher.encrypt_and_digest(plain_text)\n"
   ]
  },
  {
   "cell_type": "code",
   "execution_count": 32,
   "id": "c662ff34-635a-4965-995e-8620dbb989f8",
   "metadata": {},
   "outputs": [
    {
     "name": "stdout",
     "output_type": "stream",
     "text": [
      "b'This is a message'\n"
     ]
    }
   ],
   "source": [
    "dec_cipher=AES.new(key,AES.MODE_GCM,nonce=nonce_i)\n",
    "dec_cipher.update(header)\n",
    "plaintext = dec_cipher.decrypt_and_verify(ciphertext,tag)\n",
    "print(plaintext)"
   ]
  },
  {
   "cell_type": "code",
   "execution_count": null,
   "id": "f0ffe7f6-63d1-474a-97c1-d6dc45af3ead",
   "metadata": {},
   "outputs": [],
   "source": []
  }
 ],
 "metadata": {
  "kernelspec": {
   "display_name": "Python 3 (ipykernel)",
   "language": "python",
   "name": "python3"
  },
  "language_info": {
   "codemirror_mode": {
    "name": "ipython",
    "version": 3
   },
   "file_extension": ".py",
   "mimetype": "text/x-python",
   "name": "python",
   "nbconvert_exporter": "python",
   "pygments_lexer": "ipython3",
   "version": "3.11.5"
  }
 },
 "nbformat": 4,
 "nbformat_minor": 5
}
