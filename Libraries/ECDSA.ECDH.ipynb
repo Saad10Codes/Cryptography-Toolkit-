{
 "cells": [
  {
   "cell_type": "code",
   "execution_count": 1,
   "id": "4b50f081-e794-4284-94cf-dfa07da8f0bd",
   "metadata": {},
   "outputs": [],
   "source": [
    "from ecdsa.ecdh import ECDH"
   ]
  },
  {
   "cell_type": "code",
   "execution_count": 2,
   "id": "2c29be7f-bc63-4c8a-8b8d-4b215f538b4f",
   "metadata": {},
   "outputs": [],
   "source": [
    "from ecdsa.ellipticcurve import CurveFp, Point\n",
    "\n",
    "custom_curve = CurveFp(5, 1, 4)"
   ]
  },
  {
   "cell_type": "code",
   "execution_count": 7,
   "id": "d99798ad-3186-42d1-8faf-1ddc8f0ba3e6",
   "metadata": {},
   "outputs": [],
   "source": [
    "diffie_ec=ECDH(curve=custom_curve)"
   ]
  },
  {
   "cell_type": "code",
   "execution_count": 8,
   "id": "2c3f4026-5ed6-4a4c-88b4-9dc4485387de",
   "metadata": {},
   "outputs": [
    {
     "ename": "AttributeError",
     "evalue": "'CurveFp' object has no attribute 'curve'",
     "output_type": "error",
     "traceback": [
      "\u001b[1;31m---------------------------------------------------------------------------\u001b[0m",
      "\u001b[1;31mAttributeError\u001b[0m                            Traceback (most recent call last)",
      "Cell \u001b[1;32mIn[8], line 1\u001b[0m\n\u001b[1;32m----> 1\u001b[0m \u001b[38;5;28mprint\u001b[39m(\u001b[43mdiffie_ec\u001b[49m\u001b[38;5;241;43m.\u001b[39;49m\u001b[43mgenerate_private_key\u001b[49m\u001b[43m(\u001b[49m\u001b[43m)\u001b[49m)\n",
      "File \u001b[1;32m~\\AppData\\Roaming\\Python\\Python311\\site-packages\\ecdsa\\ecdh.py:123\u001b[0m, in \u001b[0;36mECDH.generate_private_key\u001b[1;34m(self)\u001b[0m\n\u001b[0;32m    121\u001b[0m \u001b[38;5;28;01mif\u001b[39;00m \u001b[38;5;129;01mnot\u001b[39;00m \u001b[38;5;28mself\u001b[39m\u001b[38;5;241m.\u001b[39mcurve:\n\u001b[0;32m    122\u001b[0m     \u001b[38;5;28;01mraise\u001b[39;00m NoCurveError(\u001b[38;5;124m\"\u001b[39m\u001b[38;5;124mCurve must be set prior to key generation.\u001b[39m\u001b[38;5;124m\"\u001b[39m)\n\u001b[1;32m--> 123\u001b[0m \u001b[38;5;28;01mreturn\u001b[39;00m \u001b[38;5;28mself\u001b[39m\u001b[38;5;241m.\u001b[39mload_private_key(\u001b[43mSigningKey\u001b[49m\u001b[38;5;241;43m.\u001b[39;49m\u001b[43mgenerate\u001b[49m\u001b[43m(\u001b[49m\u001b[43mcurve\u001b[49m\u001b[38;5;241;43m=\u001b[39;49m\u001b[38;5;28;43mself\u001b[39;49m\u001b[38;5;241;43m.\u001b[39;49m\u001b[43mcurve\u001b[49m\u001b[43m)\u001b[49m)\n",
      "File \u001b[1;32m~\\AppData\\Roaming\\Python\\Python311\\site-packages\\ecdsa\\keys.py:829\u001b[0m, in \u001b[0;36mSigningKey.generate\u001b[1;34m(cls, curve, entropy, hashfunc)\u001b[0m\n\u001b[0;32m    809\u001b[0m \u001b[38;5;129m@classmethod\u001b[39m\n\u001b[0;32m    810\u001b[0m \u001b[38;5;28;01mdef\u001b[39;00m \u001b[38;5;21mgenerate\u001b[39m(\u001b[38;5;28mcls\u001b[39m, curve\u001b[38;5;241m=\u001b[39mNIST192p, entropy\u001b[38;5;241m=\u001b[39m\u001b[38;5;28;01mNone\u001b[39;00m, hashfunc\u001b[38;5;241m=\u001b[39msha1):\n\u001b[0;32m    811\u001b[0m \u001b[38;5;250m    \u001b[39m\u001b[38;5;124;03m\"\"\"\u001b[39;00m\n\u001b[0;32m    812\u001b[0m \u001b[38;5;124;03m    Generate a random private key.\u001b[39;00m\n\u001b[0;32m    813\u001b[0m \n\u001b[1;32m   (...)\u001b[0m\n\u001b[0;32m    827\u001b[0m \u001b[38;5;124;03m    :rtype: SigningKey\u001b[39;00m\n\u001b[0;32m    828\u001b[0m \u001b[38;5;124;03m    \"\"\"\u001b[39;00m\n\u001b[1;32m--> 829\u001b[0m     \u001b[38;5;28;01mif\u001b[39;00m \u001b[38;5;28misinstance\u001b[39m(\u001b[43mcurve\u001b[49m\u001b[38;5;241;43m.\u001b[39;49m\u001b[43mcurve\u001b[49m, CurveEdTw):\n\u001b[0;32m    830\u001b[0m         \u001b[38;5;28;01mreturn\u001b[39;00m \u001b[38;5;28mcls\u001b[39m\u001b[38;5;241m.\u001b[39m_twisted_edwards_keygen(curve, entropy)\n\u001b[0;32m    831\u001b[0m     \u001b[38;5;28;01mreturn\u001b[39;00m \u001b[38;5;28mcls\u001b[39m\u001b[38;5;241m.\u001b[39m_weierstrass_keygen(curve, entropy, hashfunc)\n",
      "\u001b[1;31mAttributeError\u001b[0m: 'CurveFp' object has no attribute 'curve'"
     ]
    }
   ],
   "source": [
    "print(diffie_ec.generate_private_key())"
   ]
  },
  {
   "cell_type": "code",
   "execution_count": 9,
   "id": "78a0e496-4e4f-47dc-9bc7-a9df77f88265",
   "metadata": {},
   "outputs": [],
   "source": [
    "# NIST Curves:\n",
    "\n",
    "# NIST192p (P-192)\n",
    "# NIST224p (P-224)\n",
    "# NIST256p (P-256)\n",
    "# NIST384p (P-384)\n",
    "# NIST521p (P-521)\n",
    "# SECP Curves:\n",
    "\n",
    "# SECP256k1\n",
    "# SECP112r1\n",
    "# SECP112r2\n",
    "# SECP128r1\n",
    "# SECP128r2\n",
    "# SECP160k1\n",
    "# SECP160r1\n",
    "# SECP160r2\n",
    "# SECP192k1\n",
    "# SECP224k1\n",
    "# SECP256r1\n",
    "# SECP384r1\n",
    "# SECP521r1"
   ]
  },
  {
   "cell_type": "code",
   "execution_count": 10,
   "id": "991e1d88-745e-4366-970a-f77f38ec2ec8",
   "metadata": {},
   "outputs": [
    {
     "name": "stdout",
     "output_type": "stream",
     "text": [
      "Shared secret 1: 2f50a033926b3f19db4c2ab136616bde8911d6509b616b0fc3d3752a3769fc43\n",
      "Shared secret 2: 2f50a033926b3f19db4c2ab136616bde8911d6509b616b0fc3d3752a3769fc43\n",
      "The shared secrets match.\n"
     ]
    }
   ],
   "source": [
    "from ecdsa import ECDH, SECP256k1, NIST384p, NIST521p\n",
    "\n",
    "# Initialize ECDH objects for both parties using SECP256k1 curve\n",
    "ecdh1 = ECDH(curve=SECP256k1)\n",
    "ecdh2 = ECDH(curve=SECP256k1)\n",
    "\n",
    "# Generate private keys\n",
    "ecdh1.generate_private_key()\n",
    "ecdh2.generate_private_key()\n",
    "\n",
    "# Exchange public keys\n",
    "ecdh1.load_received_public_key(ecdh2.get_public_key())\n",
    "ecdh2.load_received_public_key(ecdh1.get_public_key())\n",
    "\n",
    "# Compute shared secrets\n",
    "shared_secret1 = ecdh1.generate_sharedsecret_bytes()\n",
    "shared_secret2 = ecdh2.generate_sharedsecret_bytes()\n",
    "\n",
    "print(f\"Shared secret 1: {shared_secret1.hex()}\")\n",
    "print(f\"Shared secret 2: {shared_secret2.hex()}\")\n",
    "\n",
    "# Verify the shared secrets match\n",
    "if shared_secret1 == shared_secret2:\n",
    "    print(\"The shared secrets match.\")\n",
    "else:\n",
    "    print(\"The shared secrets do not match.\")\n"
   ]
  },
  {
   "cell_type": "code",
   "execution_count": null,
   "id": "c93ac7de-c8c2-4bee-a6ef-0fe07fe9b017",
   "metadata": {},
   "outputs": [],
   "source": []
  }
 ],
 "metadata": {
  "kernelspec": {
   "display_name": "Python 3 (ipykernel)",
   "language": "python",
   "name": "python3"
  },
  "language_info": {
   "codemirror_mode": {
    "name": "ipython",
    "version": 3
   },
   "file_extension": ".py",
   "mimetype": "text/x-python",
   "name": "python",
   "nbconvert_exporter": "python",
   "pygments_lexer": "ipython3",
   "version": "3.11.5"
  }
 },
 "nbformat": 4,
 "nbformat_minor": 5
}
