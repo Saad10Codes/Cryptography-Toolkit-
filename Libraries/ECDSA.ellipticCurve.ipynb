{
 "cells": [
  {
   "cell_type": "code",
   "execution_count": null,
   "id": "f353cc92-f647-4c6a-9fad-419a4bfc5c5a",
   "metadata": {},
   "outputs": [],
   "source": [
    "from ecdsa.keys import SigningKey\n",
    "key = SigningKey.generate()\n",
    "print(key)"
   ]
  },
  {
   "cell_type": "code",
   "execution_count": null,
   "id": "2d3158cf-ce0c-4577-90d7-35807331b701",
   "metadata": {},
   "outputs": [],
   "source": [
    "# To get the public key associated with the given private key, either call the get_verifying_key() \n",
    "# method or access the verifying_key attribute in SigningKey directly:\n",
    "from ecdsa import SigningKey,NIST256p\n",
    "private_key=SigningKey.generate(curve=NIST256p)\n",
    "public_key=private_key.verifying_key"
   ]
  },
  {
   "cell_type": "code",
   "execution_count": null,
   "id": "74796c08-b1bd-4530-b0f9-90ebf0301038",
   "metadata": {},
   "outputs": [],
   "source": [
    "# You can either provide your own curve parameters or use one of the predefined curves. \n",
    "# For example, to define a curve y^2 = x^3 + 1 * x + 4  mod  5 use code like this:\n",
    "from ecdsa.ellipticcurve import CurveFp, Point\n",
    "\n",
    "custom_curve = CurveFp(5, 1, 4)\n",
    "if custom_curve.contains_point(1,4):\n",
    "    point_a=Point(custom_curve,1,4)\n",
    "    point_b=Point(custom_curve,1,1)\n",
    "else:\n",
    "    print('Point not on the curve')"
   ]
  },
  {
   "cell_type": "code",
   "execution_count": null,
   "id": "0b3e9dca-3c50-4d6f-8783-df176579ac27",
   "metadata": {},
   "outputs": [],
   "source": [
    "print(point_a+point_b)"
   ]
  },
  {
   "cell_type": "code",
   "execution_count": null,
   "id": "5c09e98a-58dd-45ff-b616-42107a88a764",
   "metadata": {},
   "outputs": [],
   "source": [
    "def find_order(point, curve):\n",
    "    current_point = point\n",
    "    order = 1\n",
    "\n",
    "    while current_point is not None:\n",
    "        current_point += point\n",
    "        order += 1\n",
    "\n",
    "    return order\n",
    "if custom_curve.contains_point(point_a.x(), point_a.y()):\n",
    "    order = find_order(point_a, custom_curve)\n",
    "    print(f'The order of the point is: {order}')\n",
    "else:\n",
    "    print('The point is not on the curve')"
   ]
  },
  {
   "cell_type": "code",
   "execution_count": null,
   "id": "c14198ca-6033-4e4a-b6a3-5ac673c888b3",
   "metadata": {},
   "outputs": [],
   "source": []
  }
 ],
 "metadata": {
  "kernelspec": {
   "display_name": "Python 3 (ipykernel)",
   "language": "python",
   "name": "python3"
  },
  "language_info": {
   "codemirror_mode": {
    "name": "ipython",
    "version": 3
   },
   "file_extension": ".py",
   "mimetype": "text/x-python",
   "name": "python",
   "nbconvert_exporter": "python",
   "pygments_lexer": "ipython3",
   "version": "3.11.5"
  }
 },
 "nbformat": 4,
 "nbformat_minor": 5
}
