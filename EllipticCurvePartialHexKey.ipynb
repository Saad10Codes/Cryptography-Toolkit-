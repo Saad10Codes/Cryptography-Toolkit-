{
 "cells": [
  {
   "cell_type": "code",
   "execution_count": 1,
   "id": "57627097-6939-4b12-a1fc-1f933966f1fb",
   "metadata": {},
   "outputs": [
    {
     "ename": "AssertionError",
     "evalue": "",
     "output_type": "error",
     "traceback": [
      "\u001b[1;31m---------------------------------------------------------------------------\u001b[0m",
      "\u001b[1;31mAssertionError\u001b[0m                            Traceback (most recent call last)",
      "Cell \u001b[1;32mIn[1], line 12\u001b[0m\n\u001b[0;32m     10\u001b[0m Px \u001b[38;5;241m=\u001b[39m \u001b[38;5;241m8160070\u001b[39m\n\u001b[0;32m     11\u001b[0m Py \u001b[38;5;241m=\u001b[39m \u001b[38;5;241m13649469\u001b[39m\n\u001b[1;32m---> 12\u001b[0m P \u001b[38;5;241m=\u001b[39m \u001b[43mellipticcurve\u001b[49m\u001b[38;5;241;43m.\u001b[39;49m\u001b[43mPoint\u001b[49m\u001b[43m(\u001b[49m\u001b[43mcurve\u001b[49m\u001b[43m,\u001b[49m\u001b[43m \u001b[49m\u001b[43mPx\u001b[49m\u001b[43m,\u001b[49m\u001b[43m \u001b[49m\u001b[43mPy\u001b[49m\u001b[43m)\u001b[49m\n\u001b[0;32m     14\u001b[0m Qx \u001b[38;5;241m=\u001b[39m \u001b[38;5;241m1695569\u001b[39m\n\u001b[0;32m     15\u001b[0m Qy \u001b[38;5;241m=\u001b[39m \u001b[38;5;241m28093181\u001b[39m\n",
      "File \u001b[1;32m~\\AppData\\Roaming\\Python\\Python311\\site-packages\\ecdsa\\ellipticcurve.py:1102\u001b[0m, in \u001b[0;36mPoint.__init__\u001b[1;34m(self, curve, x, y, order)\u001b[0m\n\u001b[0;32m   1100\u001b[0m \u001b[38;5;66;03m# self.curve is allowed to be None only for INFINITY:\u001b[39;00m\n\u001b[0;32m   1101\u001b[0m \u001b[38;5;28;01mif\u001b[39;00m \u001b[38;5;28mself\u001b[39m\u001b[38;5;241m.\u001b[39m__curve:\n\u001b[1;32m-> 1102\u001b[0m     \u001b[38;5;28;01massert\u001b[39;00m \u001b[38;5;28mself\u001b[39m\u001b[38;5;241m.\u001b[39m__curve\u001b[38;5;241m.\u001b[39mcontains_point(x, y)\n\u001b[0;32m   1103\u001b[0m \u001b[38;5;66;03m# for curves with cofactor 1, all points that are on the curve are\u001b[39;00m\n\u001b[0;32m   1104\u001b[0m \u001b[38;5;66;03m# scalar multiples of the base point, so performing multiplication is\u001b[39;00m\n\u001b[0;32m   1105\u001b[0m \u001b[38;5;66;03m# not necessary to verify that. See Section 3.2.2.1 of SEC 1 v2\u001b[39;00m\n\u001b[0;32m   1106\u001b[0m \u001b[38;5;28;01mif\u001b[39;00m curve \u001b[38;5;129;01mand\u001b[39;00m curve\u001b[38;5;241m.\u001b[39mcofactor() \u001b[38;5;241m!=\u001b[39m \u001b[38;5;241m1\u001b[39m \u001b[38;5;129;01mand\u001b[39;00m order:\n",
      "\u001b[1;31mAssertionError\u001b[0m: "
     ]
    }
   ],
   "source": [
    "from ecdsa import ellipticcurve\n",
    "\n",
    "# Define the curve parameters\n",
    "p = 29526661\n",
    "a = 0\n",
    "b = 9040486\n",
    "curve = ellipticcurve.CurveFp(p, a, b)\n",
    "\n",
    "# Define the points on the curve\n",
    "Px = 8160070\n",
    "Py = 13649469\n",
    "P = ellipticcurve.Point(curve, Px, Py)\n",
    "\n",
    "Qx = 1695569\n",
    "Qy = 28093181\n",
    "Q = ellipticcurve.Point(curve, Qx, Qy)\n",
    "\n",
    "# Private key\n",
    "s = 14418581\n",
    "\n",
    "# Calculate the shared secret point S = s * Q\n",
    "S = s * Q\n",
    "\n",
    "# Extract the x-coordinate of the shared secret point\n",
    "shared_secret_x = S.x()\n",
    "\n",
    "# Convert the x-coordinate to a hex string\n",
    "shared_secret_hex = format(shared_secret_x, 'X')\n",
    "\n",
    "# Ensure the hex string is formatted correctly\n",
    "formatted_key = ':'.join(shared_secret_hex[i:i+2] for i in range(0, len(shared_secret_hex), 2))\n",
    "\n",
    "# Display the result\n",
    "print(f\"Recovered partial hex key: {formatted_key}\")\n"
   ]
  },
  {
   "cell_type": "code",
   "execution_count": null,
   "id": "ca0e4b27-13ed-4754-928b-aa67e26c1178",
   "metadata": {},
   "outputs": [],
   "source": []
  }
 ],
 "metadata": {
  "kernelspec": {
   "display_name": "Python 3 (ipykernel)",
   "language": "python",
   "name": "python3"
  },
  "language_info": {
   "codemirror_mode": {
    "name": "ipython",
    "version": 3
   },
   "file_extension": ".py",
   "mimetype": "text/x-python",
   "name": "python",
   "nbconvert_exporter": "python",
   "pygments_lexer": "ipython3",
   "version": "3.11.5"
  }
 },
 "nbformat": 4,
 "nbformat_minor": 5
}
