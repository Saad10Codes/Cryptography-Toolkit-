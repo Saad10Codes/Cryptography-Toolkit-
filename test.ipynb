{
 "cells": [
  {
   "cell_type": "code",
   "execution_count": 1,
   "id": "c7f338f6-e5c6-4924-8ca2-8cf173df7774",
   "metadata": {},
   "outputs": [],
   "source": [
    "from sympy import mod_inverse"
   ]
  },
  {
   "cell_type": "code",
   "execution_count": 4,
   "id": "23e0a6e3-4a4b-4b26-aa88-075f50777f75",
   "metadata": {},
   "outputs": [],
   "source": [
    "def double_point(x,y,a,p):\n",
    "    m = (3 * x**2 + a) * mod_inverse(2 * y, p) % p\n",
    "    x3 = (m**2 - x - x) % p\n",
    "    y3 = (m * (x - x3) - y) % p\n",
    "    return (x3,y3)"
   ]
  },
  {
   "cell_type": "code",
   "execution_count": 5,
   "id": "2cc6ba3e-7e9d-4033-980b-476166484983",
   "metadata": {},
   "outputs": [
    {
     "name": "stdout",
     "output_type": "stream",
     "text": [
      "(431533405883826640720265106051064233758762656048974554568048, 54633359396906083705826900289904079201648170645043617259856)\n"
     ]
    }
   ],
   "source": [
    "x=18446744073709551616\n",
    "y=663271545314189690754141204937684797586435551979845320856062\n",
    "a=2024\n",
    "p=987308279214583009270517326540245456902721241277308160881297\n",
    "n=0\n",
    "# print(add_point(3,6,8,5,1,11))\n",
    "print(double_point(x,y,a,p))"
   ]
  },
  {
   "cell_type": "code",
   "execution_count": 8,
   "id": "7af8a747-ad84-4b18-bdb8-7c6445103365",
   "metadata": {},
   "outputs": [],
   "source": [
    "def add_point(x1,x2,y1,y2,a,p):\n",
    "    m = (y2 - y1) * mod_inverse(x2 - x1, p) % p\n",
    "    x3 = (m**2 - x1 - x1) % p\n",
    "    y3 = (m * (x1 - x3) - y) % p\n",
    "    return (x3,y3)"
   ]
  },
  {
   "cell_type": "code",
   "execution_count": 9,
   "id": "f9ca3422-2a2b-4094-bf60-3df57c34f537",
   "metadata": {},
   "outputs": [
    {
     "name": "stdout",
     "output_type": "stream",
     "text": [
      "(541914226081832810430827111122261493992752777744654569577789, 220282661535805020282568337066823950191637013630023678141507)\n"
     ]
    }
   ],
   "source": [
    "x1, y1 = 18446744073709551616, 663271545314189690754141204937684797586435551979845320856062\n",
    "x2, y2= 431533405883826640720265106051064233758762656048974554568048,54633359396906083705826900289904079201648170645043617259856\n",
    "a = 2024\n",
    "modulus = 987308279214583009270517326540245456902721241277308160881297\n",
    "print(add_point(x1,x2,y1,y2,a,modulus))"
   ]
  },
  {
   "cell_type": "code",
   "execution_count": null,
   "id": "bbf73aae-c202-45ff-8f8d-14f5e3873b84",
   "metadata": {},
   "outputs": [],
   "source": []
  }
 ],
 "metadata": {
  "kernelspec": {
   "display_name": "Python 3 (ipykernel)",
   "language": "python",
   "name": "python3"
  },
  "language_info": {
   "codemirror_mode": {
    "name": "ipython",
    "version": 3
   },
   "file_extension": ".py",
   "mimetype": "text/x-python",
   "name": "python",
   "nbconvert_exporter": "python",
   "pygments_lexer": "ipython3",
   "version": "3.11.5"
  }
 },
 "nbformat": 4,
 "nbformat_minor": 5
}
