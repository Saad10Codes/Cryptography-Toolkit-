{
 "cells": [
  {
   "cell_type": "code",
   "execution_count": 1,
   "id": "611f0fa4",
   "metadata": {},
   "outputs": [],
   "source": [
    "import pandas as pd\n",
    "import numpy as np\n",
    "import matplotlib as plt"
   ]
  },
  {
   "cell_type": "code",
   "execution_count": 2,
   "id": "7ad8539c",
   "metadata": {},
   "outputs": [],
   "source": [
    "with open (\"myfile.txt\") as file:\n",
    "    contents=file.read()"
   ]
  },
  {
   "cell_type": "code",
   "execution_count": 3,
   "id": "143f0e18",
   "metadata": {},
   "outputs": [
    {
     "data": {
      "text/plain": [
       "'first line'"
      ]
     },
     "execution_count": 3,
     "metadata": {},
     "output_type": "execute_result"
    }
   ],
   "source": [
    "contents"
   ]
  },
  {
   "cell_type": "code",
   "execution_count": 4,
   "id": "a77a15b3",
   "metadata": {
    "scrolled": true
   },
   "outputs": [
    {
     "name": "stdout",
     "output_type": "stream",
     "text": [
      "1 2 4 5\n"
     ]
    },
    {
     "ename": "ValueError",
     "evalue": "invalid literal for int() with base 10: '1 2 4 5'",
     "output_type": "error",
     "traceback": [
      "\u001b[1;31m---------------------------------------------------------------------------\u001b[0m",
      "\u001b[1;31mValueError\u001b[0m                                Traceback (most recent call last)",
      "\u001b[1;32m<ipython-input-4-93ea2f78e94f>\u001b[0m in \u001b[0;36m<module>\u001b[1;34m\u001b[0m\n\u001b[1;32m----> 1\u001b[1;33m \u001b[0mx\u001b[0m\u001b[1;33m=\u001b[0m\u001b[0mint\u001b[0m\u001b[1;33m(\u001b[0m\u001b[0minput\u001b[0m\u001b[1;33m(\u001b[0m\u001b[1;33m)\u001b[0m\u001b[1;33m)\u001b[0m\u001b[1;33m\u001b[0m\u001b[1;33m\u001b[0m\u001b[0m\n\u001b[0m\u001b[0;32m      2\u001b[0m \u001b[0ml\u001b[0m\u001b[1;33m=\u001b[0m\u001b[0minput\u001b[0m\u001b[1;33m(\u001b[0m\u001b[1;33m)\u001b[0m\u001b[1;33m.\u001b[0m\u001b[0msplit\u001b[0m\u001b[1;33m(\u001b[0m\u001b[1;33m)\u001b[0m\u001b[1;33m\u001b[0m\u001b[1;33m\u001b[0m\u001b[0m\n\u001b[0;32m      3\u001b[0m \u001b[0mli\u001b[0m\u001b[1;33m=\u001b[0m\u001b[1;33m[\u001b[0m\u001b[1;33m]\u001b[0m\u001b[1;33m\u001b[0m\u001b[1;33m\u001b[0m\u001b[0m\n\u001b[0;32m      4\u001b[0m \u001b[1;32mfor\u001b[0m \u001b[0mi\u001b[0m \u001b[1;32min\u001b[0m \u001b[0ml\u001b[0m\u001b[1;33m:\u001b[0m\u001b[1;33m\u001b[0m\u001b[1;33m\u001b[0m\u001b[0m\n\u001b[0;32m      5\u001b[0m     \u001b[0mli\u001b[0m\u001b[1;33m.\u001b[0m\u001b[0mappend\u001b[0m\u001b[1;33m(\u001b[0m\u001b[0mint\u001b[0m\u001b[1;33m(\u001b[0m\u001b[0mi\u001b[0m\u001b[1;33m)\u001b[0m\u001b[1;33m)\u001b[0m\u001b[1;33m\u001b[0m\u001b[1;33m\u001b[0m\u001b[0m\n",
      "\u001b[1;31mValueError\u001b[0m: invalid literal for int() with base 10: '1 2 4 5'"
     ]
    }
   ],
   "source": [
    "x=int(input())\n",
    "l=input().split()\n",
    "li=[]\n",
    "for i in l:\n",
    "    li.append(int(i))\n",
    "bool=False\n",
    "for i in li:\n",
    "    if i==x:\n",
    "        bool=True\n",
    "        break\n",
    "print(bool)"
   ]
  },
  {
   "cell_type": "code",
   "execution_count": null,
   "id": "34b8101d",
   "metadata": {},
   "outputs": [],
   "source": [
    "for i,j in enumerate(\"abcde\"):\n",
    "    print(i)\n",
    "    print(j)"
   ]
  },
  {
   "cell_type": "code",
   "execution_count": null,
   "id": "ca67421f",
   "metadata": {},
   "outputs": [],
   "source": [
    "s=set(\"aaavvvvddddd\")"
   ]
  },
  {
   "cell_type": "code",
   "execution_count": null,
   "id": "f75591fd",
   "metadata": {},
   "outputs": [],
   "source": [
    "print(s)"
   ]
  },
  {
   "cell_type": "code",
   "execution_count": null,
   "id": "f36feddd",
   "metadata": {},
   "outputs": [],
   "source": [
    "l1=[1,2,3,4,5]\n",
    "l2=['a','b','c','d','e']\n",
    "l3=list(zip(l1,l2))"
   ]
  },
  {
   "cell_type": "code",
   "execution_count": null,
   "id": "f374d55c",
   "metadata": {},
   "outputs": [],
   "source": [
    "print(l3)"
   ]
  },
  {
   "cell_type": "code",
   "execution_count": null,
   "id": "acbb0da2",
   "metadata": {},
   "outputs": [],
   "source": [
    "from random import randint"
   ]
  },
  {
   "cell_type": "code",
   "execution_count": null,
   "id": "b95d0af0",
   "metadata": {},
   "outputs": [],
   "source": [
    "print(randint(1,10))"
   ]
  },
  {
   "cell_type": "code",
   "execution_count": null,
   "id": "247d9a54",
   "metadata": {},
   "outputs": [],
   "source": [
    "li=[int(i) for i in input().split()]"
   ]
  },
  {
   "cell_type": "code",
   "execution_count": null,
   "id": "16babc54",
   "metadata": {},
   "outputs": [],
   "source": [
    "print(li)"
   ]
  },
  {
   "cell_type": "code",
   "execution_count": null,
   "id": "70e28928",
   "metadata": {},
   "outputs": [],
   "source": [
    "li=[x if x%2==0 else \"odd\" for x in range(100)]"
   ]
  },
  {
   "cell_type": "code",
   "execution_count": null,
   "id": "a301ceda",
   "metadata": {},
   "outputs": [],
   "source": [
    "print(li)"
   ]
  },
  {
   "cell_type": "code",
   "execution_count": null,
   "id": "e4bade2c",
   "metadata": {},
   "outputs": [],
   "source": [
    "string=\"sdkjgbdlhgbs\"\n",
    "string2=\"\"\n",
    "string2+=string[i].upper() if i%2==1 else string[i] "
   ]
  },
  {
   "cell_type": "code",
   "execution_count": null,
   "id": "cbceea4c",
   "metadata": {},
   "outputs": [],
   "source": [
    "print(string2)"
   ]
  },
  {
   "cell_type": "code",
   "execution_count": null,
   "id": "5944e61e",
   "metadata": {},
   "outputs": [],
   "source": [
    "def myfunc(string):\n",
    "    li=[string[i].upper() if i%2==1 else string[i] for i in range(0,len(string))]\n",
    "    string2=\"\".join(map(str,li))\n",
    "    return string2"
   ]
  },
  {
   "cell_type": "code",
   "execution_count": null,
   "id": "ac131eca",
   "metadata": {},
   "outputs": [],
   "source": [
    "print(myfunc(\"akelhgbsfli\"))"
   ]
  },
  {
   "cell_type": "code",
   "execution_count": null,
   "id": "596914c5",
   "metadata": {},
   "outputs": [],
   "source": [
    "def square(e):\n",
    "    return e*e"
   ]
  },
  {
   "cell_type": "code",
   "execution_count": null,
   "id": "47cb315d",
   "metadata": {},
   "outputs": [],
   "source": [
    "string='1 2 3 4 5 6'.split()\n",
    "li=list(map(int,string))\n",
    "li1=list(map(lambda x: x if x%2==0 else x**2, li))\n",
    "print(li1)"
   ]
  },
  {
   "cell_type": "code",
   "execution_count": null,
   "id": "fa44e9c5",
   "metadata": {},
   "outputs": [],
   "source": [
    "def check_even(num):\n",
    "    return num%2==0"
   ]
  },
  {
   "cell_type": "code",
   "execution_count": null,
   "id": "f7ffd08f",
   "metadata": {},
   "outputs": [],
   "source": [
    "li1=[1,3,4,4,5,6,6,6,7]\n",
    "li=list(filter(check_even,li1))"
   ]
  },
  {
   "cell_type": "code",
   "execution_count": null,
   "id": "a51f7f3a",
   "metadata": {},
   "outputs": [],
   "source": [
    "print(li)"
   ]
  },
  {
   "cell_type": "code",
   "execution_count": null,
   "id": "9a39dbb8",
   "metadata": {},
   "outputs": [],
   "source": [
    "class Dog():\n",
    "    gr='mammal'\n",
    "    def __init__(self,breed,weight):\n",
    "        self.breed=breed\n",
    "        self.weight=weight\n",
    "        self.brw=breed+str(weight)\n",
    "    def printer(self):\n",
    "        print(\"breed is {} and brw is {} type is {}\".format(self.breed,self.brw,self.gr))"
   ]
  },
  {
   "cell_type": "code",
   "execution_count": null,
   "id": "ebb01dec",
   "metadata": {},
   "outputs": [],
   "source": [
    "d=Dog('lab',40)"
   ]
  },
  {
   "cell_type": "code",
   "execution_count": null,
   "id": "43f0bf7e",
   "metadata": {},
   "outputs": [],
   "source": [
    "d.gr"
   ]
  },
  {
   "cell_type": "code",
   "execution_count": null,
   "id": "44a7e0f3",
   "metadata": {},
   "outputs": [],
   "source": [
    "d.printer()"
   ]
  },
  {
   "cell_type": "code",
   "execution_count": null,
   "id": "4397719d",
   "metadata": {},
   "outputs": [],
   "source": [
    "class Cylinder():\n",
    "    def __init__(self,radius,length):\n",
    "        self.radius=radius\n",
    "        self.length=length\n",
    "    def area(self):\n",
    "        return 3.14*self.radius*self.length\n",
    "    "
   ]
  },
  {
   "cell_type": "code",
   "execution_count": null,
   "id": "0e88ffe8",
   "metadata": {},
   "outputs": [],
   "source": [
    "c=Cylinder(4,8)"
   ]
  },
  {
   "cell_type": "code",
   "execution_count": null,
   "id": "e8185f53",
   "metadata": {},
   "outputs": [],
   "source": [
    "c.area()"
   ]
  },
  {
   "cell_type": "code",
   "execution_count": null,
   "id": "bfadaf98",
   "metadata": {},
   "outputs": [],
   "source": [
    "class Shape():\n",
    "    def area(self):\n",
    "        raise NotImplementedError(\"Abract!!!\")\n",
    "        \n",
    "class Square(Shape):\n",
    "    def __init__(self,a):\n",
    "        self.a=a\n",
    "    def area(self):\n",
    "        return self.a*self.a\n",
    "class Rectangle(Shape):\n",
    "    def __init__(self,l,b):\n",
    "        self.l=l\n",
    "        self.b=b\n",
    "        \n",
    "    def area(self):\n",
    "        return self.l*self.b"
   ]
  },
  {
   "cell_type": "code",
   "execution_count": null,
   "id": "3e6be8ae",
   "metadata": {},
   "outputs": [],
   "source": [
    "s=Square(5)\n",
    "r=Rectangle(4,6)"
   ]
  },
  {
   "cell_type": "code",
   "execution_count": null,
   "id": "3b266287",
   "metadata": {},
   "outputs": [],
   "source": [
    "print(s.area())"
   ]
  },
  {
   "cell_type": "code",
   "execution_count": null,
   "id": "737c3fa6",
   "metadata": {},
   "outputs": [],
   "source": [
    "print(r.area())"
   ]
  },
  {
   "cell_type": "code",
   "execution_count": null,
   "id": "64dd2365",
   "metadata": {},
   "outputs": [],
   "source": []
  }
 ],
 "metadata": {
  "kernelspec": {
   "display_name": "Python 3",
   "language": "python",
   "name": "python3"
  },
  "language_info": {
   "codemirror_mode": {
    "name": "ipython",
    "version": 3
   },
   "file_extension": ".py",
   "mimetype": "text/x-python",
   "name": "python",
   "nbconvert_exporter": "python",
   "pygments_lexer": "ipython3",
   "version": "3.8.8"
  }
 },
 "nbformat": 4,
 "nbformat_minor": 5
}
