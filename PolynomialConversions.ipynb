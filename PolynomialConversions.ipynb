{
 "cells": [
  {
   "cell_type": "code",
   "execution_count": 11,
   "id": "5ebdeb76-e891-4a0f-8407-c67324e363a0",
   "metadata": {},
   "outputs": [
    {
     "name": "stdout",
     "output_type": "stream",
     "text": [
      "0x100000000000000000000000000000173\n"
     ]
    }
   ],
   "source": [
    "import binascii\n",
    "\n",
    "def get_bin(polynomial):\n",
    "    terms = polynomial.split('+')\n",
    "    terms = [term.strip() for term in terms]\n",
    "\n",
    "    # Determine the highest degree\n",
    "    highest_degree = 0\n",
    "    for term in terms:\n",
    "        if '^' in term:\n",
    "            degree = int(term.split('^')[1])\n",
    "        else:\n",
    "            degree = 1 if 'x' in term else 0\n",
    "        if degree > highest_degree:\n",
    "            highest_degree = degree\n",
    "\n",
    "    # Create binary array\n",
    "    bin_array = [0] * (highest_degree + 1)\n",
    "    for term in terms:\n",
    "        if '^' in term:\n",
    "            degree = int(term.split('^')[1])\n",
    "        elif 'x' in term:\n",
    "            degree = 1\n",
    "        else:\n",
    "            degree = 0\n",
    "        bin_array[degree] = 1\n",
    "\n",
    "    # Construct binary string\n",
    "    bin_string = ''.join(str(bit) for bit in reversed(bin_array))\n",
    "    bin_value=int(bin_string,2)\n",
    "    return bin_value\n",
    "\n",
    "# Example usage \n",
    "print(hex(get_bin(\"x^128 + x^8 + x^6 + x^5 + x^4 + x^1 + x^0\")))"
   ]
  },
  {
   "cell_type": "code",
   "execution_count": 2,
   "id": "88b81ce3-dc99-4b28-b91f-6fbb88c089bb",
   "metadata": {},
   "outputs": [
    {
     "name": "stdout",
     "output_type": "stream",
     "text": [
      "129\n"
     ]
    }
   ],
   "source": [
    "print(len('100000000000000000000000000000000000000000000000000000000000000000000000000000000000000000000000000000000000000000000000101110011'))"
   ]
  },
  {
   "cell_type": "code",
   "execution_count": null,
   "id": "b2ac6194-80ee-46e0-a095-9757cf46f76d",
   "metadata": {},
   "outputs": [],
   "source": []
  }
 ],
 "metadata": {
  "kernelspec": {
   "display_name": "Python 3 (ipykernel)",
   "language": "python",
   "name": "python3"
  },
  "language_info": {
   "codemirror_mode": {
    "name": "ipython",
    "version": 3
   },
   "file_extension": ".py",
   "mimetype": "text/x-python",
   "name": "python",
   "nbconvert_exporter": "python",
   "pygments_lexer": "ipython3",
   "version": "3.11.5"
  }
 },
 "nbformat": 4,
 "nbformat_minor": 5
}
