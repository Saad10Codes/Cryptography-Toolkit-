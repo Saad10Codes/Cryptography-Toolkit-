{
 "cells": [
  {
   "cell_type": "code",
   "execution_count": 2,
   "id": "fd5593f8-73ed-4a65-ad1d-94a456f0b9df",
   "metadata": {},
   "outputs": [
    {
     "name": "stdout",
     "output_type": "stream",
     "text": [
      "PIN found: ()!\n"
     ]
    }
   ],
   "source": [
    "import hashlib\n",
    "import base64\n",
    "import itertools\n",
    "\n",
    "# Given data\n",
    "text = \"This is the message to Keccak-512 MAC\"\n",
    "known_mac_base64 = \"6P9c8GDP31jtJ7dAW3E2YRKa+ntW3YQd+dL55bOMu4Qa8LhA0GF4LMZqtzWQlSDxqrn1gacjC3lIUurKUeWm8w==\"\n",
    "known_pin_start = \"!\"\n",
    "\n",
    "# Convert the base64-encoded MAC to bytes\n",
    "known_mac_bytes = base64.b64decode(known_mac_base64)\n",
    "\n",
    "# Function to hash a string with SHA-1 and return bytes\n",
    "def sha1_hash(string):\n",
    "    return hashlib.sha3_512(string.encode()).digest()\n",
    "\n",
    "# ASCII range to check (up to decimal 50)\n",
    "ascii_range = range(33, 51)  # Starting from 33 to exclude space\n",
    "\n",
    "# Brute-force the remaining three characters of the pin\n",
    "for combo in itertools.product(ascii_range, repeat=3):\n",
    "    pin = known_pin_start + ''.join(map(chr, combo))\n",
    "    full_text = text + pin\n",
    "    hashed = sha1_hash(full_text)\n",
    "\n",
    "    if hashed == known_mac_bytes:\n",
    "        print(\"PIN found:\", pin[1:])  # Exclude the known first character\n",
    "        break\n"
   ]
  },
  {
   "cell_type": "code",
   "execution_count": null,
   "id": "ab3db6aa-7984-4146-b888-c5ccca3e3fe2",
   "metadata": {},
   "outputs": [],
   "source": []
  }
 ],
 "metadata": {
  "kernelspec": {
   "display_name": "Python 3 (ipykernel)",
   "language": "python",
   "name": "python3"
  },
  "language_info": {
   "codemirror_mode": {
    "name": "ipython",
    "version": 3
   },
   "file_extension": ".py",
   "mimetype": "text/x-python",
   "name": "python",
   "nbconvert_exporter": "python",
   "pygments_lexer": "ipython3",
   "version": "3.11.5"
  }
 },
 "nbformat": 4,
 "nbformat_minor": 5
}
