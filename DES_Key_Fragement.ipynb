{
 "cells": [
  {
   "cell_type": "code",
   "execution_count": 5,
   "id": "154445af-6222-44ef-a23f-9805d3a57f9b",
   "metadata": {},
   "outputs": [
    {
     "name": "stdout",
     "output_type": "stream",
     "text": [
      "b'\\xaa\\xaa\\xaa\\xaa\\xaa\\xaa'\n",
      "('0xc0', '0xde')\n"
     ]
    }
   ],
   "source": [
    "from Crypto.Cipher import DES\n",
    "from Crypto.Util.Padding import pad, unpad\n",
    "from base64 import b64decode,b64encode\n",
    "\n",
    "def key_fragment(cipherText='',plainText=''):\n",
    "    fragment='AAAAAAAAAAAA'\n",
    "    key_bytes_fragment = bytes.fromhex(fragment)\n",
    "    \n",
    "    print(key_bytes_fragment)\n",
    "    \n",
    "    for byte1 in range(256):\n",
    "        for byte2 in range(256):\n",
    "            # Create the full key by adding the current combination of bytes to the key fragment\n",
    "            missing_bytes = bytes([byte1, byte2])\n",
    "            full_key = key_bytes_fragment + missing_bytes\n",
    "\n",
    "            # Initialize AES cipher in ECB mode with the full key\n",
    "            cipher = DES.new(full_key, DES.MODE_ECB)\n",
    "            plain_bytes=plainText.encode('utf-8')\n",
    "            padded_plain_bytes=pad(plain_bytes ,DES.block_size)\n",
    "            generated_cipher_bytes=cipher.encrypt(padded_plain_bytes)\n",
    "            generated_cipherText = b64encode(generated_cipher_bytes).decode('utf-8')\n",
    "                \n",
    "            if(generated_cipherText==cipherText):\n",
    "                return (hex(byte1), hex(byte2))\n",
    "            # print(f\"Trying key: {full_key.hex()}\")\n",
    "            # print(f\"Generated Ciphertext: {generated_cipherText}\")\n",
    "            # print(f\"Given Ciphertext: {cipherText}\",'\\n\\n')\n",
    "\n",
    "print(key_fragment('NuhXLH6RVLs=','jan11'))"
   ]
  },
  {
   "cell_type": "code",
   "execution_count": null,
   "id": "cd2bdac2-2ade-4c23-bcab-81c9ec6c1cd2",
   "metadata": {},
   "outputs": [],
   "source": []
  }
 ],
 "metadata": {
  "kernelspec": {
   "display_name": "Python 3 (ipykernel)",
   "language": "python",
   "name": "python3"
  },
  "language_info": {
   "codemirror_mode": {
    "name": "ipython",
    "version": 3
   },
   "file_extension": ".py",
   "mimetype": "text/x-python",
   "name": "python",
   "nbconvert_exporter": "python",
   "pygments_lexer": "ipython3",
   "version": "3.11.5"
  }
 },
 "nbformat": 4,
 "nbformat_minor": 5
}
